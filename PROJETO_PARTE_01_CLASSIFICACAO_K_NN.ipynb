{
  "nbformat": 4,
  "nbformat_minor": 0,
  "metadata": {
    "colab": {
      "name": "PROJETO_PARTE_01_CLASSIFICACAO_K-NN.ipynb",
      "provenance": [],
      "collapsed_sections": []
    },
    "kernelspec": {
      "name": "python3",
      "display_name": "Python 3"
    },
    "language_info": {
      "name": "python"
    }
  },
  "cells": [
    {
      "cell_type": "markdown",
      "metadata": {
        "id": "4nTkdpB0fW_E"
      },
      "source": [
        "<center><img src=\"https://raw.githubusercontent.com/rafael-arevalo/orbeai/master/Logo-Orbe-sem-fundo.png\" height=\"300px\"></center>\n",
        "\n",
        "\n",
        "# **PROJETO (parte 01): modelo de *Machine Learning* para tarefa de classificação.**\n",
        "\n"
      ]
    },
    {
      "cell_type": "markdown",
      "metadata": {
        "id": "W9MyNYeCf7o-"
      },
      "source": [
        " - Observação: iremos usar o roteiro de projeto para ciência de dados (CRISP-DM) e por isso iremos inserir algumas imagens ao longo do projeto para ilustrar cada etapa do projeto.\n",
        "\n",
        "\n",
        " <center><img src=\"https://raw.githubusercontent.com/rafael-arevalo/orbeai/master/M06_CRISP-DM_01_GERAL.png\" height=\"300px\"></center>"
      ]
    },
    {
      "cell_type": "markdown",
      "metadata": {
        "id": "TvJClgsKISGU"
      },
      "source": [
        "## **01.COMPREENSÃO DO NEGÓCIO.**\n"
      ]
    },
    {
      "cell_type": "markdown",
      "metadata": {
        "id": "yRaTLNJY6UDd"
      },
      "source": [
        " <center><img src=\"https://raw.githubusercontent.com/rafael-arevalo/orbeai/master/M06_CRISP-DM_02_COMPREENSAO_DO_NEGOCIO.png\" height=\"300px\"></center>\n",
        "\n",
        "Construir um modelo de *machine learning* que classifique os clientes que pedem empréstimo como:\n",
        "\n",
        "- Clientes **adimplentes** (pagam o empréstimo)\n",
        "\n",
        "- Clientes **inadimplentes** (não pagam o empréstimo).\n"
      ]
    },
    {
      "cell_type": "markdown",
      "metadata": {
        "id": "rviAlLDIImF4"
      },
      "source": [
        "## **02.COMPREENSÃO DOS DADOS.**"
      ]
    },
    {
      "cell_type": "markdown",
      "metadata": {
        "id": "CuoAkPlDn6gf"
      },
      "source": [
        " <center><img src=\"https://raw.githubusercontent.com/rafael-arevalo/orbeai/master/M06_CRISP-DM_03_COMNPREENSAO_DOS_DADOS.png\" height=\"300px\"></center>"
      ]
    },
    {
      "cell_type": "markdown",
      "metadata": {
        "id": "ZlAolVaFJFEU"
      },
      "source": [
        "### **02.a.Importar as bibliotecas necessárias.**"
      ]
    },
    {
      "cell_type": "markdown",
      "metadata": {
        "id": "G7iYDqcO6hjZ"
      },
      "source": [
        "Vamos importar as seguintes bibliotecas:\n",
        "\n",
        "- **Pandas:** para trabalhar com os dados.\n",
        "- **Matplotlib:** para visualizar dados.\n",
        "- **Ploty:** para visualizar dados.\n",
        "\n",
        "```\n",
        "import pandas as pd\n",
        "import matplotlib.pyplot as plt\n",
        "import plotly.express as px\n",
        "\n",
        "```"
      ]
    },
    {
      "cell_type": "code",
      "metadata": {
        "id": "WPj0Ts0rIoxw"
      },
      "source": [
        "# IMPORTAR BIBLIOTECAS NECESSÁRIAS.\n",
        "import pandas as pd\n",
        "import matplotlib.pyplot as plt\n",
        "import plotly.express as px"
      ],
      "execution_count": null,
      "outputs": []
    },
    {
      "cell_type": "markdown",
      "metadata": {
        "id": "AUqGEWxaI_8A"
      },
      "source": [
        "### **02.b.Importar *dataset* e criar *DataFrame*.**"
      ]
    },
    {
      "cell_type": "markdown",
      "metadata": {
        "id": "6Nyq73Ou69ua"
      },
      "source": [
        "- Importar do *dataset* **\"dados_de_credito.csv\"** e criar um *DataFrame*.\n",
        "\n",
        "\n",
        "```\n",
        "df = pd.read_csv('/content/dados_de_credito.csv')\n",
        "```"
      ]
    },
    {
      "cell_type": "code",
      "metadata": {
        "id": "qi4Ay97YkWk0"
      },
      "source": [
        "# CRIANDO O DATAFRAME DE CREDITO\n",
        "df = pd.read_csv('/content/dados_de_credito.csv')"
      ],
      "execution_count": null,
      "outputs": []
    },
    {
      "cell_type": "markdown",
      "metadata": {
        "id": "t8YgnP4UJg2b"
      },
      "source": [
        "### **02.c.Ver os atributos e as primeiras linhas do *DataFrame*.**"
      ]
    },
    {
      "cell_type": "markdown",
      "metadata": {
        "id": "SmLD9iQn7clK"
      },
      "source": [
        "- Visualizar as primeiras linhas do *DataFrame* com o método **`head( )`**.\n",
        "\n",
        "````\n",
        "df.head( )\n",
        "````\n"
      ]
    },
    {
      "cell_type": "code",
      "metadata": {
        "colab": {
          "base_uri": "https://localhost:8080/",
          "height": 203
        },
        "id": "tcXIJ-EyJp_j",
        "outputId": "bc7bf581-48e8-4fd3-9a04-5197c3ab642f"
      },
      "source": [
        "# PRIMEIRAS LINHAS\n",
        "df.head()"
      ],
      "execution_count": null,
      "outputs": [
        {
          "output_type": "execute_result",
          "data": {
            "text/html": [
              "<div>\n",
              "<style scoped>\n",
              "    .dataframe tbody tr th:only-of-type {\n",
              "        vertical-align: middle;\n",
              "    }\n",
              "\n",
              "    .dataframe tbody tr th {\n",
              "        vertical-align: top;\n",
              "    }\n",
              "\n",
              "    .dataframe thead th {\n",
              "        text-align: right;\n",
              "    }\n",
              "</style>\n",
              "<table border=\"1\" class=\"dataframe\">\n",
              "  <thead>\n",
              "    <tr style=\"text-align: right;\">\n",
              "      <th></th>\n",
              "      <th>clientid</th>\n",
              "      <th>income</th>\n",
              "      <th>age</th>\n",
              "      <th>loan</th>\n",
              "      <th>default</th>\n",
              "    </tr>\n",
              "  </thead>\n",
              "  <tbody>\n",
              "    <tr>\n",
              "      <th>0</th>\n",
              "      <td>1.0</td>\n",
              "      <td>66155.93</td>\n",
              "      <td>59.02</td>\n",
              "      <td>8106.53</td>\n",
              "      <td>0.0</td>\n",
              "    </tr>\n",
              "    <tr>\n",
              "      <th>1</th>\n",
              "      <td>2.0</td>\n",
              "      <td>34415.15</td>\n",
              "      <td>48.12</td>\n",
              "      <td>6564.75</td>\n",
              "      <td>0.0</td>\n",
              "    </tr>\n",
              "    <tr>\n",
              "      <th>2</th>\n",
              "      <td>3.0</td>\n",
              "      <td>57317.17</td>\n",
              "      <td>63.11</td>\n",
              "      <td>8020.95</td>\n",
              "      <td>0.0</td>\n",
              "    </tr>\n",
              "    <tr>\n",
              "      <th>3</th>\n",
              "      <td>4.0</td>\n",
              "      <td>42709.53</td>\n",
              "      <td>45.75</td>\n",
              "      <td>6103.64</td>\n",
              "      <td>0.0</td>\n",
              "    </tr>\n",
              "    <tr>\n",
              "      <th>4</th>\n",
              "      <td>5.0</td>\n",
              "      <td>66952.69</td>\n",
              "      <td>18.58</td>\n",
              "      <td>8770.10</td>\n",
              "      <td>1.0</td>\n",
              "    </tr>\n",
              "  </tbody>\n",
              "</table>\n",
              "</div>"
            ],
            "text/plain": [
              "   clientid    income    age     loan  default\n",
              "0       1.0  66155.93  59.02  8106.53      0.0\n",
              "1       2.0  34415.15  48.12  6564.75      0.0\n",
              "2       3.0  57317.17  63.11  8020.95      0.0\n",
              "3       4.0  42709.53  45.75  6103.64      0.0\n",
              "4       5.0  66952.69  18.58  8770.10      1.0"
            ]
          },
          "metadata": {
            "tags": []
          },
          "execution_count": 3
        }
      ]
    },
    {
      "cell_type": "markdown",
      "metadata": {
        "id": "P3zooL-GwKrX"
      },
      "source": [
        "### **02.d.Alterar os nomes dos atributos para língua portuguesa.**"
      ]
    },
    {
      "cell_type": "markdown",
      "metadata": {
        "id": "QO0m3Wcx7p-Q"
      },
      "source": [
        "- Isso poderá nos deixar mais confortável com os vocabulários ao longo do projeto.\n",
        "\n",
        "- Alterar os nomes dos atributos com o método **`rename( )`**:\n",
        "\n",
        " - Usar um dicionário onde a **chave** do item do dicionário será o valor atual do atributo e o **valor** do item será o novo valor (nome do atributo traduzido para língua portuguesa).\n",
        "\n",
        "````\n",
        "df.rename(columns={\"clientid\":'clientid',\n",
        "                   'income': 'SALARIO',\n",
        "                   'age':'IDADE',\n",
        "                   'loan':'EMPRESTIMO',\n",
        "                   'default':'INADIMPLENTE'}, inplace=True)\n",
        "````\n"
      ]
    },
    {
      "cell_type": "code",
      "metadata": {
        "id": "JYfzI-gIJtpk"
      },
      "source": [
        "# TROCANDO OS NOMES DOS ATRIBUTOS\n",
        "df.rename(columns={\"clientid\":'clientid',\n",
        "                   'income': 'SALARIO',\n",
        "                   'age':'IDADE',\n",
        "                   'loan':'EMPRESTIMO',\n",
        "                   'default':'INADIMPLENCIA'}, inplace=True)"
      ],
      "execution_count": null,
      "outputs": []
    },
    {
      "cell_type": "markdown",
      "metadata": {
        "id": "xSTm8fuJxl-u"
      },
      "source": [
        "### **02.e.Dicionário dos atributos.**"
      ]
    },
    {
      "cell_type": "markdown",
      "metadata": {
        "id": "I0H0cgl4xqAx"
      },
      "source": [
        "- Construir um dicionário com o significado de cada atributo.\n",
        "\n",
        "- Isso é muito importante para entendermos o que cada atributo significa, principalmente quando o *DataFrame* possui dados de áreas de conhecimento que não conhecemos muito.\n",
        "\n",
        "- **Dicionário de atributos:**\n",
        "\n",
        " - **`clientid`**: identidade do cliente.\n",
        "   - É um número único para cada cliente, assim como cada um tem um número de RG único.\n",
        " - **`SALARIO`**: salário anual do cliente.\n",
        " - **`IDADE`**: idade do cliente.\n",
        " - **`EMPRESTIMO`**: valor do empréstimo cedido ao cliente.\n",
        " - **`INADIMPLENCIA`**: indica se o cliente é ou não inadimplemte (não paga o empréstimo).\n",
        "   - 0 = adimplente (paga o empréstimo).\n",
        "   - 1 = inadimplemnte (não paga o empréstimo). "
      ]
    },
    {
      "cell_type": "markdown",
      "metadata": {
        "id": "GcXImcrqw8uH"
      },
      "source": [
        "### **02.f.Entender o formato do *DataFrame*.**"
      ]
    },
    {
      "cell_type": "markdown",
      "metadata": {
        "id": "g6yrqlCi8C8_"
      },
      "source": [
        "- Entender o formado do *DataFrame* com a propriedade **`shape`**.\n",
        "\n",
        "````\n",
        "df.shape\n",
        "````"
      ]
    },
    {
      "cell_type": "code",
      "metadata": {
        "colab": {
          "base_uri": "https://localhost:8080/"
        },
        "id": "_LBB9fIyLXxx",
        "outputId": "1806881a-399e-454a-bdaa-32dcfa5e0143"
      },
      "source": [
        "# FORMATO DO DATAFRAME\n",
        "df.shape"
      ],
      "execution_count": null,
      "outputs": [
        {
          "output_type": "execute_result",
          "data": {
            "text/plain": [
              "(2000, 5)"
            ]
          },
          "metadata": {
            "tags": []
          },
          "execution_count": 5
        }
      ]
    },
    {
      "cell_type": "markdown",
      "metadata": {
        "id": "aGvF7KvwxKt6"
      },
      "source": [
        "### **02.g.Entender o tipo de dado de cada atributo.**"
      ]
    },
    {
      "cell_type": "markdown",
      "metadata": {
        "id": "qooQh9k98SB5"
      },
      "source": [
        "- Entender os tipos de dados de cada atributo com a propriedade **`dtypes`**.\n",
        "\n",
        "````\n",
        "df.dtypes\n",
        "````\n"
      ]
    },
    {
      "cell_type": "code",
      "metadata": {
        "colab": {
          "base_uri": "https://localhost:8080/"
        },
        "id": "LS47T4LkLhhd",
        "outputId": "76e3773d-335c-4941-d103-c31464a2ba02"
      },
      "source": [
        "# TIPOS DE DADOS DO ATRIBUTO\n",
        "df.dtypes"
      ],
      "execution_count": null,
      "outputs": [
        {
          "output_type": "execute_result",
          "data": {
            "text/plain": [
              "clientid         float64\n",
              "SALARIO          float64\n",
              "IDADE            float64\n",
              "EMPRESTIMO       float64\n",
              "INADIMPLENCIA    float64\n",
              "dtype: object"
            ]
          },
          "metadata": {
            "tags": []
          },
          "execution_count": 6
        }
      ]
    },
    {
      "cell_type": "markdown",
      "metadata": {
        "id": "igywifHuxXK4"
      },
      "source": [
        "### **02.h.Verificar se há valores ausentes em cada atributo.**"
      ]
    },
    {
      "cell_type": "markdown",
      "metadata": {
        "id": "Ho1Y3Qlw8gD8"
      },
      "source": [
        "- Verificar valores ausentes com os métodos **`isnull()`** e **`sum()`**.\n",
        "\n",
        "````\n",
        "df.isnull().sum()\n",
        "````\n"
      ]
    },
    {
      "cell_type": "code",
      "metadata": {
        "colab": {
          "base_uri": "https://localhost:8080/"
        },
        "id": "PhsdIkYYRjNh",
        "outputId": "d7d3d359-a299-404d-eadc-cb1845e1f1ad"
      },
      "source": [
        "# VERIFICANDO VALORES AUSENTES\n",
        "df.isnull().sum()"
      ],
      "execution_count": null,
      "outputs": [
        {
          "output_type": "execute_result",
          "data": {
            "text/plain": [
              "clientid         0\n",
              "SALARIO          0\n",
              "IDADE            3\n",
              "EMPRESTIMO       0\n",
              "INADIMPLENCIA    0\n",
              "dtype: int64"
            ]
          },
          "metadata": {
            "tags": []
          },
          "execution_count": 7
        }
      ]
    },
    {
      "cell_type": "markdown",
      "metadata": {
        "id": "neYR_n1Hzeqw"
      },
      "source": [
        "### **02.i.Entender os valores únicos do atributo alvo INADIMPLENCIA.**"
      ]
    },
    {
      "cell_type": "markdown",
      "metadata": {
        "id": "z0GfETPq8vXP"
      },
      "source": [
        "- Entender os valores únicos do atributo **`INADIMPLENCIA`** com o método **`unique( )`**.\n",
        "\n",
        "````\n",
        "df.INADIMPLENCIA.unique()\n",
        "````\n"
      ]
    },
    {
      "cell_type": "code",
      "metadata": {
        "colab": {
          "base_uri": "https://localhost:8080/"
        },
        "id": "WF0IszaRLwAL",
        "outputId": "7c75aed2-7559-4478-e582-171c15c3cd46"
      },
      "source": [
        "# VALORES ÚNICOS DO ATRIBUTO ALVO\n",
        "df.INADIMPLENCIA.unique()"
      ],
      "execution_count": null,
      "outputs": [
        {
          "output_type": "execute_result",
          "data": {
            "text/plain": [
              "array([0., 1.])"
            ]
          },
          "metadata": {
            "tags": []
          },
          "execution_count": 8
        }
      ]
    },
    {
      "cell_type": "markdown",
      "metadata": {
        "id": "RxvmAHU4zxCw"
      },
      "source": [
        "### **02.j.Entender a quantidade de cada classe do atributo alvo `INADIMPLENCIA`.**"
      ]
    },
    {
      "cell_type": "markdown",
      "metadata": {
        "id": "Rm0mjGMX8-Qf"
      },
      "source": [
        "- Contar a quantidade de cada valor do atributo **`INADIMPLENCIA`**.\n",
        "\n",
        "````\n",
        "df.INADIMPLENCIA.value_counts()\n",
        "````\n"
      ]
    },
    {
      "cell_type": "code",
      "metadata": {
        "colab": {
          "base_uri": "https://localhost:8080/"
        },
        "id": "egGoiaD_MNn9",
        "outputId": "89c84512-11a9-4a11-dbfd-b2adf57e559c"
      },
      "source": [
        "# CONTAR VALORES DO ATRIBUTO ALVO.\n",
        "df.INADIMPLENCIA.value_counts()"
      ],
      "execution_count": null,
      "outputs": [
        {
          "output_type": "execute_result",
          "data": {
            "text/plain": [
              "0.0    1717\n",
              "1.0     283\n",
              "Name: INADIMPLENCIA, dtype: int64"
            ]
          },
          "metadata": {
            "tags": []
          },
          "execution_count": 9
        }
      ]
    },
    {
      "cell_type": "markdown",
      "metadata": {
        "id": "8ut8mkgE0WsE"
      },
      "source": [
        "### **02.k.Visualizar a quantidade de valores de cada classe do atributo alvo `INADIMPLENCIA`.**"
      ]
    },
    {
      "cell_type": "markdown",
      "metadata": {
        "id": "1Nk_SJ0f9Xc8"
      },
      "source": [
        "- Criar um gráfico de barras para **comparar a quantidade de valores em cada classe** do atributo alvo **`INADIMPLENCIA`**.\n",
        "\n",
        "````\n",
        "fig, ax_01 = plt.subplots()\n",
        "\n",
        "df.INADIMPLENCIA.value_counts().plot(kind='bar', ax=ax_01);\n",
        "`````\n",
        "\n"
      ]
    },
    {
      "cell_type": "code",
      "metadata": {
        "colab": {
          "base_uri": "https://localhost:8080/",
          "height": 271
        },
        "id": "OE_v27WeMbQA",
        "outputId": "c8cee19b-d070-4e32-aebd-7b82f8ccb9b3"
      },
      "source": [
        "# VIZUALIZANDO CLASSES DO ATRIBUTO ALVO INADIMPLENCIA.\n",
        "fig, ax_01 = plt.subplots()\n",
        "\n",
        "df.INADIMPLENCIA.value_counts().plot(kind='bar', ax=ax_01);"
      ],
      "execution_count": null,
      "outputs": [
        {
          "output_type": "display_data",
          "data": {
            "image/png": "[encoded data removed]",
            "text/plain": [
              "<Figure size 432x288 with 1 Axes>"
            ]
          },
          "metadata": {
            "tags": [],
            "needs_background": "light"
          }
        }
      ]
    },
    {
      "cell_type": "markdown",
      "metadata": {
        "id": "cT4oHo611HGv"
      },
      "source": [
        "### **02.l.Descrever os dados estatísticos de cada atributo.**"
      ]
    },
    {
      "cell_type": "markdown",
      "metadata": {
        "id": "g5kRD4vn93Jd"
      },
      "source": [
        "- Descrever os dados estatísticos de cada atributo com o método **`describe()`**.\n",
        "\n",
        "````\n",
        "df.describe( )\n",
        "`````\n"
      ]
    },
    {
      "cell_type": "code",
      "metadata": {
        "colab": {
          "base_uri": "https://localhost:8080/",
          "height": 295
        },
        "id": "wNCZ-JWdNMB6",
        "outputId": "553d9b6a-aaf7-499f-c75a-fab3feda0038"
      },
      "source": [
        "# DESCREVER OS DADOS ESTATÍSTICOS\n",
        "df.describe()"
      ],
      "execution_count": null,
      "outputs": [
        {
          "output_type": "execute_result",
          "data": {
            "text/html": [
              "<div>\n",
              "<style scoped>\n",
              "    .dataframe tbody tr th:only-of-type {\n",
              "        vertical-align: middle;\n",
              "    }\n",
              "\n",
              "    .dataframe tbody tr th {\n",
              "        vertical-align: top;\n",
              "    }\n",
              "\n",
              "    .dataframe thead th {\n",
              "        text-align: right;\n",
              "    }\n",
              "</style>\n",
              "<table border=\"1\" class=\"dataframe\">\n",
              "  <thead>\n",
              "    <tr style=\"text-align: right;\">\n",
              "      <th></th>\n",
              "      <th>clientid</th>\n",
              "      <th>SALARIO</th>\n",
              "      <th>IDADE</th>\n",
              "      <th>EMPRESTIMO</th>\n",
              "      <th>INADIMPLENCIA</th>\n",
              "    </tr>\n",
              "  </thead>\n",
              "  <tbody>\n",
              "    <tr>\n",
              "      <th>count</th>\n",
              "      <td>2000.000000</td>\n",
              "      <td>2000.000000</td>\n",
              "      <td>1997.000000</td>\n",
              "      <td>2000.000000</td>\n",
              "      <td>2000.000000</td>\n",
              "    </tr>\n",
              "    <tr>\n",
              "      <th>mean</th>\n",
              "      <td>1000.500000</td>\n",
              "      <td>45331.599930</td>\n",
              "      <td>40.807661</td>\n",
              "      <td>4444.369635</td>\n",
              "      <td>0.141500</td>\n",
              "    </tr>\n",
              "    <tr>\n",
              "      <th>std</th>\n",
              "      <td>577.494589</td>\n",
              "      <td>14326.327142</td>\n",
              "      <td>13.624541</td>\n",
              "      <td>3045.409995</td>\n",
              "      <td>0.348624</td>\n",
              "    </tr>\n",
              "    <tr>\n",
              "      <th>min</th>\n",
              "      <td>1.000000</td>\n",
              "      <td>20014.490000</td>\n",
              "      <td>-52.420000</td>\n",
              "      <td>1.380000</td>\n",
              "      <td>0.000000</td>\n",
              "    </tr>\n",
              "    <tr>\n",
              "      <th>25%</th>\n",
              "      <td>500.750000</td>\n",
              "      <td>32796.457500</td>\n",
              "      <td>28.990000</td>\n",
              "      <td>1939.705000</td>\n",
              "      <td>0.000000</td>\n",
              "    </tr>\n",
              "    <tr>\n",
              "      <th>50%</th>\n",
              "      <td>1000.500000</td>\n",
              "      <td>45789.120000</td>\n",
              "      <td>41.320000</td>\n",
              "      <td>3974.720000</td>\n",
              "      <td>0.000000</td>\n",
              "    </tr>\n",
              "    <tr>\n",
              "      <th>75%</th>\n",
              "      <td>1500.250000</td>\n",
              "      <td>57791.285000</td>\n",
              "      <td>52.590000</td>\n",
              "      <td>6432.407500</td>\n",
              "      <td>0.000000</td>\n",
              "    </tr>\n",
              "    <tr>\n",
              "      <th>max</th>\n",
              "      <td>2000.000000</td>\n",
              "      <td>69995.690000</td>\n",
              "      <td>63.970000</td>\n",
              "      <td>13766.050000</td>\n",
              "      <td>1.000000</td>\n",
              "    </tr>\n",
              "  </tbody>\n",
              "</table>\n",
              "</div>"
            ],
            "text/plain": [
              "          clientid       SALARIO        IDADE    EMPRESTIMO  INADIMPLENCIA\n",
              "count  2000.000000   2000.000000  1997.000000   2000.000000    2000.000000\n",
              "mean   1000.500000  45331.599930    40.807661   4444.369635       0.141500\n",
              "std     577.494589  14326.327142    13.624541   3045.409995       0.348624\n",
              "min       1.000000  20014.490000   -52.420000      1.380000       0.000000\n",
              "25%     500.750000  32796.457500    28.990000   1939.705000       0.000000\n",
              "50%    1000.500000  45789.120000    41.320000   3974.720000       0.000000\n",
              "75%    1500.250000  57791.285000    52.590000   6432.407500       0.000000\n",
              "max    2000.000000  69995.690000    63.970000  13766.050000       1.000000"
            ]
          },
          "metadata": {
            "tags": []
          },
          "execution_count": 11
        }
      ]
    },
    {
      "cell_type": "markdown",
      "metadata": {
        "id": "aKPG4t6U0uA0"
      },
      "source": [
        "### **02.m.Vizualizar a frequência de idade dos clientes com um histograma.**"
      ]
    },
    {
      "cell_type": "markdown",
      "metadata": {
        "id": "mbOo_hV19qeD"
      },
      "source": [
        "- Gerar um histograma para o atributo **`IDADE`**.\n",
        "\n",
        "````\n",
        "fig, ax_02 = plt.subplots()\n",
        "\n",
        "df.IDADE.plot(kind='hist', ax=ax_02)\n",
        "````\n"
      ]
    },
    {
      "cell_type": "code",
      "metadata": {
        "colab": {
          "base_uri": "https://localhost:8080/",
          "height": 282
        },
        "id": "Y-xSDMMzM5W8",
        "outputId": "65cf316e-1e6d-4f3a-cd57-e302019dd867"
      },
      "source": [
        "# HISTOGRAMA PARA IDADE\n",
        "fig, ax_02 = plt.subplots()\n",
        "\n",
        "df.IDADE.plot(kind='hist', ax=ax_02)"
      ],
      "execution_count": null,
      "outputs": [
        {
          "output_type": "execute_result",
          "data": {
            "text/plain": [
              "<matplotlib.axes._subplots.AxesSubplot at 0x7effa6fab650>"
            ]
          },
          "metadata": {
            "tags": []
          },
          "execution_count": 12
        },
        {
          "output_type": "display_data",
          "data": {
            "image/png": "[encoded data removed]",
            "text/plain": [
              "<Figure size 432x288 with 1 Axes>"
            ]
          },
          "metadata": {
            "tags": [],
            "needs_background": "light"
          }
        }
      ]
    },
    {
      "cell_type": "markdown",
      "metadata": {
        "id": "5ZBJKLtR2HqL"
      },
      "source": [
        "### **02.n.Visualizar a distribuição de frequência dos valores do atributo `EMPRÉSTIMO`.**"
      ]
    },
    {
      "cell_type": "markdown",
      "metadata": {
        "id": "T9gNvvVM-JaG"
      },
      "source": [
        "- Gerar um histograma para entender a **distribuição de frequência** dos valores de empréstimo:\n",
        "\n",
        "````\n",
        "fig, ax_03 = plt.subplots()\n",
        "\n",
        "df.EMPRESTIMO.plot(kind='hist', ax=ax_03)\n",
        "````"
      ]
    },
    {
      "cell_type": "code",
      "metadata": {
        "colab": {
          "base_uri": "https://localhost:8080/",
          "height": 265
        },
        "id": "tWgzBR2PN5rP",
        "outputId": "05612298-823e-4494-c520-ec515097a785"
      },
      "source": [
        "# HISTOGRAMA PARA  EMPRESTIMO\n",
        "fig, ax_03 = plt.subplots()\n",
        "\n",
        "df.EMPRESTIMO.plot(kind='hist', ax=ax_03);"
      ],
      "execution_count": null,
      "outputs": [
        {
          "output_type": "display_data",
          "data": {
            "image/png": "[encoded data removed]",
            "text/plain": [
              "<Figure size 432x288 with 1 Axes>"
            ]
          },
          "metadata": {
            "tags": [],
            "needs_background": "light"
          }
        }
      ]
    },
    {
      "cell_type": "markdown",
      "metadata": {
        "id": "IHruyOkj2uPN"
      },
      "source": [
        "### **02.o.Visualizar a dispersão dos valores dos atributos numéricos com uma matriz de dispersão.**"
      ]
    },
    {
      "cell_type": "markdown",
      "metadata": {
        "id": "LFas4zqo-ZeC"
      },
      "source": [
        "- Usar a biblioteca **Plotly** para gerar gráfico de dispersão.\n",
        "\n",
        "````\n",
        "grafico = px.scatter_matrix(df,dimensions=['IDADE','SALARIO','EMPRESTIMO',], color = 'INADIMPLENCIA')\n",
        "grafico.show()\n",
        "`````\n"
      ]
    },
    {
      "cell_type": "code",
      "metadata": {
        "colab": {
          "base_uri": "https://localhost:8080/",
          "height": 542
        },
        "id": "72wzK5f6OK1A",
        "outputId": "2316d24a-9600-40f7-b9a4-997daf31fa31"
      },
      "source": [
        "# VISUALIZAR A DISPERSÃO DOS ATRIBUTOS NUMÉRICOS.\n",
        "grafico = px.scatter_matrix(df,dimensions=['IDADE','SALARIO', 'EMPRESTIMO'], color = 'INADIMPLENCIA')\n",
        "grafico.show()"
      ],
      "execution_count": null,
      "outputs": [
        {
          "output_type": "display_data",
          "data": {
            "text/html": [
              "<html>\n",
              "<head><meta charset=\"utf-8\" /></head>\n",
              "<body>\n",
              "    <div>\n",
              "            <script src=\"https://cdnjs.cloudflare.com/ajax/libs/mathjax/2.7.5/MathJax.js?config=TeX-AMS-MML_SVG\"></script><script type=\"text/javascript\">if (window.MathJax) {MathJax.Hub.Config({SVG: {font: \"STIX-Web\"}});}</script>\n",
              "                <script type=\"text/javascript\">window.PlotlyConfig = {MathJaxConfig: 'local'};</script>\n",
              "        <script src=\"https://cdn.plot.ly/plotly-latest.min.js\"></script>    \n",
              "            <div id=\"6c78d1fe-2e4b-4cea-bc27-2529f3ba8e7f\" class=\"plotly-graph-div\" style=\"height:525px; width:100%;\"></div>\n",
              "            <script type=\"text/javascript\">\n",
              "                \n",
              "                    window.PLOTLYENV=window.PLOTLYENV || {};\n",
              "                    \n",
              "                if (document.getElementById(\"6c78d1fe-2e4b-4cea-bc27-2529f3ba8e7f\")) {\n",
              "                    Plotly.newPlot(\n",
              "                        '6c78d1fe-2e4b-4cea-bc27-2529f3ba8e7f',\n",
              "                        [{\"dimensions\": [{\"axis\": {\"matches\": true}, \"label\": \"IDADE\", \"values\": [59.02, 48.12, 63.11, 45.75, 18.58, 57.47, 26.81, 32.9, 55.5, 39.78, 25.68, 60.47, 26.36, 61.58, 39.2, -28.22, 39.57, 60.85, 61.69, 26.08, 31.76, -52.42, 48.58, 51.97, 48.84, 27.03, -36.5, 55.84, null, 54.51, null, null, 38.13, 38.66, 36.67, 20.67, 58.19, 50.23, 18.84, 32.68, 32.9, 62.64, 49.04, 25.25, 47.32, 18.13, 47.25, 50.09, 57.93, 46.31, 35.71, 29.25, 54.96, 47.72, 49.37, 50.1, 23.44, 31.97, 20.84, 36.85, 53.75, 47.94, 62.02, 34.47, 25.11, 41.53, 60.54, 22.24, 21.6, 49.57, 52.38, 21.22, 33.18, 44.83, 28.61, 51.01, 60.29, 56.85, 61.23, 50.07, 43.83, 53.84, 43.03, 24.04, 33.66, 19.78, 25.59, 19.21, 27.56, 25.06, 61.44, 59.33, 56.49, 63.38, 55.37, 28.84, 63.17, 63.74, 20.24, 24.18, 36.65, 47.98, 49.92, 25.71, 45.66, 44.29, 29.91, 34.74, 44.32, 35.51, 19.52, 53.05, 20.99, 29.24, 38.66, 47.47, 59.68, 26.59, 38.59, 29.9, 35.34, 23.82, 29.33, 21.38, 18.48, 22.54, 22.83, 59.52, 53.41, 46.75, 45.08, 24.38, 29.42, 53.31, 32.48, 48.34, 53.58, 24.78, 38.12, 21.21, 22.57, 37.31, 26.19, 50.24, 39.05, 26.1, 58.86, 49.15, 60.53, 40.83, 57.76, 44.05, 51.17, 29.11, 32.47, 46.15, 55.23, 27.91, 47.11, 41.42, 58.35, 31.08, 60.53, 33.12, 27.87, 43.84, 29.3, 21.11, 42.83, 28.97, 53.9, 60.4, 49.39, 50.51, 43.73, 63.38, 57.58, 33.02, 23.61, 19.63, 26.72, 44.94, 51.46, 60.52, 20.58, 26.04, 54.01, 56.72, 55.6, 45.55, 29.07, 52.59, 44.22, 53.87, 44.77, 23.78, 53.7, 28.65, 33.43, 53.67, 52.42, 26.21, 37.28, 62.44, 28.45, 37.95, 61.52, 46.68, 48.62, 42.05, 42.78, 56.15, 31.93, 25.46, 37.03, 53.41, 20.16, 50.98, 61.26, 36.22, 60.94, 55.19, 41.26, 50.93, 41.35, 27.3, 31.91, 48.08, 20.23, 22.92, 52.3, 47.3, 48.96, 25.51, 58.64, 22.49, 54.96, 45.42, 57.93, 63.42, 53.53, 27.8, 40.45, 18.4, 21.9, 37.4, 50.41, 44.72, 26.31, 60.67, 24.78, 58.49, 51.29, 39.74, 45.02, 53.62, 43.51, 55.22, 29.92, 36.67, 60.1, 57.38, 54.53, 29.42, 47.01, 62.02, 53.08, 52.34, 39.01, 55.55, 40.84, 25.16, 50.11, 23.24, 56.6, 25.6, 45.12, 19.82, 30.41, 49.03, 57.64, 33.25, 55.59, 61.98, 40.41, 50.0, 41.97, 46.45, 48.12, 45.12, 40.81, 43.6, 53.36, 37.78, 19.72, 22.64, 47.7, 21.5, 51.69, 21.02, 55.17, 32.55, 57.9, 55.37, 50.31, 27.08, 21.14, 33.01, 20.3, 62.0, 53.58, 51.93, 37.29, 47.97, 52.44, 54.62, 46.58, 25.87, 20.01, 58.52, 34.29, 21.28, 43.19, 61.95, 62.05, 30.54, 45.52, 33.9, 39.42, 42.09, 20.11, 48.91, 49.75, 50.2, 26.56, 44.87, 62.43, 59.44, 58.84, 52.49, 54.63, 47.19, 27.88, 26.67, 56.96, 30.27, 52.97, 51.36, 51.02, 19.95, 60.73, 52.38, 32.4, 18.83, 28.16, 43.01, 42.75, 62.91, 32.29, 40.04, 53.29, 24.2, 27.06, 54.95, 52.9, 61.81, 22.49, 50.53, 28.63, 53.04, 37.74, 55.74, 52.84, 55.43, 59.25, 29.77, 31.6, 56.84, 38.99, 35.59, 33.48, 56.31, 45.73, 56.52, 53.55, 29.12, 42.31, 62.07, 49.36, 49.07, 51.02, 40.85, 23.51, 23.51, 31.14, 57.63, 28.22, 49.66, 54.84, 23.31, 44.81, 53.21, 18.66, 46.05, 63.92, 22.98, 47.54, 28.59, 47.76, 51.06, 44.21, 50.4, 18.08, 63.02, 30.25, 27.02, 37.78, 53.75, 36.5, 43.94, 40.91, 28.19, 52.72, 45.31, 48.11, 34.39, 35.02, 18.84, 25.84, 25.26, 46.77, 50.04, 24.42, 25.42, 24.85, 32.46, 39.96, 44.41, 44.97, 56.63, 28.82, 60.06, 47.0, 57.44, 20.14, 47.15, 20.71, 53.94, 55.15, 24.84, 39.96, 35.78, 27.52, 18.33, 30.89, 47.84, 52.34, 33.28, 26.38, 63.8, 42.93, 47.33, 39.7, 38.23, 27.93, 56.63, 32.41, 42.73, 21.3, 44.24, 58.57, 40.36, 32.16, 21.91, 49.41, 19.37, 36.07, 58.75, 55.13, 53.34, 29.32, 62.37, 30.63, 18.53, 60.76, 20.1, 28.76, 55.26, 32.53, 28.74, 28.63, 46.92, 21.27, 49.0, 47.18, 26.65, 54.31, 31.73, 61.48, 21.37, 23.95, 41.55, 40.98, 34.67, 42.39, 36.56, 47.31, 41.82, 61.65, 60.58, 36.97, 27.3, 27.63, 49.77, 55.9, 47.18, 33.07, 25.52, 57.52, 26.77, 62.29, 26.49, 38.25, 23.97, 25.62, 55.72, 59.85, 54.3, 20.59, 45.57, 54.18, 45.89, 51.94, 28.53, 19.5, 25.06, 58.53, 55.52, 37.39, 51.15, 50.32, 41.45, 35.77, 52.09, 18.42, 38.04, 42.89, 27.53, 53.54, 25.3, 32.18, 58.99, 21.87, 56.84, 22.35, 42.28, 62.32, 59.36, 47.04, 49.73, 27.94, 38.46, 53.54, 54.1, 59.63, 43.81, 45.93, 32.51, 62.83, 33.68, 28.16, 47.07, 58.91, 46.44, 34.06, 55.54, 27.43, 63.4, 60.91, 53.4, 19.89, 21.66, 34.01, 19.3, 50.3, 20.26, 54.82, 27.2, 35.65, 48.06, 33.95, 44.36, 56.19, 27.47, 57.1, 18.65, 36.41, 24.39, 41.88, 47.22, 39.28, 41.94, 61.31, 51.14, 32.25, 62.13, 62.95, 53.67, 31.76, 23.99, 22.26, 37.54, 55.36, 57.54, 49.31, 42.77, 41.08, 46.6, 38.68, 41.99, 40.3, 63.52, 49.52, 38.49, 22.54, 48.92, 54.45, 34.44, 23.08, 33.85, 50.42, 21.72, 36.35, 53.93, 55.85, 49.34, 30.98, 32.6, 19.33, 53.64, 50.9, 62.69, 51.65, 47.25, 25.53, 42.67, 23.08, 26.63, 27.13, 23.97, 35.72, 53.43, 44.11, 31.7, 55.21, 21.42, 58.08, 44.45, 57.22, 55.16, 62.2, 60.54, 42.4, 23.18, 53.37, 48.98, 35.09, 26.35, 52.53, 48.65, 51.39, 38.92, 27.81, 41.72, 29.42, 38.88, 34.6, 24.69, 44.63, 33.93, 48.32, 28.82, 62.77, 63.63, 41.47, 43.89, 43.91, 51.49, 41.85, 59.47, 57.71, 53.38, 61.39, 36.92, 21.24, 22.98, 25.93, 18.31, 34.22, 42.62, 61.37, 30.65, 26.55, 43.52, 33.8, 42.38, 63.31, 24.26, 45.89, 40.87, 27.37, 43.96, 29.71, 35.3, 24.35, 46.54, 54.62, 35.83, 48.19, 59.0, 53.44, 57.0, 57.28, 37.22, 40.3, 59.68, 32.36, 25.3, 41.81, 46.33, 59.14, 25.55, 45.64, 40.55, 42.1, 26.56, 44.41, 56.03, 32.39, 55.58, 25.6, 39.71, 48.24, 40.28, 25.86, 44.5, 41.63, 29.03, 47.07, 29.26, 22.17, 60.66, 44.53, 22.3, 51.18, 34.41, 54.08, 58.43, 22.11, 56.57, 61.84, 37.66, 38.31, 25.66, 30.75, 43.21, 47.78, 45.42, 31.13, 34.51, 40.39, 54.94, 53.11, 44.39, 53.7, 49.71, 60.28, 42.3, 47.42, 60.58, 33.8, 49.67, 35.09, 52.64, 22.34, 39.04, 34.7, 31.6, 41.24, 19.96, 25.33, 40.57, 29.64, 59.49, 30.28, 45.83, 59.69, 32.21, 56.41, 51.94, 25.91, 40.77, 32.47, 53.23, 46.48, 47.13, 35.85, 36.06, 59.7, 53.2, 41.94, 49.56, 44.56, 60.58, 58.79, 28.95, 30.68, 57.58, 55.86, 31.0, 45.04, 20.12, 46.17, 52.25, 47.42, 41.24, 33.4, 62.14, 47.75, 56.77, 22.96, 57.49, 58.79, 29.19, 42.13, 54.67, 48.1, 34.72, 20.56, 29.55, 25.15, 32.07, 40.19, 54.66, 60.17, 57.87, 25.98, 54.91, 34.35, 23.13, 35.98, 54.39, 59.02, 28.73, 42.91, 47.15, 58.14, 32.47, 61.96, 24.79, 18.7, 24.37, 30.49, 28.62, 47.72, 54.14, 35.47, 35.27, 41.15, 21.7, 21.85, 53.9, 22.74, 53.6, 36.37, 45.47, 48.29, 42.8, 22.15, 46.83, 26.3, 40.62, 60.97, 42.78, 48.29, 20.59, 29.3, 22.48, 34.48, 22.79, 36.55, 44.91, 39.94, 32.4, 63.49, 36.67, 46.01, 20.93, 63.37, 41.53, 52.08, 19.14, 18.62, 58.94, 27.8, 37.74, 33.56, 35.7, 25.59, 25.85, 19.21, 37.62, 25.05, 44.45, 55.01, 55.16, 48.9, 29.36, 55.29, 45.03, 60.38, 51.31, 29.4, 51.37, 62.63, 38.95, 46.48, 42.88, 63.19, 20.4, 28.11, 54.07, 54.26, 18.87, 63.89, 42.84, 52.09, 19.08, 35.36, 36.3, 50.24, 60.81, 63.93, 49.64, 28.96, 36.36, 18.67, 27.29, 55.41, 35.52, 27.99, 34.91, 31.05, 39.16, 28.31, 31.39, 62.33, 33.69, 23.28, 57.26, 50.65, 19.23, 61.16, 20.8, 55.7, 20.99, 23.49, 27.53, 54.32, 33.09, 43.9, 53.5, 43.88, 55.37, 32.65, 29.35, 18.3, 20.13, 58.57, 62.2, 45.69, 26.85, 20.04, 26.63, 30.4, 35.6, 24.71, 22.91, 21.6, 24.24, 44.03, 58.12, 48.35, 45.73, 27.21, 51.55, 35.54, 39.8, 21.4, 19.6, 41.6, 32.15, 56.51, 49.33, 21.38, 19.13, 52.63, 26.45, 35.13, 40.82, 33.03, 60.94, 22.94, 32.81, 23.44, 22.86, 23.18, 62.36, 22.58, 45.05, 31.55, 29.98, 48.36, 51.05, 51.03, 24.23, 63.38, 53.62, 40.37, 49.46, 56.63, 42.59, 31.0, 25.57, 51.43, 53.76, 57.69, 51.94, 54.72, 18.31, 21.42, 38.58, 40.9, 23.59, 52.18, 47.64, 30.33, 54.66, 34.67, 36.31, 48.05, 39.63, 56.39, 49.5, 38.24, 54.63, 59.99, 51.39, 56.91, 49.3, 32.84, 60.06, 39.23, 28.25, 38.28, 26.63, 58.58, 23.95, 18.39, 25.41, 42.61, 48.65, 58.1, 49.19, 25.38, 61.01, 19.06, 31.01, 50.61, 28.55, 38.64, 19.66, 18.83, 39.84, 43.73, 19.78, 24.47, 22.36, 33.36, 50.02, 21.19, 38.91, 34.58, 20.67, 39.19, 48.4, 46.31, 33.36, 34.93, 51.56, 59.11, 18.95, 32.52, 34.65, 44.14, 52.64, 36.23, 24.0, 61.19, 37.69, 38.82, 34.26, 46.97, 35.72, 24.42, 54.27, 62.91, 40.5, 28.03, 53.32, 35.92, 40.71, 34.29, 62.78, 62.23, 46.52, 21.63, 31.8, 52.37, 31.4, 57.32, 43.31, 48.32, 57.99, 19.01, 42.2, 34.75, 30.13, 52.21, 30.93, 42.11, 40.04, 53.8, 52.98, 22.01, 54.56, 57.83, 36.62, 48.02, 24.65, 45.36, 54.15, 59.56, 50.12, 47.93, 26.91, 57.78, 19.36, 37.87, 23.82, 37.31, 41.6, 29.38, 32.11, 53.86, 52.23, 42.64, 57.51, 41.92, 49.69, 52.82, 38.68, 37.8, 52.4, 20.63, 44.69, 49.4, 36.19, 57.52, 36.57, 47.89, 56.67, 25.97, 38.25, 24.91, 32.09, 28.99, 40.33, 62.33, 27.05, 54.15, 45.86, 57.14, 56.05, 52.89, 31.8, 45.42, 36.34, 62.04, 34.5, 33.06, 18.85, 19.43, 32.27, 49.43, 24.07, 54.73, 44.21, 47.95, 53.86, 33.47, 27.35, 46.79, 59.8, 32.62, 59.75, 49.94, 18.81, 47.79, 34.38, 55.29, 58.86, 60.76, 32.52, 44.13, 31.81, 20.12, 41.7, 49.32, 47.39, 20.29, 34.83, 32.14, 36.99, 56.26, 28.16, 27.9, 20.99, 60.37, 34.57, 45.12, 35.75, 29.67, 27.08, 27.44, 43.82, 51.58, 34.85, 33.26, 37.84, 35.77, 27.15, 20.25, 43.83, 53.06, 33.63, 59.89, 63.22, 60.46, 29.34, 60.45, 26.92, 61.68, 22.66, 52.71, 23.35, 38.29, 34.7, 30.97, 41.05, 55.09, 19.61, 59.12, 61.74, 37.16, 55.64, 54.75, 51.14, 23.5, 57.83, 22.53, 23.72, 20.61, 23.25, 47.75, 35.03, 61.05, 29.76, 31.28, 53.76, 27.87, 39.24, 26.71, 19.53, 42.63, 57.12, 28.46, 53.76, 26.16, 63.17, 41.92, 29.53, 22.85, 47.46, 31.49, 22.33, 49.62, 43.37, 56.94, 21.99, 19.98, 26.93, 37.07, 48.45, 41.02, 29.55, 31.09, 21.09, 60.94, 57.67, 61.14, 33.7, 20.83, 61.61, 23.72, 18.45, 62.65, 27.31, 19.24, 63.05, 21.28, 45.19, 29.27, 45.63, 45.54, 41.94, 56.17, 47.45, 31.55, 35.42, 43.12, 42.05, 43.7, 55.19, 59.03, 63.56, 30.04, 45.54, 53.11, 52.74, 63.24, 31.08, 48.41, 50.07, 22.29, 28.17, 35.85, 57.02, 41.85, 31.62, 18.81, 34.51, 34.41, 44.88, 43.6, 29.73, 51.81, 34.61, 60.28, 19.85, 51.35, 21.04, 34.56, 35.0, 53.54, 25.48, 39.86, 55.64, 44.54, 22.66, 28.0, 50.71, 56.64, 19.29, 24.43, 50.28, 21.01, 41.61, 37.25, 53.69, 57.09, 53.28, 60.29, 54.63, 35.63, 63.33, 23.34, 59.32, 21.21, 24.28, 55.86, 47.78, 49.41, 47.98, 61.67, 50.42, 55.78, 60.26, 58.18, 35.14, 22.29, 19.82, 62.87, 61.51, 34.44, 26.92, 45.48, 55.66, 44.14, 62.59, 63.08, 43.12, 35.59, 59.21, 62.73, 56.77, 52.08, 63.3, 57.39, 32.67, 48.52, 54.33, 60.69, 41.49, 36.16, 29.55, 58.89, 18.25, 54.0, 24.6, 21.58, 35.92, 52.53, 23.92, 50.13, 62.89, 52.91, 36.46, 56.79, 38.48, 22.4, 38.94, 43.2, 27.29, 48.09, 43.62, 47.89, 43.29, 42.95, 28.94, 43.69, 56.49, 36.2, 33.76, 30.14, 21.84, 37.48, 63.29, 33.52, 51.05, 25.55, 27.85, 35.65, 36.74, 32.82, 59.26, 24.17, 59.43, 37.29, 29.21, 23.15, 54.83, 41.28, 44.14, 42.66, 61.09, 41.83, 21.47, 48.97, 29.38, 63.11, 43.64, 33.63, 37.51, 42.76, 24.66, 30.1, 27.29, 49.13, 62.59, 43.63, 47.78, 43.94, 49.12, 60.85, 54.7, 26.03, 39.17, 21.83, 42.05, 21.36, 49.84, 33.86, 32.1, 28.41, 62.23, 18.61, 43.37, 39.39, 43.42, 46.1, 53.25, 18.71, 36.2, 32.4, 24.64, 45.15, 41.41, 19.01, 19.02, 44.36, 52.18, 23.88, 32.31, 31.33, 34.74, 38.04, 40.62, 49.66, 35.26, 29.14, 49.91, 54.52, 56.3, 39.96, 36.42, 21.05, 28.02, 28.48, 41.17, 49.06, 30.52, 22.16, 28.42, 30.83, 54.7, 26.43, 46.03, 36.29, 35.76, 27.48, 27.4, 45.2, 18.96, 36.92, 51.75, 22.54, 39.18, 32.7, 43.28, 56.33, 25.81, 28.38, 19.28, 30.16, 39.3, 62.66, 31.82, 39.93, 38.48, 21.03, 54.55, 58.61, 25.69, 26.73, 31.95, 45.78, 23.64, 60.92, 24.62, 24.56, 51.73, 46.76, 23.72, 45.7, 36.37, 58.39, 50.96, 35.88, 59.04, 51.53, 30.08, 34.56, 34.9, 18.23, 59.44, 56.42, 26.99, 20.18, 26.77, 26.42, 27.96, 24.81, 42.75, 36.61, 25.91, 34.33, 41.52, 58.06, 42.34, 51.15, 24.69, 18.41, 26.85, 37.19, 33.55, 48.61, 29.82, 34.3, 39.23, 18.18, 51.91, 22.67, 18.45, 20.11, 29.52, 57.22, 18.43, 23.97, 41.15, 30.08, 43.91, 62.44, 32.83, 53.42, 19.3, 48.15, 27.48, 41.3, 19.52, 51.66, 26.0, 32.89, 38.98, 58.71, 61.05, 52.96, 61.65, 43.91, 56.81, 52.17, 58.44, 35.41, 53.11, 44.16, 21.95, 47.43, 22.79, 60.94, 48.36, 37.44, 19.88, 39.08, 19.38, 62.27, 22.19, 19.18, 47.85, 55.51, 44.28, 40.71, 45.19, 33.95, 18.06, 52.18, 57.29, 20.5, 56.84, 56.43, 51.52, 27.18, 47.0, 52.16, 58.93, 32.1, 46.06, 28.35, 25.67, 54.66, 45.32, 36.69, 60.16, 53.26, 26.78, 33.66, 19.67, 22.4, 44.33, 23.43, 52.43, 50.17, 50.07, 49.18, 57.93, 58.36, 40.23, 19.37, 37.9, 37.46, 41.96, 25.02, 47.2, 23.46, 53.35, 50.65, 27.37, 33.9, 30.23, 27.47, 51.13, 47.68, 28.8, 21.41, 29.91, 23.48, 48.87, 38.41, 58.62, 22.1, 32.3, 34.38, 19.62, 61.73, 27.84, 35.94, 55.13, 19.08, 57.63, 62.27, 37.87, 56.35, 36.48, 18.06, 56.65, 27.83, 30.75, 46.03, 36.7, 41.94, 40.56, 26.65, 34.21, 34.43, 49.99, 41.76, 55.18, 19.5, 59.76, 35.6, 57.63, 24.6, 63.25, 56.74, 32.53, 30.56, 54.65, 60.25, 36.33, 42.85, 63.43, 22.83, 55.81, 28.88, 62.78, 46.51, 43.07, 50.1, 62.22, 19.9, 61.6, 18.75, 61.17, 29.87, 58.0, 31.79, 54.75, 31.53, 53.41, 34.2, 41.3, 44.74, 49.04, 43.32, 55.05, 51.8, 61.85, 23.43, 34.8, 63.64, 21.13, 57.97, 35.82, 61.89, 48.8, 20.32, 36.83, 25.3, 46.47, 50.07, 41.57, 43.92, 45.58, 35.11, 59.71, 27.92, 39.08, 40.69, 35.97, 62.12, 27.36, 44.92, 45.54, 37.6, 54.7, 19.49, 28.57, 60.81, 63.86, 31.61, 61.3, 25.9, 36.73, 32.72, 30.54, 55.05, 42.52, 22.93, 57.88, 30.76, 30.59, 46.45, 63.89, 58.02, 45.88, 59.51, 29.02, 23.79, 18.75, 43.06, 40.77, 26.96, 33.09, 45.88, 33.93, 25.21, 50.22, 27.4, 22.22, 42.37, 62.19, 50.79, 59.96, 18.51, 41.58, 29.42, 62.84, 24.19, 60.19, 52.03, 54.22, 28.06, 37.91, 25.68, 26.94, 24.31, 45.86, 48.82, 39.67, 61.68, 63.22, 52.16, 36.43, 23.37, 20.62, 43.04, 39.44, 53.94, 33.69, 56.89, 46.55, 39.64, 52.05, 62.2, 21.37, 43.67, 61.16, 41.0, 55.83, 24.99, 59.2, 44.39, 27.48, 36.92, 41.77, 32.17, 28.24, 35.76, 54.87, 56.64, 58.1, 59.86, 52.39, 52.24, 27.22, 33.31, 45.16, 60.26, 56.03, 24.93, 36.28, 19.98, 41.22, 32.33, 38.1, 51.89, 59.92, 28.85, 28.45, 36.0, 55.53, 18.66, 44.77, 45.54, 24.19, 41.07, 27.13, 51.08, 36.98, 33.1, 43.72, 60.73, 40.11, 41.32, 18.7, 42.98, 61.3, 48.52, 52.31, 28.55, 56.36, 57.41, 37.17, 40.74, 23.69, 28.2, 39.23, 34.92, 38.67, 51.76, 43.21, 47.69, 30.31, 54.97, 47.47, 31.34, 54.24, 47.6, 31.19, 40.52, 48.15, 52.58, 44.0, 45.99, 33.33, 60.89, 39.14, 38.62, 20.54, 24.27, 25.25, 34.1, 45.54, 23.25, 26.82, 37.75, 48.52, 23.16, 28.02, 63.97, 56.15]}, {\"axis\": {\"matches\": true}, \"label\": \"SALARIO\", \"values\": [66155.93, 34415.15, 57317.17, 42709.53, 66952.69, 24904.06, 48430.36, 24500.14, 40654.89, 25075.87, 64131.42, 59436.85, 61050.35, 27268.0, 63061.96, 50501.73, 43548.65, 43378.18, 20542.37, 58887.36, 23000.78, 32197.62, 23329.32, 27845.8, 65301.98, 47451.63, 63287.04, 45727.46, 59417.81, 58842.89, 48528.85, 23526.3, 67252.9, 58886.85, 57584.97, 26289.97, 25952.38, 32464.09, 60921.06, 26578.54, 66260.12, 58787.46, 62545.71, 24381.95, 67852.11, 41725.61, 41896.97, 44379.73, 28416.9, 68427.16, 35975.79, 57596.35, 29681.88, 51656.94, 24912.84, 47761.82, 22248.18, 29724.48, 52143.82, 56577.72, 37660.77, 37403.8, 31652.69, 32727.7, 69078.6, 40622.19, 37521.02, 30735.81, 24857.69, 33180.2, 66628.26, 38564.93, 33704.51, 57018.48, 40526.9, 50827.98, 40775.81, 55467.15, 38789.03, 58074.84, 57814.11, 45190.73, 36801.91, 68811.78, 30483.3, 44930.39, 43671.46, 27612.91, 53607.33, 33036.68, 64275.83, 30673.84, 58793.61, 21053.49, 42095.42, 50360.68, 41970.72, 51663.41, 53601.81, 43439.99, 51461.05, 41285.17, 62895.75, 57296.16, 60844.09, 47634.55, 23998.32, 63391.62, 21534.55, 28255.65, 36496.13, 41631.67, 68762.42, 30075.26, 41302.67, 39703.76, 63161.09, 63062.14, 34507.53, 27954.71, 37369.38, 43912.06, 22766.77, 21603.31, 61952.91, 36116.37, 26157.78, 26458.38, 69156.3, 39441.44, 60119.07, 55613.49, 37049.39, 23122.06, 48790.13, 59132.69, 55305.57, 26037.46, 64899.81, 27089.12, 45341.47, 24865.8, 28239.54, 52730.08, 28982.06, 36221.27, 33551.12, 43891.36, 45148.89, 58481.01, 69579.93, 52743.31, 65635.66, 34559.91, 60218.53, 51689.55, 47541.61, 62905.79, 65632.6, 31847.85, 27947.44, 62246.73, 40154.69, 58627.55, 33441.05, 55603.79, 31046.38, 44708.1, 23340.27, 24830.18, 31422.75, 60477.23, 26039.02, 36186.85, 39772.12, 34730.16, 23118.48, 50072.85, 67465.06, 38625.63, 45227.48, 64901.9, 40543.91, 27793.27, 61167.77, 64619.66, 37593.76, 35032.65, 58364.46, 56945.81, 27204.85, 21648.26, 31077.86, 42522.92, 31769.25, 35556.78, 52908.82, 35045.13, 44488.16, 41679.94, 54619.95, 38053.62, 64718.66, 43159.08, 29445.51, 25817.39, 66356.86, 56676.16, 61000.04, 58906.25, 49589.15, 40141.6, 31659.73, 62658.22, 39264.48, 46643.13, 30515.37, 65077.32, 60871.87, 25011.1, 68407.19, 43727.44, 45788.75, 65705.01, 32434.7, 58121.67, 62498.51, 26090.73, 64780.94, 65588.4, 65743.7, 37164.52, 65176.53, 34615.54, 59079.47, 56267.17, 34862.82, 60521.36, 42276.78, 38451.18, 45985.11, 51000.42, 31523.11, 28648.68, 27514.43, 27441.0, 67709.24, 38600.71, 30950.3, 27083.82, 21512.75, 34796.0, 27089.39, 25259.4, 47007.31, 20358.67, 67900.23, 54418.47, 51288.55, 28199.6, 22199.62, 50514.47, 34414.24, 37633.09, 55235.5, 45587.55, 52757.79, 41174.81, 25685.54, 28145.3, 52094.22, 33552.39, 37400.93, 21605.73, 57562.89, 62288.54, 22767.26, 20943.04, 20622.86, 48436.66, 27574.63, 62889.36, 37683.2, 54974.46, 56326.09, 65670.88, 50730.73, 64184.92, 66179.32, 24969.53, 54925.52, 67879.25, 67787.53, 31657.62, 36559.14, 57787.57, 42521.73, 51935.18, 45677.88, 51363.6, 27218.56, 43677.63, 21533.6, 28010.19, 51589.28, 50480.95, 43957.35, 61878.35, 60153.34, 33388.58, 41310.4, 25576.95, 51455.1, 48134.16, 51348.53, 20532.82, 33297.21, 55858.55, 43777.52, 27789.52, 36132.42, 20145.99, 63108.71, 26581.61, 62040.89, 69958.71, 38082.52, 45183.05, 36242.45, 44527.26, 40496.26, 24698.67, 60560.31, 48018.21, 30216.25, 61742.24, 47288.43, 24658.9, 64644.35, 57517.72, 52945.55, 36366.99, 62113.73, 62279.52, 61799.08, 50139.74, 69566.68, 44897.49, 22572.3, 37123.08, 68744.79, 21081.19, 58828.29, 46706.46, 32312.85, 60778.77, 30948.04, 60122.01, 43321.68, 47904.34, 58597.38, 66091.91, 47316.7, 40872.64, 35154.49, 32222.82, 40447.67, 48463.2, 42843.1, 50310.42, 57565.2, 55066.18, 46065.95, 38309.59, 54472.14, 58695.09, 54748.91, 46328.17, 49633.33, 66339.78, 62650.72, 27646.78, 21437.62, 50648.2, 29670.67, 20258.54, 34475.22, 28926.43, 20660.67, 24987.93, 29672.56, 23241.6, 24217.23, 65574.09, 55994.46, 67369.33, 23305.77, 35195.47, 27135.07, 24037.17, 51625.31, 50705.77, 58079.16, 62192.47, 62553.67, 68147.96, 27619.66, 65330.19, 26680.15, 46104.6, 44904.6, 52934.59, 43509.76, 22118.36, 56275.41, 48630.98, 64272.7, 24349.0, 34332.32, 64940.24, 30595.75, 53422.22, 69995.69, 48270.8, 27028.16, 23519.87, 37302.08, 55601.27, 62678.65, 41602.43, 27533.0, 30594.18, 47846.95, 55273.28, 23086.26, 29621.27, 47533.92, 62519.18, 50878.96, 58580.96, 69445.65, 60929.17, 35496.67, 33572.42, 55306.91, 34141.93, 40453.89, 69088.78, 30885.69, 58683.23, 60675.81, 68460.68, 63653.84, 42522.58, 54140.43, 47548.36, 24114.01, 20686.24, 21412.31, 69391.15, 32319.26, 52862.95, 48383.28, 36430.54, 44268.89, 63806.33, 46195.78, 23743.16, 22089.84, 54707.29, 23203.65, 25342.25, 31645.63, 32306.81, 61262.82, 26388.73, 53009.43, 58163.54, 38665.03, 25289.05, 66049.93, 56282.98, 35778.62, 29174.24, 55934.43, 32256.86, 68052.81, 26957.05, 48685.04, 38288.07, 42468.02, 55377.77, 54231.7, 53283.26, 52534.79, 47847.52, 59998.25, 58684.51, 49114.79, 57179.4, 69395.12, 43963.74, 66326.47, 35886.73, 35578.23, 48689.0, 56510.84, 50275.9, 56665.49, 42912.09, 22169.73, 35919.81, 61987.69, 30044.68, 61528.27, 31196.49, 66003.96, 56960.67, 41315.11, 64913.34, 32804.9, 25789.21, 31908.35, 56050.3, 66505.78, 57504.07, 44619.11, 21158.94, 22765.19, 25052.82, 61006.11, 62321.24, 49604.54, 48433.37, 57590.28, 62691.7, 51121.66, 22516.54, 60857.24, 62908.36, 49665.63, 65322.8, 20598.93, 55476.66, 26218.49, 40794.87, 53719.65, 20715.54, 57163.85, 33751.21, 44832.56, 51035.63, 53493.49, 58205.68, 47439.94, 47586.23, 26100.85, 45326.4, 24391.76, 53741.37, 40053.72, 53033.86, 25176.5, 31210.85, 23532.28, 63776.77, 52278.77, 56015.81, 56110.94, 57856.81, 30187.09, 30786.87, 22279.3, 42476.27, 58147.8, 36266.21, 39045.5, 64467.8, 36594.81, 58797.76, 66653.27, 48271.5, 30991.43, 45446.52, 37142.74, 58320.81, 24825.54, 20511.43, 48326.32, 55441.36, 60496.91, 25296.15, 50414.32, 67984.04, 50382.4, 49413.3, 61464.82, 53784.05, 35993.29, 63402.0, 40484.97, 26168.01, 60044.28, 23984.55, 40359.7, 33583.89, 68038.79, 45652.06, 34399.21, 57628.44, 24294.68, 52218.88, 50061.77, 49352.27, 21087.36, 23812.25, 49395.17, 33338.94, 29668.32, 45936.6, 55948.07, 53239.5, 43694.03, 24078.07, 50258.55, 41816.66, 36892.72, 23886.57, 48757.77, 34601.68, 52986.0, 50740.95, 53096.99, 38500.0, 41004.26, 63585.36, 31823.68, 26242.63, 63531.25, 64751.15, 31091.28, 66871.27, 25098.65, 33720.59, 28182.52, 27334.57, 68694.84, 46195.62, 34488.21, 57827.66, 20346.47, 60480.98, 51915.68, 54625.51, 48305.43, 28577.96, 53400.83, 43414.49, 47526.23, 46082.07, 32195.59, 49067.09, 21293.48, 52100.92, 48334.39, 58507.62, 27521.04, 63914.23, 28598.83, 23298.47, 35697.55, 40376.16, 56534.97, 36088.94, 34158.63, 29732.06, 41736.2, 42236.46, 28796.85, 55097.39, 40916.56, 20908.34, 57999.77, 57746.58, 55116.23, 57765.52, 45200.99, 42435.19, 46365.57, 57187.7, 66539.93, 25244.73, 54780.35, 59253.12, 48540.34, 30415.11, 48768.7, 52299.22, 42242.49, 28218.97, 40208.13, 61419.67, 51282.51, 36017.9, 57575.01, 53330.77, 39834.52, 62469.43, 40334.62, 47542.8, 55883.62, 29163.02, 47786.14, 29736.31, 50831.43, 62030.05, 54049.01, 34336.02, 31895.72, 51894.54, 37616.71, 22076.95, 56252.95, 26316.76, 23120.88, 39033.03, 32420.82, 68827.24, 58092.2, 43538.86, 64040.48, 34395.23, 57405.51, 22581.13, 27952.95, 54022.91, 63546.16, 60713.43, 44519.33, 40997.8, 63661.38, 34429.15, 29181.86, 52510.44, 37536.35, 35683.74, 45622.29, 67385.4, 69411.79, 48322.51, 40836.59, 38035.95, 42696.97, 24181.69, 33194.4, 32541.46, 38381.41, 25921.91, 58810.97, 63025.74, 29954.0, 40641.52, 43940.91, 65166.97, 58820.38, 50719.76, 46766.6, 67520.76, 28386.25, 68276.03, 30731.73, 30012.25, 38075.32, 55932.4, 27966.24, 53825.54, 65451.5, 39474.0, 42344.81, 36112.87, 32720.5, 27973.83, 21306.03, 36029.3, 48457.96, 46038.51, 34247.16, 64247.61, 62109.77, 21481.8, 20762.47, 33756.53, 54325.81, 33197.81, 56846.47, 26542.93, 53200.55, 38073.41, 43937.22, 49284.82, 22869.32, 60113.34, 23613.26, 68755.09, 26449.33, 42855.42, 25686.78, 67125.65, 27427.79, 37145.57, 41702.6, 20710.78, 39124.16, 32834.65, 26267.22, 41254.23, 38268.7, 37087.27, 38458.13, 40185.78, 65481.95, 57426.68, 47903.31, 34222.19, 28481.27, 43069.65, 33093.96, 61363.86, 68100.74, 50551.48, 54421.05, 32152.46, 40230.98, 53483.37, 65137.94, 29496.59, 45181.93, 24994.78, 54820.97, 62955.61, 52956.25, 40366.2, 60005.01, 37598.39, 61323.0, 21243.93, 62111.43, 56524.88, 51718.14, 43205.63, 26934.2, 68966.82, 31527.35, 46839.06, 32151.3, 40831.8, 30868.8, 62988.83, 65496.77, 63032.63, 27287.07, 44299.37, 44091.35, 26617.03, 21856.23, 28072.6, 35950.49, 28982.11, 51790.73, 65000.82, 29761.05, 23081.45, 60016.74, 54619.16, 66274.21, 49380.66, 46283.07, 25554.7, 36680.18, 30383.68, 67730.44, 36446.72, 33648.74, 53852.8, 61298.22, 69465.75, 39102.04, 29366.58, 67949.74, 29468.86, 56839.4, 38277.94, 49664.27, 49972.01, 27356.8, 36840.6, 51438.81, 40614.72, 56738.64, 68004.69, 44458.64, 66801.2, 48991.85, 69430.94, 27989.11, 67675.8, 47985.72, 43388.21, 63182.46, 20568.89, 25833.72, 23087.3, 36124.72, 57330.62, 47240.25, 55730.63, 61660.4, 49746.89, 23973.69, 28085.48, 33585.47, 44179.39, 56025.42, 49369.7, 26889.36, 30873.22, 30608.94, 54878.09, 32423.81, 46608.37, 65689.19, 49054.86, 20310.58, 66423.4, 45783.15, 62887.76, 51088.21, 66217.94, 62799.75, 45789.49, 59727.41, 35513.59, 29178.98, 67501.69, 66255.03, 63558.86, 63441.71, 64983.15, 56946.65, 52349.87, 31473.46, 59267.34, 66809.17, 48083.31, 20629.35, 25363.33, 28873.67, 41430.86, 53612.13, 51555.74, 46564.38, 61200.43, 29307.32, 67687.18, 52565.07, 52920.15, 34981.37, 65210.84, 60016.08, 23066.96, 52603.88, 20111.36, 32759.7, 30578.02, 21211.59, 53746.33, 45214.11, 58465.05, 54422.97, 62842.06, 53005.13, 40749.03, 49804.41, 37277.25, 46883.21, 31763.37, 61013.18, 41285.36, 39133.89, 62171.8, 53638.65, 49264.58, 63114.5, 58165.51, 43029.8, 21593.62, 49104.77, 65776.23, 36192.15, 62165.86, 50793.36, 62422.2, 63166.99, 23717.57, 66797.66, 30272.2, 55741.2, 30742.58, 20491.56, 35620.42, 50206.13, 67935.45, 59223.4, 32657.27, 55931.65, 23694.78, 44324.29, 34735.49, 67064.34, 42761.49, 49517.72, 54372.18, 29941.97, 68414.12, 23891.24, 47187.57, 39819.92, 50632.28, 39970.21, 55176.14, 50533.57, 52983.87, 31187.67, 34909.98, 53810.85, 55478.97, 60394.09, 36845.74, 60264.94, 52981.51, 50222.76, 59256.56, 43203.41, 46288.76, 58176.15, 25631.43, 58978.0, 25048.02, 33436.49, 23787.37, 69456.57, 65447.61, 68743.35, 36052.58, 24820.79, 26046.38, 60850.8, 69929.01, 53298.5, 48818.38, 38042.08, 42119.82, 62247.88, 62252.09, 36973.09, 54217.24, 44218.77, 33274.05, 54656.55, 67593.52, 39472.71, 30572.45, 50447.7, 49198.65, 53768.23, 52809.55, 38011.73, 58910.29, 57914.73, 39494.77, 45918.88, 55649.06, 27136.63, 62724.64, 32921.85, 28482.65, 44170.22, 60664.37, 64501.93, 28237.52, 67420.6, 55642.99, 56086.06, 57676.74, 62535.63, 60686.77, 25032.3, 22228.35, 41435.15, 43955.41, 60063.69, 34635.74, 63944.32, 35403.43, 53654.08, 23508.23, 61869.47, 20674.9, 22127.92, 27408.73, 60720.8, 34760.02, 23057.36, 42381.0, 37887.55, 39988.74, 25026.51, 43588.08, 20897.43, 24904.62, 66068.64, 36126.23, 23626.73, 30200.24, 65569.79, 20617.26, 25817.45, 21448.83, 69370.18, 34145.8, 52651.26, 40069.34, 39246.54, 56233.79, 49264.27, 30451.64, 28727.0, 20113.25, 43434.78, 59208.72, 69310.96, 60567.42, 22048.9, 66733.71, 22209.01, 49032.66, 26558.36, 49255.46, 30218.15, 56317.08, 53825.43, 34927.99, 53287.39, 32032.56, 48405.73, 46132.91, 29049.07, 68550.69, 47474.82, 50021.66, 64089.13, 28451.71, 58132.47, 30961.17, 64162.65, 67470.12, 68263.77, 42889.33, 20155.79, 58178.61, 45735.46, 30037.2, 64392.51, 26291.38, 36008.38, 54953.98, 28753.33, 41993.98, 56696.46, 51906.05, 30939.39, 38520.72, 33489.04, 52836.01, 51733.29, 41273.77, 68223.68, 28222.88, 21921.36, 38852.93, 59621.37, 41377.75, 54405.62, 60103.01, 67528.65, 61156.94, 42955.69, 46923.05, 24951.26, 26267.53, 64603.92, 34667.02, 66008.4, 45840.21, 32188.02, 50289.66, 36837.53, 28852.03, 68127.17, 41349.12, 69132.46, 38477.33, 68291.15, 58074.61, 26867.11, 32348.45, 31044.39, 29279.75, 35145.1, 44405.28, 42059.64, 28612.2, 46546.7, 22832.32, 21565.92, 26078.21, 60503.55, 31233.31, 34505.8, 35485.12, 45986.35, 43308.18, 53284.12, 68398.29, 64743.71, 68412.61, 59695.11, 32406.57, 33184.2, 47688.25, 42591.6, 34051.53, 61800.03, 45360.72, 20252.12, 30134.71, 56217.33, 31722.73, 60178.45, 51144.24, 22449.08, 44932.88, 40929.48, 31092.27, 44743.55, 60770.23, 43528.48, 25008.95, 47433.42, 50064.35, 60348.41, 67471.13, 30492.88, 25640.08, 55040.76, 34476.71, 23345.87, 24426.03, 65849.89, 60454.53, 22680.32, 44471.87, 46572.32, 24369.84, 56830.27, 46943.0, 42521.79, 63188.33, 29410.18, 46668.63, 62693.27, 65307.13, 59589.06, 41019.55, 48058.87, 50208.53, 62526.89, 48192.19, 30884.06, 36965.74, 43536.04, 69181.66, 64233.04, 52593.52, 32282.25, 54077.84, 51595.36, 23097.38, 27407.06, 64395.3, 60432.22, 42990.98, 41581.89, 53289.07, 22372.51, 57119.74, 31112.06, 68936.32, 20436.33, 20583.61, 58988.31, 45311.83, 60856.83, 45818.28, 20904.56, 49908.29, 55988.3, 62125.26, 48822.72, 29976.83, 41944.27, 36970.36, 39992.72, 42450.54, 42146.94, 52841.52, 66418.96, 44047.67, 24821.21, 35583.62, 25289.61, 39770.13, 59511.14, 51211.65, 56530.5, 42604.46, 66642.01, 35527.83, 66896.77, 51980.36, 40081.42, 50167.67, 39545.96, 43372.4, 33084.17, 53187.98, 48290.88, 66078.77, 51547.17, 39393.14, 69592.01, 54588.5, 44964.01, 46081.65, 45564.02, 62657.6, 67921.63, 59514.01, 48422.54, 22001.32, 52529.7, 24061.46, 23450.87, 32866.58, 30958.91, 27550.9, 36024.94, 46801.27, 27082.72, 65435.04, 59295.74, 45435.27, 61742.61, 31396.87, 35916.7, 43969.6, 60624.82, 69939.33, 69755.32, 69478.4, 34192.16, 57457.86, 63910.33, 26643.81, 23985.08, 63660.65, 44102.33, 29409.81, 49294.66, 39553.65, 68583.04, 31060.61, 29190.32, 63437.7, 35243.06, 36475.35, 63271.61, 45540.33, 68565.39, 20063.1, 44222.26, 67839.24, 54009.69, 52234.08, 28423.13, 52623.44, 25636.33, 60842.94, 36727.75, 63830.75, 43108.41, 25285.26, 57646.24, 51027.57, 37389.77, 65017.59, 20595.93, 56445.47, 60864.32, 51231.01, 41103.14, 56267.05, 20774.85, 46424.22, 29909.55, 62808.51, 41243.81, 46089.15, 69191.23, 60846.67, 66558.93, 27428.28, 60912.8, 28127.51, 64029.54, 61836.74, 37005.07, 56003.57, 58038.93, 29237.26, 33265.79, 66236.93, 41978.71, 63453.22, 24985.59, 53593.11, 54179.72, 20126.41, 51180.84, 36455.7, 39188.95, 47852.93, 20014.49, 28630.01, 66688.91, 53226.19, 35609.48, 64065.68, 54935.66, 67800.58, 46893.34, 54648.97, 31410.51, 36989.59, 33198.13, 47704.38, 30569.57, 61398.69, 67750.83, 47637.86, 38357.52, 43156.31, 41101.54, 59475.5, 40708.92, 30391.47, 46024.14, 66529.49, 68115.98, 38423.08, 33227.28, 61674.46, 26931.07, 60040.99, 26181.24, 61552.22, 29705.07, 53934.81, 23007.39, 48552.84, 66370.89, 49140.27, 39684.98, 32025.4, 55568.18, 45898.51, 39217.91, 34070.6, 66768.36, 31400.86, 49335.76, 51774.05, 43064.65, 41226.13, 43044.52, 33546.29, 69209.33, 32291.54, 66274.07, 34102.79, 21144.56, 41049.97, 36351.28, 63144.46, 32086.91, 28873.17, 65359.3, 49064.29, 23763.06, 51845.94, 67035.33, 49240.76, 36132.33, 67006.81, 39453.65, 52205.61, 46319.42, 29398.73, 31135.61, 65603.82, 41362.51, 60302.56, 54468.28, 47683.72, 38160.12, 22925.81, 64087.86, 65824.52, 53451.93, 36455.48, 39573.34, 41052.37, 37895.18, 44827.23, 28341.09, 56887.2, 25146.6, 54739.16, 30497.2, 25358.9, 29993.56, 64675.78, 56256.04, 31702.33, 34113.11, 44666.01, 39421.37, 21683.19, 65697.59, 68657.79, 66981.41, 45971.13, 42965.99, 50895.81, 46175.03, 44984.9, 66941.86, 31022.14, 46583.2, 56201.84, 31587.06, 40716.19, 64966.07, 68503.21, 33867.5, 54195.02, 50565.34, 57216.1, 29849.97, 29072.15, 29775.14, 46672.71, 66393.71, 29338.26, 67289.59, 45980.33, 34163.63, 52216.82, 62313.28, 49205.64, 65688.73, 43489.83, 40966.67, 37261.45, 58775.4, 39395.83, 21144.16, 33126.13, 30931.51, 31936.94, 38157.03, 21032.82, 50238.53, 67346.66, 33261.65, 53113.04, 42749.99, 42108.2, 61344.53, 54738.68, 69695.15, 62507.35, 61922.77, 58023.72, 27010.88, 21194.62, 68338.1, 67772.79, 67131.8, 33159.22, 66087.09, 60362.34, 54609.47, 63637.28, 40918.57, 51486.13, 44896.26, 24877.68, 52263.36, 42775.53, 67064.01, 50307.94, 37432.68, 30084.16, 61427.41, 54718.85, 47923.58, 22880.73, 46118.55, 35082.39, 38387.32, 57413.57, 28198.1, 50117.86, 34876.33, 64126.49, 41916.69, 50052.29, 39158.92, 62219.04, 67151.32, 46166.16, 23881.79, 48445.11, 32441.65, 33820.19, 61812.9, 25347.57, 33965.52, 23641.7, 50660.9, 44037.24, 51657.12, 46573.24, 26922.46, 48414.25, 43974.84, 65913.83, 64716.0, 25481.99, 54170.53, 51653.7, 66054.51, 60019.45, 31523.95, 65660.95, 61893.48, 49230.1, 38337.83, 64016.43, 46308.65, 66209.14, 47770.71, 29856.49, 21451.5, 59673.17, 47481.43, 36219.77, 59458.7, 67010.84, 58693.42, 43041.04, 31920.41, 32771.13, 55487.15, 68406.81, 37277.12, 39762.53, 41674.24, 25789.74, 24575.06, 58082.36, 67881.88, 50115.05, 40443.2, 65824.84, 51199.87, 67032.29, 42205.68, 37730.36, 47398.31, 48933.21, 53078.86, 53236.99, 58121.95, 57261.15, 52102.59, 45165.93, 58809.29, 36598.34, 62096.28, 68114.07, 67978.47, 26615.52, 51254.37, 34428.97, 60974.59, 63330.73, 58168.47, 59579.61, 52219.9, 28700.87, 27193.74, 67417.57, 57341.43, 64056.54, 66370.69, 45045.43, 58609.13, 53289.07, 60309.33, 45139.49, 22815.64, 45215.01, 40568.08, 43721.25, 38129.75, 22547.96, 57468.06, 25534.67, 26325.5, 65913.83, 67119.14, 62020.47, 37965.85, 62114.86, 36871.06, 65030.91, 23193.6, 59568.62, 50527.58, 60776.11, 61632.28, 45930.45, 25857.77, 55093.92, 42301.33, 51903.53, 64398.15, 41089.51, 36727.55, 38163.39, 35949.9, 44979.8, 48211.58, 28267.09, 33816.22, 33079.0, 36019.82, 34238.53, 62064.52, 44867.62, 37162.89, 65680.95, 58772.86, 32435.25, 58028.21, 60595.28, 36565.8, 20742.7, 46666.64, 32203.57, 36535.32, 28163.3, 39019.36, 24709.08, 43052.97, 25003.92, 46696.89, 50112.46, 43265.9, 67802.69, 55408.71, 67048.89, 40262.6, 46427.5, 46911.2, 57359.55, 34569.3, 52797.4, 56630.4, 45245.74, 20803.61, 57717.61, 20647.89, 59046.46, 62662.26, 33614.49, 48765.13, 57240.76, 49973.67, 41255.94, 61129.72, 48938.58, 68648.24, 41250.83, 22415.65, 24112.5, 41692.61, 23516.73, 53812.23, 29750.29, 22633.68, 28713.83, 63321.91, 35276.59, 35914.61, 31568.14, 39934.07, 48614.85, 29838.12, 57745.36, 44447.53, 51768.01, 34891.14, 45382.81, 40719.49, 55145.79, 48752.42, 55763.43, 36431.16, 40522.83, 42465.67, 38561.94, 54957.45, 24822.07, 25252.49, 25671.74, 60672.15, 60729.95, 40240.73, 57513.82, 64287.4, 48428.03, 55313.83, 27045.4, 58216.07, 34722.96, 58503.77, 55299.79, 49501.91, 61765.71, 48430.99, 66366.96, 55320.78, 48774.29, 61679.95, 61485.18, 24402.44, 21258.9, 48763.68, 24406.89, 61693.59, 22748.03, 21479.95, 51286.66, 27153.66, 36370.49, 32400.54, 60434.16, 57303.48, 42994.68, 68339.81, 49292.3, 57802.43, 50779.38, 35993.99, 21771.13, 61414.8, 35784.66, 24791.19, 49048.76, 69852.06, 21217.75, 48031.07, 64072.31, 56689.46, 45769.26, 35020.49, 56751.93, 27363.63, 48455.72, 21424.09, 69992.33, 68110.24, 48015.55, 23102.22, 46134.85, 48547.96, 26095.03, 64057.84, 24454.19, 40506.94, 43421.05, 55881.54, 45917.6, 52901.91, 41183.82, 25379.92, 27514.09, 44241.28, 29076.34, 60536.91, 47881.96, 49144.37, 33707.8, 46442.28, 25602.96, 61236.4, 48187.35, 29933.2, 41027.91, 49990.66, 59792.51, 35879.52, 29102.22, 30047.82, 59299.16, 64484.01, 36352.42, 66034.75, 51650.27, 31898.16, 58780.23, 67754.1, 48500.27, 55704.8, 50458.96, 48263.0, 38755.16, 68131.66, 28991.42, 35108.56, 28858.6, 22800.8, 29572.98, 21982.02, 45576.84, 55068.67, 56441.02, 68047.93, 36275.74, 52389.37, 23678.38, 37707.64, 57753.57, 30529.96, 44022.27, 58533.88, 33702.53, 40236.87, 62619.16, 50738.36, 64466.76, 64636.4, 22371.52, 67994.99, 49640.0, 42067.25, 43662.09, 34237.58, 26300.45, 30803.81, 54421.41, 24254.7, 59221.04, 69516.13, 44311.45, 43756.06, 69436.58]}, {\"axis\": {\"matches\": true}, \"label\": \"EMPRESTIMO\", \"values\": [8106.53, 6564.75, 8020.95, 6103.64, 8770.1, 15.5, 5722.58, 2971.0, 4755.83, 1409.23, 4351.03, 9254.24, 5893.26, 4759.79, 1850.37, 3977.29, 3935.54, 3277.74, 3157.44, 4965.52, 1148.12, 4244.06, 222.62, 4959.92, 5465.27, 5361.28, 9595.29, 6376.82, 2082.63, 10871.19, 6155.78, 2862.01, 4221.3, 7271.55, 1728.42, 341.15, 2109.2, 4326.71, 968.84, 3489.84, 7035.59, 4167.79, 4362.91, 4227.02, 5730.59, 1185.21, 4892.21, 1814.34, 1788.97, 1658.07, 6610.37, 3344.38, 1745.87, 7158.14, 267.7, 5549.8, 4364.98, 3075.35, 2393.1, 5947.42, 2129.6, 2044.05, 5151.07, 1087.92, 4076.58, 4949.9, 8.01, 5946.82, 2692.16, 4622.0, 5992.89, 5604.17, 5898.0, 3507.25, 2119.98, 1765.98, 1922.61, 9226.9, 7650.66, 7388.02, 7252.12, 7893.56, 5406.34, 4211.3, 4514.01, 7708.32, 8066.7, 1513.62, 2378.77, 958.98, 7520.03, 383.11, 4391.98, 754.6, 1183.7, 4217.17, 1622.32, 4147.89, 9601.38, 6879.31, 7292.26, 2313.83, 2001.28, 10601.08, 12072.26, 141.7, 3928.3, 190.89, 228.34, 2109.24, 165.51, 106.09, 2796.75, 2628.58, 1379.91, 2403.48, 804.09, 56.17, 1793.75, 1627.04, 3783.6, 7757.14, 1429.4, 178.33, 3635.6, 1494.98, 2295.81, 552.4, 7364.74, 1034.76, 1810.96, 4255.25, 6056.82, 4263.49, 5519.1, 4575.53, 8176.71, 3293.25, 4654.25, 5029.49, 6525.22, 4439.12, 4189.83, 5706.33, 2898.76, 5094.67, 4333.36, 5792.91, 6455.39, 5380.56, 10868.24, 2684.7, 12701.6, 3317.53, 3157.96, 9881.98, 1611.22, 11423.94, 12498.04, 2913.77, 5514.12, 406.72, 6013.15, 1215.65, 5282.73, 1411.13, 4907.67, 2390.85, 2707.76, 2046.69, 1686.84, 10711.7, 2056.75, 1130.74, 5492.89, 818.51, 1746.94, 8088.57, 1802.62, 5836.56, 5521.51, 9589.83, 6507.85, 382.25, 10396.62, 9704.78, 7274.33, 135.93, 5809.9, 6388.37, 3827.89, 3558.53, 4452.33, 6790.85, 1148.22, 6361.97, 9841.08, 2382.47, 2751.09, 395.0, 10780.27, 6110.57, 1485.08, 4350.02, 1758.88, 4115.48, 10725.48, 2278.55, 2160.78, 9290.58, 2627.41, 845.37, 858.51, 3343.37, 5255.79, 6440.86, 415.24, 11061.81, 4844.17, 3834.04, 597.94, 1170.56, 5894.04, 1969.79, 2738.44, 7531.1, 3312.88, 4255.63, 8402.42, 7879.74, 7724.57, 1445.8, 2365.29, 6476.76, 10326.09, 7329.24, 6040.77, 8035.88, 8055.31, 3441.26, 7382.06, 778.73, 5174.57, 1870.93, 3400.91, 1455.05, 5136.82, 2749.08, 5043.15, 3286.21, 2453.38, 443.67, 1851.31, 4341.01, 4069.4, 1064.69, 7902.74, 5630.74, 6536.97, 3871.69, 1498.39, 2003.65, 617.54, 868.16, 4910.55, 8366.61, 2321.21, 2888.44, 490.74, 4805.97, 495.02, 6054.24, 1693.14, 2828.31, 8508.84, 10657.11, 1205.79, 4098.12, 3518.45, 5851.41, 1017.4, 6525.15, 7414.55, 8922.2, 4816.78, 3950.87, 1879.06, 1854.24, 3646.94, 3595.5, 554.49, 10433.47, 9607.5, 1448.07, 3030.27, 6339.85, 2661.61, 5649.45, 2966.25, 761.42, 4145.0, 6739.86, 1971.55, 3971.16, 56.99, 8831.18, 5416.36, 567.67, 6472.35, 4551.88, 4481.16, 1922.66, 9447.12, 2075.6, 1507.89, 1897.78, 3674.74, 5630.44, 3601.3, 186.83, 99.45, 839.84, 5757.85, 5090.39, 7643.63, 8755.69, 4213.47, 5953.45, 5688.99, 4588.47, 4834.6, 2427.65, 1994.62, 6120.09, 2116.54, 8068.32, 4004.99, 590.6, 9848.17, 4536.86, 6262.01, 371.04, 11928.51, 6801.41, 5619.22, 7758.8, 9875.04, 5732.4, 724.19, 5659.51, 5207.88, 2395.17, 5947.65, 7084.26, 228.33, 10021.05, 3995.81, 7189.35, 743.87, 6183.51, 2588.49, 8743.51, 1940.67, 5312.49, 4037.72, 934.48, 1072.19, 8120.26, 839.87, 8361.72, 5353.56, 9332.7, 4947.31, 3545.72, 10836.38, 1826.52, 5438.09, 7879.68, 7915.31, 2350.89, 6425.37, 3132.15, 2563.96, 7110.76, 2928.98, 2767.84, 3162.13, 750.07, 1756.04, 3946.9, 607.91, 457.2, 2104.38, 3031.25, 680.62, 2299.42, 4521.0, 2836.99, 1387.25, 2469.36, 4592.25, 1096.97, 11540.05, 1863.89, 4641.7, 12307.56, 2774.83, 4030.8, 1671.18, 2342.47, 4953.77, 3248.63, 7363.04, 3928.12, 2224.88, 5862.83, 4929.88, 3890.47, 1225.72, 8196.93, 3495.07, 7441.76, 2084.37, 6232.28, 331.36, 2368.38, 2366.17, 10533.46, 333.44, 7005.08, 1551.42, 118.34, 3713.26, 10283.0, 1256.4, 5575.25, 6637.77, 2324.55, 3257.01, 4317.72, 10643.4, 11146.07, 168.05, 3369.38, 5272.54, 3371.66, 890.94, 11246.49, 5216.35, 271.73, 11617.75, 949.96, 8866.53, 5036.26, 7896.22, 6153.94, 3900.83, 3052.58, 2639.71, 2550.27, 2733.42, 9754.15, 2763.26, 5855.19, 6043.14, 114.5, 927.07, 3254.75, 2584.02, 10255.19, 749.15, 871.53, 5193.84, 3603.36, 5564.16, 1191.33, 3589.25, 2237.93, 6152.0, 3701.54, 13172.68, 8215.56, 5544.65, 665.58, 5643.18, 2809.32, 1415.72, 4172.99, 9698.58, 1723.4, 1902.27, 6882.87, 10156.14, 4065.22, 3810.13, 8494.02, 4659.54, 5415.82, 6388.85, 2991.97, 11047.68, 4481.44, 5602.16, 843.75, 3640.85, 3859.47, 9255.44, 5541.82, 11159.79, 4550.12, 947.2, 1227.11, 2618.24, 1428.44, 10897.91, 987.26, 11207.5, 4856.48, 1378.91, 9781.33, 4961.26, 2410.28, 1857.46, 6870.84, 6571.2, 8107.27, 2474.98, 3562.31, 540.62, 3367.7, 5850.77, 10649.07, 7045.92, 789.63, 7676.31, 8244.75, 6471.63, 4267.45, 10486.74, 3213.9, 2713.89, 2739.72, 3872.4, 4733.51, 3343.82, 6519.44, 1670.74, 369.53, 577.53, 6494.18, 1256.25, 2889.88, 5030.83, 10035.6, 7896.36, 3343.06, 960.14, 5142.11, 2198.14, 6513.15, 44.53, 10427.47, 3064.72, 3853.09, 1077.84, 6697.97, 4269.14, 2275.76, 9351.01, 8824.16, 4462.82, 3563.32, 3141.34, 8334.18, 3951.19, 3206.93, 1165.49, 521.58, 3492.33, 8892.96, 5180.71, 6077.68, 4589.27, 8474.98, 161.24, 10033.49, 3650.2, 931.79, 7168.71, 10768.75, 1115.15, 1320.46, 2468.17, 1642.97, 9183.84, 2554.04, 5099.09, 2761.85, 901.93, 7530.77, 1093.68, 3040.98, 6823.43, 4622.28, 1783.7, 1251.87, 10108.8, 5408.21, 6019.83, 5021.64, 4360.05, 9792.09, 6145.13, 3362.77, 3353.69, 2716.66, 5927.57, 2929.85, 2042.44, 8525.23, 8569.22, 4606.16, 5049.64, 3276.14, 1086.25, 4534.58, 6463.65, 4440.42, 1833.58, 2430.1, 4928.61, 784.58, 2663.05, 7571.68, 1016.14, 1594.97, 2290.43, 1801.23, 6917.51, 2289.85, 4071.08, 3614.27, 2611.85, 1365.95, 2285.96, 2963.79, 12731.89, 2888.63, 2156.31, 10816.76, 656.03, 3216.09, 2282.91, 8619.75, 4833.48, 1639.23, 10418.19, 7170.95, 8957.33, 2921.24, 4980.01, 7258.97, 1368.69, 4767.28, 2234.44, 694.14, 2699.85, 139.31, 524.2, 1741.18, 2907.96, 3901.94, 2161.08, 6222.42, 2911.41, 3485.02, 7602.61, 4749.07, 706.23, 9342.48, 5219.8, 3133.62, 859.59, 727.19, 10284.61, 5445.22, 7335.96, 2766.28, 5443.28, 9390.67, 12129.08, 1279.0, 8134.22, 7327.28, 1012.93, 4362.08, 500.6, 7880.69, 2070.38, 1305.08, 459.03, 9921.67, 8445.39, 1526.39, 9857.23, 2343.5, 699.96, 7286.55, 6808.87, 9448.21, 974.56, 1469.13, 7181.48, 657.05, 9572.59, 7572.57, 4569.65, 3441.64, 3423.35, 6579.53, 5732.24, 3948.14, 7327.07, 923.03, 1417.85, 5757.89, 1494.21, 1049.18, 5277.74, 8523.9, 5408.73, 2089.73, 6914.75, 34.29, 3965.25, 10641.45, 6170.24, 396.23, 1446.47, 7908.33, 6095.31, 2240.28, 2529.61, 1858.31, 2634.36, 4337.83, 528.18, 6747.23, 12176.78, 7732.7, 6994.49, 4298.71, 222.2, 1529.02, 6615.39, 780.83, 322.72, 5104.75, 9099.72, 2956.98, 5774.07, 5042.33, 2855.38, 8859.09, 530.66, 4770.94, 2383.41, 13041.78, 1718.94, 4842.08, 1129.56, 3972.15, 6928.94, 4876.37, 4445.2, 5272.8, 8129.05, 6034.15, 6800.25, 3737.21, 4367.26, 403.4, 3791.02, 2928.1, 8108.17, 6868.99, 6458.79, 4513.2, 2816.43, 1137.66, 2385.22, 1169.84, 6978.53, 3993.15, 5268.23, 4233.09, 3090.47, 2284.01, 3213.54, 493.59, 527.55, 8253.38, 2469.23, 10990.53, 2952.12, 4923.81, 3728.4, 7482.07, 719.95, 1510.74, 6105.73, 3960.71, 401.33, 4184.58, 1136.12, 6993.05, 2522.06, 6391.15, 3644.31, 1002.34, 10614.25, 2461.97, 4283.23, 3582.15, 5302.18, 4091.56, 3852.99, 9636.8, 8124.6, 5262.62, 6229.84, 3550.58, 745.19, 1459.67, 10352.18, 2216.98, 2243.15, 51.64, 10070.95, 207.54, 959.1, 7410.79, 10677.67, 3641.81, 8699.95, 3438.98, 499.21, 5296.94, 1036.62, 4835.27, 4113.3, 6690.64, 2062.72, 1498.2, 4601.94, 6429.59, 4618.39, 6924.9, 11805.56, 390.34, 4509.88, 5154.91, 1664.1, 2727.24, 1500.65, 1.38, 2664.93, 1440.5, 1281.04, 1114.91, 3748.26, 257.66, 1522.65, 901.28, 10257.92, 5425.28, 2166.12, 4229.91, 4849.33, 2153.61, 8881.58, 2927.68, 1498.16, 2089.91, 9399.5, 7983.71, 4200.7, 4049.25, 1790.35, 3703.95, 9004.8, 7405.8, 5571.46, 763.95, 2983.58, 6557.94, 6898.78, 2649.7, 3210.81, 2698.05, 1456.23, 288.65, 7453.26, 2648.22, 1770.82, 4396.08, 8801.61, 7007.15, 3493.22, 2257.06, 3716.25, 423.42, 6485.06, 1058.04, 4286.35, 9286.36, 1684.53, 7354.13, 95.46, 4431.28, 3933.88, 5888.38, 4341.63, 109.38, 675.71, 4076.88, 2632.55, 1504.47, 2961.95, 1521.87, 255.07, 1102.24, 1279.11, 1066.21, 7492.91, 6849.48, 9097.11, 745.08, 6752.59, 4545.16, 5203.33, 6983.36, 1664.39, 7589.76, 7475.21, 9282.93, 3119.41, 9109.77, 11175.84, 5181.85, 797.35, 5085.31, 1316.19, 9193.1, 3310.41, 3946.0, 2224.47, 5719.28, 5976.9, 9217.69, 599.83, 406.85, 481.84, 10506.33, 372.97, 9521.77, 5502.74, 12607.95, 2857.01, 1933.35, 2043.09, 1745.37, 5211.33, 3010.35, 931.78, 9534.66, 1779.73, 11417.06, 444.61, 107.6, 2539.34, 6207.19, 7235.19, 6289.26, 6342.57, 3489.4, 1791.54, 532.1, 433.46, 1035.46, 109.48, 3051.57, 11890.76, 4155.72, 6894.17, 458.09, 9452.22, 2805.86, 7236.17, 4739.95, 421.64, 2841.63, 4058.79, 1530.09, 11921.2, 1440.07, 3181.78, 5685.65, 1579.17, 3611.3, 5826.46, 8267.33, 3901.4, 1796.27, 4053.52, 764.3, 2672.69, 1402.22, 1091.62, 610.66, 7337.95, 839.13, 3170.05, 6154.05, 3475.91, 7933.47, 3577.45, 1262.36, 7867.62, 7822.94, 117.71, 5567.94, 593.12, 2852.37, 9154.48, 6227.54, 8293.58, 1790.01, 2241.39, 3759.94, 8734.74, 9812.98, 7730.73, 6053.79, 9852.14, 4778.7, 9442.01, 2341.37, 5473.99, 3041.55, 13190.37, 3269.53, 2290.2, 2830.18, 51.95, 4669.46, 7206.85, 12427.84, 2106.71, 2312.42, 3495.86, 1930.57, 1870.72, 1699.68, 4144.45, 8836.78, 1693.92, 2244.88, 9911.13, 9864.08, 596.48, 1847.09, 2443.77, 483.62, 3696.95, 6276.83, 4625.19, 3671.92, 6715.86, 3544.16, 1910.33, 7660.35, 2253.19, 9255.14, 2553.21, 329.45, 2168.75, 5873.41, 12147.31, 2728.19, 3668.99, 2841.7, 3990.85, 10504.67, 9490.26, 10614.13, 680.9, 2187.21, 3702.17, 7833.48, 6766.29, 4859.24, 12213.95, 2929.36, 6587.78, 4622.84, 1040.49, 299.83, 1777.83, 2591.03, 3278.18, 28.88, 2487.17, 6832.68, 5061.78, 357.09, 3845.74, 6453.06, 2940.42, 3376.91, 5626.87, 3805.8, 2173.77, 4871.68, 12494.27, 2224.07, 3682.86, 1989.18, 4605.92, 4074.95, 6529.02, 3646.05, 919.11, 9642.09, 801.78, 475.42, 3675.83, 2507.65, 3672.11, 11479.44, 1590.33, 571.93, 4199.02, 5366.64, 4096.78, 1777.95, 22.33, 4951.92, 5914.52, 8045.44, 431.45, 1957.06, 4432.67, 4582.94, 3766.61, 3216.49, 2562.7, 3879.67, 5083.73, 1054.27, 6272.79, 1042.85, 5491.04, 162.8, 6938.01, 12715.29, 4124.33, 6340.71, 3489.96, 10948.5, 2944.54, 1247.01, 4513.24, 1094.18, 3709.3, 365.65, 4990.37, 6644.34, 9686.63, 10235.27, 6115.82, 4176.95, 3581.66, 5671.64, 7906.14, 3299.89, 7364.0, 613.24, 1901.14, 7513.18, 7014.62, 5324.05, 6253.21, 2632.27, 7877.42, 3250.01, 2962.83, 3107.88, 2544.36, 59.47, 11264.69, 2827.29, 9189.61, 5299.24, 4659.95, 6127.38, 1598.18, 5705.99, 12099.97, 8083.23, 7621.41, 289.58, 9577.96, 8551.26, 1730.15, 3229.82, 4465.87, 2291.99, 510.74, 3917.88, 5310.27, 4948.49, 254.84, 3318.41, 4136.76, 3665.88, 6766.53, 1662.45, 2151.7, 2482.04, 7112.93, 6777.2, 849.55, 8106.86, 4304.93, 551.84, 8889.93, 3394.66, 4580.1, 1377.02, 4602.25, 6224.15, 9143.61, 4569.99, 3360.06, 959.0, 2866.59, 2877.76, 3203.62, 3411.66, 1187.43, 622.91, 2352.29, 5617.99, 2574.71, 2242.83, 2264.73, 2941.03, 9139.14, 417.63, 3037.97, 4448.41, 4834.74, 3105.44, 8352.06, 898.13, 4548.11, 823.84, 5051.3, 7875.07, 1743.77, 5883.66, 721.34, 1366.54, 10462.74, 2187.07, 6745.82, 3960.86, 812.32, 1833.49, 5321.71, 1906.8, 4191.72, 3005.83, 6527.99, 729.6, 5835.54, 5026.47, 4099.9, 6333.39, 6427.73, 1173.74, 12104.53, 811.91, 3345.94, 7149.07, 385.4, 4517.58, 2949.93, 10054.63, 6300.87, 4665.58, 7895.11, 8047.14, 1118.93, 10211.72, 424.35, 11073.16, 2356.18, 53.19, 4728.26, 3103.81, 10238.5, 8137.16, 2606.02, 2903.04, 7745.75, 5700.46, 599.35, 3796.03, 1203.7, 1268.51, 4999.2, 6210.28, 7367.26, 5957.39, 9340.54, 2096.92, 874.32, 27.25, 2130.79, 280.88, 2520.51, 4093.36, 5957.99, 7942.17, 4958.07, 325.12, 387.39, 6243.05, 770.78, 5592.65, 5787.66, 474.53, 5762.47, 4879.85, 4902.98, 3664.62, 6563.41, 5415.05, 13025.06, 2847.82, 693.21, 1487.79, 715.84, 5771.09, 1399.88, 2504.72, 3520.57, 2155.81, 9808.19, 3980.58, 1419.81, 6037.01, 1558.93, 3944.22, 4155.45, 5315.97, 4990.56, 12728.0, 493.71, 2143.39, 326.99, 3719.23, 6401.19, 7455.92, 6740.72, 2225.22, 13766.05, 10229.41, 5233.66, 3608.81, 8986.72, 1413.78, 2284.21, 7832.57, 842.57, 3388.56, 4574.85, 7063.9, 2922.29, 3729.97, 5239.59, 11963.36, 748.94, 413.31, 11298.17, 1490.47, 1231.54, 2495.13, 7443.49, 5609.33, 884.74, 9255.84, 5282.85, 1156.32, 1239.69, 6608.97, 7287.54, 5271.63, 647.88, 1027.58, 1452.49, 3313.3, 7365.94, 1017.17, 1330.07, 6875.58, 3704.03, 813.03, 3644.3, 8238.12, 1347.33, 4087.18, 4495.28, 6465.75, 4161.57, 1618.22, 6270.57, 8974.49, 3090.99, 1287.63, 3870.33, 3279.56, 1644.34, 10971.97, 1068.89, 3639.9, 538.23, 23.92, 5968.44, 2756.97, 1603.92, 10668.36, 2017.14, 1428.19, 10028.02, 1432.36, 2875.45, 3437.08, 3545.16, 3295.32, 2426.31, 4407.0, 9690.31, 5686.64, 2574.09, 771.72, 7921.83, 5035.14, 9131.86, 10674.77, 5797.29, 556.56, 4285.39, 2717.08, 4752.56, 9008.15, 6855.99, 6708.67, 2548.41, 2413.01, 5240.11, 2628.26, 5532.34, 2072.63, 4318.38, 6337.67, 7458.56, 3676.57, 6470.41, 4054.55, 3668.65, 2659.69, 2618.97, 4042.54, 1912.21, 2085.82, 2296.8, 5650.89, 5176.36, 8832.65, 2590.93, 217.49, 6114.87, 5617.18, 864.62, 1401.69, 4255.37, 4464.4, 2549.62, 1508.76, 787.05, 2155.66, 1661.71, 5347.3, 6284.83, 277.39, 11576.54, 1269.25, 703.36, 5890.11, 6619.83, 812.57, 6362.39, 992.58, 7707.24, 5636.35, 2950.31, 8750.83, 11276.62, 8004.36, 3009.4, 3692.17, 436.94, 1135.15, 1523.07, 4673.77, 2457.91, 11775.35, 607.97, 6509.7, 68.63, 4752.29, 3429.9, 2547.28, 722.52, 2643.11, 10529.72, 2464.16, 5785.88, 4652.95, 6071.34, 2639.92, 2248.24, 10969.6, 2890.65, 7218.97, 4573.59, 2220.23, 2749.59, 4628.6, 5452.24, 3587.72, 6360.15, 7548.44, 6111.96, 339.59, 5644.65, 2427.95, 6678.56, 4776.49, 8109.05, 5556.84, 1064.08, 4584.61, 12380.62, 6144.94, 6241.27, 8346.32, 2677.83, 2389.7, 11495.73, 3580.46, 5714.03, 6649.8, 693.2, 3554.39, 3678.9, 1589.44, 3327.24, 1408.5, 9540.42, 5120.41, 13376.8, 5929.1, 6617.4, 6803.33, 925.8, 3393.86, 3673.87, 6501.04, 2393.52, 2075.52, 5673.6, 7557.87, 987.79, 4169.99, 1074.79, 4088.0, 5628.01, 4024.09, 2567.62, 6752.12, 586.65, 10080.52, 4626.54, 1020.98, 7172.65, 6210.73, 8418.25, 6590.78, 1933.08, 2785.78, 2373.18, 1102.85, 12840.7, 5037.93, 2271.4, 2135.53, 11039.29, 10306.71, 5618.2, 9955.23, 3813.7, 3955.11, 3787.64, 1546.42, 10161.95, 6145.99, 8945.29, 7207.94, 4445.5, 737.25, 2163.31, 2883.28, 6931.72, 1909.22, 2728.31, 2918.48, 6453.51, 9421.3, 4370.79, 3599.07, 3102.35, 4956.94, 6106.11, 5589.33, 6887.74, 5831.52, 3941.7, 901.75, 1190.63, 8733.44, 840.71, 4342.18, 3124.31, 2188.5, 3123.9, 4203.5, 7511.0, 5269.52, 609.35, 5533.29, 3950.0, 2105.71, 8371.49, 12972.42, 11173.81, 4005.82, 1048.93, 1853.42, 10321.1, 6978.35, 5697.02, 93.15, 6038.16, 8375.73, 5691.09, 10048.39, 6815.49, 7134.66, 5366.87, 4731.82, 1719.04, 7533.68, 9402.88, 4280.79, 1513.33, 11646.91, 4033.15, 2245.51, 217.19, 1853.68, 178.69, 2491.46, 4242.64, 3809.35, 3203.2, 4442.33, 1667.75, 9175.67, 10503.57, 3447.0, 1857.25, 154.95, 4064.82, 5487.82, 2444.74, 5273.56, 9041.88, 5071.37, 10566.35, 703.6, 5161.11, 2527.76, 8799.82, 5534.55, 5470.59, 6849.29, 8034.75, 4325.1, 7382.5, 3458.19, 8747.21, 6016.62, 6165.66, 5170.9, 2935.37, 2319.36, 6560.47, 5090.31, 4518.86, 6478.4, 784.89, 5982.81, 5906.03, 8489.41, 4270.53, 7395.51, 2343.07, 1743.69, 2749.08, 383.85, 5990.32, 5923.39, 3964.73, 2957.3, 8452.96, 1084.97, 3336.13, 11738.92, 2725.24, 114.21, 299.05, 12115.89, 792.71, 2231.98, 548.6, 7685.33, 5639.25, 10382.44, 3028.59, 7765.25, 1810.23, 6485.3, 1480.61, 8807.87, 1674.91, 997.18, 794.56, 454.31, 3680.18, 6045.09, 2606.12, 965.37, 5265.74, 6278.32, 2987.96, 6002.94, 2972.38, 366.1, 3110.53, 8838.23, 7048.01, 5685.41, 5753.9, 4534.49, 1888.33, 2295.82, 7677.82, 838.02, 271.73, 2121.15, 3196.56, 1915.39, 488.94, 2183.71, 4732.5, 5067.03, 6194.07, 13443.47, 10300.28, 10839.91, 6535.85, 5671.45, 4263.85, 10011.41, 6254.53, 1080.42, 8442.89, 1974.01, 758.43, 3153.22, 725.46, 8237.05, 1965.92, 4837.79, 5183.86, 313.63, 363.9, 5296.91, 11302.77, 3028.83, 9425.71, 7651.58, 4371.72, 3285.5, 1708.71, 559.91, 3245.04, 3627.99, 553.52, 1936.81, 8092.98, 6820.32, 521.0, 5067.41, 184.74, 5984.95, 5913.65, 5540.46, 2714.4, 6632.04, 6152.31, 2742.45, 6415.09, 8968.68, 8934.79, 7913.84, 6783.36, 7720.78, 7314.98, 4831.11, 6976.46, 2361.17, 434.87, 2272.15, 6279.69, 5006.85, 7498.63, 6921.49, 6301.59, 7718.48, 9733.11, 2503.79, 9581.83, 4073.41, 7050.43, 8052.38, 2226.82, 3649.64, 6069.65, 465.01, 5990.72, 3728.48, 3060.03, 3211.67, 101.22, 706.62, 8172.05, 1733.4, 1568.86, 108.63, 1098.07, 1134.23, 3177.52, 2855.22, 3591.8, 2474.25, 10491.63, 4453.82, 2505.87, 967.13, 6796.59, 6859.84, 93.9, 350.45, 9743.61, 110.2, 4844.68, 6363.11, 9246.27, 2690.77, 7826.33, 2426.01, 5740.59, 8236.48, 6832.8, 7877.33, 3215.26, 1780.51, 1795.22, 52.87, 11029.67, 54.01, 1779.57, 8716.61, 1940.87, 5143.49, 5774.28, 864.97, 5961.53, 4705.76, 8383.07, 8253.27, 729.38, 7606.99, 4693.11, 192.14, 8733.18, 286.26, 3132.55, 5575.64, 1633.04, 321.58, 1484.56, 2214.92, 6562.9, 2003.41, 5953.52, 4369.22, 1896.75, 660.24, 5335.4, 1890.45, 5768.74, 4944.06, 1391.6, 6239.25, 3913.78, 3743.0, 2015.18, 5029.71, 2989.95, 7054.61, 5594.33, 9852.89, 7798.79, 4244.5, 7813.24, 1249.35, 4002.99, 3764.82, 3740.9, 5006.25, 4265.17, 4952.65, 4852.77, 9043.76, 4023.06, 644.38, 10398.82, 1779.81, 268.29, 5067.45, 6046.84, 1707.67, 7832.44, 922.04, 4354.31, 3959.61, 9719.56, 8537.37, 2583.11, 2291.86, 7289.01, 5760.86, 4601.61, 7269.6, 2658.09, 2317.39, 623.02, 3273.63, 2225.28, 1926.73, 3503.18, 5522.79, 1622.72, 7378.83]}], \"hoverlabel\": {\"namelength\": 0}, \"hovertemplate\": \"%{xaxis.title.text}=%{x}<br>%{yaxis.title.text}=%{y}<br>INADIMPLENCIA=%{marker.color}\", \"legendgroup\": \"\", \"marker\": {\"color\": [0.0, 0.0, 0.0, 0.0, 1.0, 0.0, 0.0, 1.0, 0.0, 0.0, 0.0, 0.0, 0.0, 0.0, 0.0, 0.0, 0.0, 0.0, 0.0, 0.0, 0.0, 0.0, 0.0, 0.0, 0.0, 0.0, 0.0, 0.0, 0.0, 0.0, 0.0, 0.0, 0.0, 0.0, 0.0, 0.0, 0.0, 0.0, 0.0, 1.0, 0.0, 0.0, 0.0, 1.0, 0.0, 0.0, 0.0, 0.0, 0.0, 0.0, 0.0, 0.0, 0.0, 0.0, 0.0, 0.0, 1.0, 0.0, 0.0, 0.0, 0.0, 0.0, 0.0, 0.0, 0.0, 0.0, 0.0, 1.0, 0.0, 0.0, 0.0, 1.0, 1.0, 0.0, 0.0, 0.0, 0.0, 0.0, 0.0, 0.0, 0.0, 0.0, 0.0, 0.0, 1.0, 1.0, 1.0, 0.0, 0.0, 0.0, 0.0, 0.0, 0.0, 0.0, 0.0, 0.0, 0.0, 0.0, 1.0, 1.0, 0.0, 0.0, 0.0, 1.0, 0.0, 0.0, 1.0, 0.0, 0.0, 0.0, 0.0, 0.0, 0.0, 0.0, 0.0, 0.0, 0.0, 0.0, 0.0, 0.0, 0.0, 1.0, 0.0, 0.0, 0.0, 0.0, 0.0, 0.0, 0.0, 0.0, 0.0, 0.0, 1.0, 0.0, 0.0, 0.0, 0.0, 1.0, 0.0, 1.0, 1.0, 0.0, 1.0, 0.0, 0.0, 1.0, 0.0, 0.0, 0.0, 0.0, 0.0, 0.0, 0.0, 0.0, 0.0, 0.0, 0.0, 1.0, 0.0, 0.0, 0.0, 0.0, 0.0, 0.0, 1.0, 0.0, 1.0, 0.0, 0.0, 0.0, 0.0, 0.0, 0.0, 0.0, 0.0, 0.0, 0.0, 1.0, 0.0, 1.0, 1.0, 0.0, 0.0, 0.0, 1.0, 1.0, 0.0, 0.0, 0.0, 0.0, 1.0, 0.0, 0.0, 0.0, 0.0, 1.0, 0.0, 0.0, 0.0, 0.0, 0.0, 1.0, 0.0, 0.0, 0.0, 0.0, 0.0, 0.0, 0.0, 0.0, 0.0, 0.0, 0.0, 0.0, 0.0, 0.0, 0.0, 0.0, 0.0, 0.0, 0.0, 0.0, 0.0, 0.0, 0.0, 1.0, 0.0, 0.0, 1.0, 1.0, 0.0, 0.0, 0.0, 1.0, 0.0, 1.0, 0.0, 0.0, 0.0, 0.0, 0.0, 0.0, 0.0, 0.0, 1.0, 0.0, 0.0, 0.0, 1.0, 0.0, 0.0, 0.0, 0.0, 0.0, 0.0, 0.0, 0.0, 0.0, 1.0, 0.0, 0.0, 0.0, 0.0, 0.0, 0.0, 0.0, 0.0, 0.0, 0.0, 0.0, 0.0, 1.0, 0.0, 1.0, 0.0, 1.0, 0.0, 1.0, 1.0, 0.0, 0.0, 0.0, 0.0, 0.0, 0.0, 0.0, 0.0, 0.0, 0.0, 0.0, 0.0, 0.0, 0.0, 0.0, 0.0, 0.0, 0.0, 0.0, 0.0, 0.0, 0.0, 1.0, 0.0, 0.0, 0.0, 1.0, 1.0, 0.0, 0.0, 0.0, 0.0, 0.0, 0.0, 0.0, 0.0, 0.0, 0.0, 0.0, 0.0, 0.0, 0.0, 0.0, 0.0, 0.0, 0.0, 1.0, 0.0, 1.0, 0.0, 0.0, 0.0, 0.0, 0.0, 0.0, 0.0, 0.0, 0.0, 0.0, 0.0, 0.0, 0.0, 0.0, 1.0, 0.0, 0.0, 1.0, 0.0, 0.0, 0.0, 1.0, 0.0, 0.0, 0.0, 1.0, 0.0, 0.0, 0.0, 0.0, 0.0, 0.0, 0.0, 1.0, 0.0, 0.0, 0.0, 0.0, 0.0, 0.0, 0.0, 0.0, 0.0, 0.0, 0.0, 0.0, 0.0, 0.0, 0.0, 0.0, 0.0, 0.0, 0.0, 0.0, 0.0, 0.0, 0.0, 1.0, 0.0, 0.0, 0.0, 0.0, 0.0, 0.0, 0.0, 0.0, 0.0, 0.0, 1.0, 0.0, 0.0, 0.0, 0.0, 0.0, 1.0, 0.0, 0.0, 1.0, 0.0, 0.0, 0.0, 0.0, 0.0, 0.0, 1.0, 0.0, 0.0, 1.0, 0.0, 0.0, 0.0, 0.0, 0.0, 1.0, 0.0, 0.0, 0.0, 0.0, 0.0, 1.0, 0.0, 1.0, 0.0, 0.0, 0.0, 1.0, 0.0, 1.0, 0.0, 0.0, 0.0, 0.0, 1.0, 0.0, 0.0, 0.0, 0.0, 0.0, 0.0, 0.0, 0.0, 0.0, 0.0, 0.0, 1.0, 0.0, 1.0, 0.0, 0.0, 1.0, 1.0, 0.0, 0.0, 0.0, 0.0, 0.0, 1.0, 0.0, 0.0, 0.0, 0.0, 0.0, 0.0, 0.0, 1.0, 0.0, 0.0, 0.0, 0.0, 0.0, 0.0, 0.0, 1.0, 0.0, 1.0, 0.0, 0.0, 0.0, 0.0, 0.0, 1.0, 0.0, 0.0, 0.0, 1.0, 0.0, 0.0, 1.0, 0.0, 0.0, 0.0, 0.0, 1.0, 0.0, 0.0, 0.0, 0.0, 0.0, 0.0, 0.0, 0.0, 0.0, 0.0, 0.0, 0.0, 0.0, 0.0, 0.0, 1.0, 0.0, 0.0, 1.0, 0.0, 0.0, 0.0, 1.0, 0.0, 0.0, 0.0, 0.0, 0.0, 0.0, 0.0, 0.0, 0.0, 0.0, 1.0, 1.0, 0.0, 0.0, 0.0, 0.0, 0.0, 0.0, 0.0, 0.0, 1.0, 0.0, 0.0, 0.0, 0.0, 1.0, 0.0, 0.0, 0.0, 0.0, 1.0, 0.0, 0.0, 0.0, 0.0, 0.0, 0.0, 0.0, 0.0, 0.0, 0.0, 0.0, 0.0, 0.0, 0.0, 1.0, 1.0, 0.0, 0.0, 0.0, 0.0, 0.0, 0.0, 0.0, 0.0, 0.0, 0.0, 1.0, 1.0, 1.0, 0.0, 1.0, 0.0, 0.0, 0.0, 0.0, 0.0, 0.0, 0.0, 0.0, 0.0, 0.0, 0.0, 0.0, 0.0, 0.0, 0.0, 0.0, 0.0, 0.0, 0.0, 0.0, 0.0, 0.0, 1.0, 0.0, 1.0, 0.0, 0.0, 0.0, 0.0, 0.0, 0.0, 0.0, 0.0, 0.0, 0.0, 0.0, 0.0, 0.0, 0.0, 0.0, 0.0, 1.0, 0.0, 0.0, 0.0, 0.0, 0.0, 0.0, 0.0, 0.0, 0.0, 0.0, 0.0, 0.0, 0.0, 0.0, 0.0, 0.0, 0.0, 0.0, 1.0, 0.0, 0.0, 1.0, 0.0, 0.0, 0.0, 1.0, 0.0, 0.0, 0.0, 0.0, 0.0, 0.0, 0.0, 0.0, 0.0, 0.0, 0.0, 0.0, 0.0, 0.0, 0.0, 0.0, 0.0, 0.0, 0.0, 0.0, 0.0, 0.0, 1.0, 0.0, 0.0, 1.0, 0.0, 1.0, 0.0, 0.0, 0.0, 0.0, 0.0, 0.0, 0.0, 0.0, 0.0, 0.0, 0.0, 0.0, 0.0, 1.0, 0.0, 1.0, 0.0, 0.0, 0.0, 1.0, 1.0, 0.0, 1.0, 0.0, 0.0, 0.0, 0.0, 0.0, 0.0, 0.0, 1.0, 0.0, 1.0, 0.0, 0.0, 0.0, 0.0, 0.0, 0.0, 0.0, 0.0, 0.0, 0.0, 0.0, 0.0, 0.0, 0.0, 0.0, 0.0, 0.0, 0.0, 0.0, 0.0, 1.0, 0.0, 0.0, 0.0, 0.0, 0.0, 0.0, 0.0, 0.0, 0.0, 0.0, 0.0, 0.0, 0.0, 1.0, 1.0, 0.0, 0.0, 0.0, 0.0, 0.0, 0.0, 0.0, 1.0, 0.0, 0.0, 0.0, 0.0, 1.0, 0.0, 0.0, 0.0, 0.0, 0.0, 0.0, 0.0, 0.0, 0.0, 0.0, 0.0, 0.0, 0.0, 0.0, 0.0, 0.0, 1.0, 0.0, 0.0, 0.0, 1.0, 0.0, 1.0, 0.0, 0.0, 0.0, 0.0, 0.0, 1.0, 0.0, 0.0, 0.0, 0.0, 0.0, 0.0, 0.0, 0.0, 0.0, 0.0, 0.0, 0.0, 0.0, 0.0, 0.0, 0.0, 0.0, 0.0, 0.0, 0.0, 0.0, 0.0, 1.0, 0.0, 0.0, 0.0, 0.0, 0.0, 0.0, 0.0, 0.0, 0.0, 0.0, 0.0, 0.0, 0.0, 0.0, 0.0, 0.0, 0.0, 0.0, 0.0, 0.0, 0.0, 0.0, 1.0, 0.0, 0.0, 1.0, 0.0, 0.0, 0.0, 0.0, 0.0, 0.0, 0.0, 0.0, 0.0, 0.0, 0.0, 0.0, 0.0, 0.0, 0.0, 0.0, 0.0, 0.0, 1.0, 0.0, 0.0, 0.0, 0.0, 0.0, 0.0, 0.0, 0.0, 0.0, 1.0, 0.0, 0.0, 0.0, 0.0, 0.0, 0.0, 0.0, 1.0, 0.0, 1.0, 0.0, 0.0, 0.0, 0.0, 0.0, 0.0, 1.0, 0.0, 1.0, 0.0, 0.0, 0.0, 0.0, 0.0, 0.0, 0.0, 0.0, 0.0, 0.0, 0.0, 0.0, 1.0, 0.0, 0.0, 0.0, 1.0, 0.0, 0.0, 0.0, 1.0, 0.0, 1.0, 0.0, 0.0, 0.0, 0.0, 1.0, 0.0, 0.0, 0.0, 0.0, 0.0, 0.0, 0.0, 0.0, 0.0, 0.0, 0.0, 0.0, 0.0, 0.0, 0.0, 0.0, 0.0, 0.0, 0.0, 0.0, 0.0, 0.0, 0.0, 0.0, 0.0, 0.0, 0.0, 0.0, 0.0, 1.0, 0.0, 0.0, 0.0, 0.0, 0.0, 0.0, 1.0, 1.0, 0.0, 1.0, 0.0, 0.0, 0.0, 0.0, 0.0, 1.0, 0.0, 1.0, 1.0, 1.0, 0.0, 0.0, 0.0, 0.0, 0.0, 0.0, 0.0, 1.0, 0.0, 1.0, 0.0, 0.0, 0.0, 1.0, 1.0, 1.0, 1.0, 0.0, 0.0, 0.0, 0.0, 0.0, 0.0, 0.0, 0.0, 0.0, 1.0, 0.0, 0.0, 0.0, 1.0, 0.0, 0.0, 0.0, 0.0, 0.0, 1.0, 0.0, 0.0, 1.0, 0.0, 0.0, 0.0, 0.0, 0.0, 0.0, 0.0, 0.0, 0.0, 0.0, 0.0, 0.0, 1.0, 0.0, 0.0, 0.0, 0.0, 1.0, 0.0, 0.0, 0.0, 0.0, 0.0, 0.0, 0.0, 0.0, 0.0, 0.0, 0.0, 0.0, 0.0, 0.0, 1.0, 0.0, 0.0, 1.0, 0.0, 0.0, 1.0, 0.0, 1.0, 0.0, 0.0, 0.0, 0.0, 0.0, 0.0, 0.0, 0.0, 0.0, 0.0, 0.0, 0.0, 0.0, 0.0, 0.0, 0.0, 1.0, 0.0, 0.0, 1.0, 1.0, 0.0, 0.0, 0.0, 0.0, 0.0, 0.0, 1.0, 0.0, 0.0, 0.0, 0.0, 1.0, 0.0, 0.0, 0.0, 0.0, 0.0, 0.0, 1.0, 0.0, 0.0, 0.0, 0.0, 1.0, 0.0, 0.0, 0.0, 0.0, 0.0, 0.0, 0.0, 1.0, 1.0, 0.0, 0.0, 0.0, 0.0, 0.0, 0.0, 0.0, 0.0, 0.0, 0.0, 0.0, 1.0, 0.0, 0.0, 0.0, 1.0, 0.0, 0.0, 0.0, 0.0, 0.0, 0.0, 0.0, 1.0, 0.0, 0.0, 0.0, 0.0, 0.0, 0.0, 0.0, 0.0, 0.0, 1.0, 1.0, 0.0, 1.0, 0.0, 0.0, 0.0, 0.0, 1.0, 0.0, 0.0, 0.0, 0.0, 1.0, 0.0, 0.0, 0.0, 0.0, 0.0, 0.0, 0.0, 0.0, 0.0, 0.0, 0.0, 0.0, 0.0, 0.0, 0.0, 0.0, 0.0, 0.0, 0.0, 0.0, 0.0, 0.0, 0.0, 0.0, 0.0, 0.0, 0.0, 0.0, 0.0, 0.0, 0.0, 0.0, 0.0, 0.0, 1.0, 0.0, 0.0, 0.0, 0.0, 1.0, 0.0, 0.0, 0.0, 0.0, 0.0, 0.0, 0.0, 0.0, 0.0, 0.0, 1.0, 0.0, 1.0, 0.0, 0.0, 1.0, 0.0, 0.0, 0.0, 0.0, 0.0, 0.0, 0.0, 0.0, 0.0, 0.0, 0.0, 0.0, 0.0, 0.0, 0.0, 0.0, 0.0, 1.0, 0.0, 1.0, 0.0, 0.0, 0.0, 0.0, 1.0, 1.0, 0.0, 0.0, 0.0, 0.0, 1.0, 0.0, 0.0, 0.0, 0.0, 0.0, 1.0, 0.0, 1.0, 0.0, 0.0, 0.0, 0.0, 0.0, 0.0, 0.0, 0.0, 0.0, 0.0, 0.0, 0.0, 0.0, 0.0, 0.0, 0.0, 0.0, 0.0, 1.0, 0.0, 0.0, 0.0, 0.0, 0.0, 0.0, 0.0, 1.0, 0.0, 0.0, 0.0, 0.0, 0.0, 0.0, 0.0, 0.0, 0.0, 0.0, 0.0, 0.0, 0.0, 0.0, 0.0, 0.0, 1.0, 0.0, 1.0, 0.0, 1.0, 0.0, 0.0, 0.0, 0.0, 0.0, 0.0, 0.0, 0.0, 0.0, 1.0, 0.0, 0.0, 1.0, 0.0, 0.0, 0.0, 0.0, 0.0, 0.0, 0.0, 0.0, 0.0, 0.0, 1.0, 0.0, 0.0, 0.0, 0.0, 0.0, 1.0, 0.0, 1.0, 0.0, 0.0, 0.0, 0.0, 0.0, 0.0, 0.0, 0.0, 0.0, 0.0, 0.0, 0.0, 0.0, 0.0, 0.0, 0.0, 0.0, 0.0, 0.0, 0.0, 0.0, 0.0, 0.0, 0.0, 0.0, 0.0, 0.0, 0.0, 0.0, 0.0, 0.0, 0.0, 0.0, 0.0, 0.0, 1.0, 1.0, 0.0, 0.0, 0.0, 1.0, 0.0, 0.0, 0.0, 1.0, 0.0, 0.0, 0.0, 0.0, 0.0, 1.0, 0.0, 0.0, 0.0, 1.0, 1.0, 0.0, 0.0, 0.0, 0.0, 0.0, 0.0, 0.0, 0.0, 0.0, 0.0, 0.0, 0.0, 0.0, 0.0, 0.0, 1.0, 0.0, 0.0, 1.0, 0.0, 0.0, 0.0, 0.0, 0.0, 0.0, 0.0, 0.0, 0.0, 0.0, 0.0, 0.0, 0.0, 0.0, 1.0, 0.0, 0.0, 0.0, 0.0, 0.0, 0.0, 0.0, 0.0, 0.0, 0.0, 0.0, 0.0, 0.0, 0.0, 1.0, 0.0, 0.0, 0.0, 0.0, 0.0, 1.0, 0.0, 0.0, 0.0, 0.0, 1.0, 0.0, 0.0, 1.0, 0.0, 0.0, 0.0, 0.0, 0.0, 0.0, 0.0, 0.0, 0.0, 1.0, 0.0, 0.0, 0.0, 0.0, 0.0, 0.0, 0.0, 0.0, 0.0, 0.0, 1.0, 0.0, 0.0, 0.0, 0.0, 0.0, 0.0, 0.0, 0.0, 0.0, 1.0, 0.0, 0.0, 0.0, 0.0, 0.0, 1.0, 0.0, 0.0, 0.0, 0.0, 0.0, 0.0, 0.0, 0.0, 0.0, 0.0, 0.0, 0.0, 0.0, 0.0, 1.0, 0.0, 0.0, 0.0, 0.0, 0.0, 0.0, 0.0, 0.0, 0.0, 0.0, 0.0, 0.0, 1.0, 0.0, 0.0, 0.0, 1.0, 0.0, 1.0, 0.0, 0.0, 0.0, 0.0, 0.0, 0.0, 0.0, 0.0, 0.0, 0.0, 0.0, 0.0, 0.0, 0.0, 1.0, 0.0, 0.0, 0.0, 0.0, 0.0, 0.0, 0.0, 0.0, 0.0, 0.0, 1.0, 0.0, 0.0, 0.0, 0.0, 0.0, 0.0, 1.0, 1.0, 0.0, 0.0, 0.0, 0.0, 0.0, 1.0, 0.0, 1.0, 0.0, 0.0, 0.0, 0.0, 0.0, 0.0, 0.0, 0.0, 0.0, 1.0, 0.0, 1.0, 0.0, 0.0, 0.0, 1.0, 0.0, 1.0, 0.0, 0.0, 0.0, 0.0, 0.0, 0.0, 0.0, 0.0, 1.0, 1.0, 1.0, 0.0, 1.0, 0.0, 0.0, 0.0, 0.0, 0.0, 0.0, 0.0, 0.0, 0.0, 0.0, 0.0, 0.0, 0.0, 1.0, 0.0, 0.0, 0.0, 0.0, 0.0, 0.0, 0.0, 0.0, 1.0, 0.0, 0.0, 0.0, 0.0, 0.0, 1.0, 0.0, 0.0, 0.0, 0.0, 1.0, 0.0, 1.0, 0.0, 0.0, 0.0, 0.0, 1.0, 0.0, 1.0, 0.0, 0.0, 0.0, 0.0, 0.0, 0.0, 0.0, 0.0, 0.0, 1.0, 0.0, 0.0, 0.0, 0.0, 0.0, 0.0, 0.0, 0.0, 0.0, 0.0, 0.0, 0.0, 0.0, 0.0, 0.0, 0.0, 0.0, 0.0, 0.0, 0.0, 0.0, 0.0, 0.0, 0.0, 0.0, 0.0, 1.0, 0.0, 0.0, 0.0, 0.0, 0.0, 0.0, 0.0, 0.0, 0.0, 0.0, 0.0, 0.0, 0.0, 0.0, 0.0, 1.0, 0.0, 0.0, 1.0, 0.0, 0.0, 0.0, 0.0, 0.0, 0.0, 0.0, 0.0, 0.0, 0.0, 0.0, 0.0, 0.0, 0.0, 0.0, 0.0, 0.0, 0.0, 0.0, 0.0, 0.0, 0.0, 0.0, 0.0, 0.0, 0.0, 0.0, 0.0, 0.0, 1.0, 0.0, 0.0, 0.0, 1.0, 0.0, 0.0, 0.0, 0.0, 1.0, 0.0, 0.0, 0.0, 0.0, 0.0, 1.0, 1.0, 0.0, 0.0, 0.0, 0.0, 0.0, 0.0, 1.0, 0.0, 0.0, 0.0, 0.0, 0.0, 0.0, 0.0, 0.0, 0.0, 0.0, 0.0, 0.0, 0.0, 0.0, 0.0, 1.0, 0.0, 0.0, 0.0, 0.0, 0.0, 1.0, 0.0, 0.0, 0.0, 0.0, 0.0, 0.0, 0.0, 0.0, 0.0, 0.0, 0.0, 1.0, 0.0, 0.0, 0.0, 0.0, 0.0, 0.0, 0.0, 0.0, 0.0, 0.0, 0.0, 0.0, 0.0, 0.0, 0.0, 0.0, 1.0, 0.0, 0.0, 0.0, 0.0, 0.0, 0.0, 0.0, 0.0, 0.0, 0.0, 0.0, 0.0, 0.0, 0.0, 0.0, 0.0, 1.0, 0.0, 0.0, 0.0, 0.0, 0.0, 0.0, 0.0, 0.0, 0.0, 0.0, 0.0, 0.0, 0.0, 0.0, 0.0, 0.0, 1.0, 0.0, 0.0, 0.0, 0.0, 0.0, 0.0, 0.0, 0.0, 0.0, 1.0, 1.0, 0.0, 0.0, 0.0, 0.0, 1.0, 0.0, 0.0, 1.0, 0.0, 0.0, 1.0, 0.0, 1.0, 1.0, 0.0, 0.0, 0.0, 0.0, 0.0, 0.0, 0.0, 0.0, 0.0, 0.0, 1.0, 1.0, 0.0, 1.0, 1.0, 0.0, 1.0, 0.0, 0.0, 0.0, 0.0, 0.0, 1.0, 0.0, 0.0, 0.0, 0.0, 0.0, 0.0, 0.0, 1.0, 0.0, 0.0, 0.0, 0.0, 0.0, 0.0, 0.0, 0.0, 0.0, 0.0, 0.0, 0.0, 0.0, 0.0, 0.0, 0.0, 0.0, 0.0, 0.0, 0.0, 0.0, 0.0, 1.0, 0.0, 0.0, 0.0, 0.0, 1.0, 0.0, 0.0, 0.0, 0.0, 0.0, 1.0, 0.0, 0.0, 0.0, 0.0, 0.0, 0.0, 0.0, 0.0, 0.0, 1.0, 0.0, 0.0, 0.0, 1.0, 0.0, 1.0, 0.0, 0.0, 0.0, 0.0, 0.0, 0.0, 0.0, 0.0, 0.0, 1.0, 0.0, 0.0, 0.0, 0.0, 0.0, 0.0, 0.0, 0.0, 0.0, 0.0, 0.0, 0.0, 0.0, 0.0, 0.0, 0.0, 0.0, 1.0, 0.0, 0.0, 0.0, 0.0, 1.0, 1.0, 0.0, 1.0, 0.0, 0.0, 0.0, 0.0, 0.0, 0.0, 0.0, 0.0, 0.0, 0.0, 0.0, 0.0, 0.0, 0.0, 0.0, 0.0, 1.0, 0.0, 0.0, 0.0, 0.0, 0.0, 1.0, 0.0, 0.0, 0.0, 0.0, 0.0, 0.0, 0.0, 1.0, 0.0, 0.0], \"coloraxis\": \"coloraxis\", \"symbol\": \"circle\"}, \"name\": \"\", \"showlegend\": false, \"type\": \"splom\"}],\n",
              "                        {\"coloraxis\": {\"colorbar\": {\"title\": {\"text\": \"INADIMPLENCIA\"}}, \"colorscale\": [[0.0, \"#0d0887\"], [0.1111111111111111, \"#46039f\"], [0.2222222222222222, \"#7201a8\"], [0.3333333333333333, \"#9c179e\"], [0.4444444444444444, \"#bd3786\"], [0.5555555555555556, \"#d8576b\"], [0.6666666666666666, \"#ed7953\"], [0.7777777777777778, \"#fb9f3a\"], [0.8888888888888888, \"#fdca26\"], [1.0, \"#f0f921\"]]}, \"dragmode\": \"select\", \"legend\": {\"tracegroupgap\": 0}, \"margin\": {\"t\": 60}, \"template\": {\"data\": {\"bar\": [{\"error_x\": {\"color\": \"#2a3f5f\"}, \"error_y\": {\"color\": \"#2a3f5f\"}, \"marker\": {\"line\": {\"color\": \"#E5ECF6\", \"width\": 0.5}}, \"type\": \"bar\"}], \"barpolar\": [{\"marker\": {\"line\": {\"color\": \"#E5ECF6\", \"width\": 0.5}}, \"type\": \"barpolar\"}], \"carpet\": [{\"aaxis\": {\"endlinecolor\": \"#2a3f5f\", \"gridcolor\": \"white\", \"linecolor\": \"white\", \"minorgridcolor\": \"white\", \"startlinecolor\": \"#2a3f5f\"}, \"baxis\": {\"endlinecolor\": \"#2a3f5f\", \"gridcolor\": \"white\", \"linecolor\": \"white\", \"minorgridcolor\": \"white\", \"startlinecolor\": \"#2a3f5f\"}, \"type\": \"carpet\"}], \"choropleth\": [{\"colorbar\": {\"outlinewidth\": 0, \"ticks\": \"\"}, \"type\": \"choropleth\"}], \"contour\": [{\"colorbar\": {\"outlinewidth\": 0, \"ticks\": \"\"}, \"colorscale\": [[0.0, \"#0d0887\"], [0.1111111111111111, \"#46039f\"], [0.2222222222222222, \"#7201a8\"], [0.3333333333333333, \"#9c179e\"], [0.4444444444444444, \"#bd3786\"], [0.5555555555555556, \"#d8576b\"], [0.6666666666666666, \"#ed7953\"], [0.7777777777777778, \"#fb9f3a\"], [0.8888888888888888, \"#fdca26\"], [1.0, \"#f0f921\"]], \"type\": \"contour\"}], \"contourcarpet\": [{\"colorbar\": {\"outlinewidth\": 0, \"ticks\": \"\"}, \"type\": \"contourcarpet\"}], \"heatmap\": [{\"colorbar\": {\"outlinewidth\": 0, \"ticks\": \"\"}, \"colorscale\": [[0.0, \"#0d0887\"], [0.1111111111111111, \"#46039f\"], [0.2222222222222222, \"#7201a8\"], [0.3333333333333333, \"#9c179e\"], [0.4444444444444444, \"#bd3786\"], [0.5555555555555556, \"#d8576b\"], [0.6666666666666666, \"#ed7953\"], [0.7777777777777778, \"#fb9f3a\"], [0.8888888888888888, \"#fdca26\"], [1.0, \"#f0f921\"]], \"type\": \"heatmap\"}], \"heatmapgl\": [{\"colorbar\": {\"outlinewidth\": 0, \"ticks\": \"\"}, \"colorscale\": [[0.0, \"#0d0887\"], [0.1111111111111111, \"#46039f\"], [0.2222222222222222, \"#7201a8\"], [0.3333333333333333, \"#9c179e\"], [0.4444444444444444, \"#bd3786\"], [0.5555555555555556, \"#d8576b\"], [0.6666666666666666, \"#ed7953\"], [0.7777777777777778, \"#fb9f3a\"], [0.8888888888888888, \"#fdca26\"], [1.0, \"#f0f921\"]], \"type\": \"heatmapgl\"}], \"histogram\": [{\"marker\": {\"colorbar\": {\"outlinewidth\": 0, \"ticks\": \"\"}}, \"type\": \"histogram\"}], \"histogram2d\": [{\"colorbar\": {\"outlinewidth\": 0, \"ticks\": \"\"}, \"colorscale\": [[0.0, \"#0d0887\"], [0.1111111111111111, \"#46039f\"], [0.2222222222222222, \"#7201a8\"], [0.3333333333333333, \"#9c179e\"], [0.4444444444444444, \"#bd3786\"], [0.5555555555555556, \"#d8576b\"], [0.6666666666666666, \"#ed7953\"], [0.7777777777777778, \"#fb9f3a\"], [0.8888888888888888, \"#fdca26\"], [1.0, \"#f0f921\"]], \"type\": \"histogram2d\"}], \"histogram2dcontour\": [{\"colorbar\": {\"outlinewidth\": 0, \"ticks\": \"\"}, \"colorscale\": [[0.0, \"#0d0887\"], [0.1111111111111111, \"#46039f\"], [0.2222222222222222, \"#7201a8\"], [0.3333333333333333, \"#9c179e\"], [0.4444444444444444, \"#bd3786\"], [0.5555555555555556, \"#d8576b\"], [0.6666666666666666, \"#ed7953\"], [0.7777777777777778, \"#fb9f3a\"], [0.8888888888888888, \"#fdca26\"], [1.0, \"#f0f921\"]], \"type\": \"histogram2dcontour\"}], \"mesh3d\": [{\"colorbar\": {\"outlinewidth\": 0, \"ticks\": \"\"}, \"type\": \"mesh3d\"}], \"parcoords\": [{\"line\": {\"colorbar\": {\"outlinewidth\": 0, \"ticks\": \"\"}}, \"type\": \"parcoords\"}], \"pie\": [{\"automargin\": true, \"type\": \"pie\"}], \"scatter\": [{\"marker\": {\"colorbar\": {\"outlinewidth\": 0, \"ticks\": \"\"}}, \"type\": \"scatter\"}], \"scatter3d\": [{\"line\": {\"colorbar\": {\"outlinewidth\": 0, \"ticks\": \"\"}}, \"marker\": {\"colorbar\": {\"outlinewidth\": 0, \"ticks\": \"\"}}, \"type\": \"scatter3d\"}], \"scattercarpet\": [{\"marker\": {\"colorbar\": {\"outlinewidth\": 0, \"ticks\": \"\"}}, \"type\": \"scattercarpet\"}], \"scattergeo\": [{\"marker\": {\"colorbar\": {\"outlinewidth\": 0, \"ticks\": \"\"}}, \"type\": \"scattergeo\"}], \"scattergl\": [{\"marker\": {\"colorbar\": {\"outlinewidth\": 0, \"ticks\": \"\"}}, \"type\": \"scattergl\"}], \"scattermapbox\": [{\"marker\": {\"colorbar\": {\"outlinewidth\": 0, \"ticks\": \"\"}}, \"type\": \"scattermapbox\"}], \"scatterpolar\": [{\"marker\": {\"colorbar\": {\"outlinewidth\": 0, \"ticks\": \"\"}}, \"type\": \"scatterpolar\"}], \"scatterpolargl\": [{\"marker\": {\"colorbar\": {\"outlinewidth\": 0, \"ticks\": \"\"}}, \"type\": \"scatterpolargl\"}], \"scatterternary\": [{\"marker\": {\"colorbar\": {\"outlinewidth\": 0, \"ticks\": \"\"}}, \"type\": \"scatterternary\"}], \"surface\": [{\"colorbar\": {\"outlinewidth\": 0, \"ticks\": \"\"}, \"colorscale\": [[0.0, \"#0d0887\"], [0.1111111111111111, \"#46039f\"], [0.2222222222222222, \"#7201a8\"], [0.3333333333333333, \"#9c179e\"], [0.4444444444444444, \"#bd3786\"], [0.5555555555555556, \"#d8576b\"], [0.6666666666666666, \"#ed7953\"], [0.7777777777777778, \"#fb9f3a\"], [0.8888888888888888, \"#fdca26\"], [1.0, \"#f0f921\"]], \"type\": \"surface\"}], \"table\": [{\"cells\": {\"fill\": {\"color\": \"#EBF0F8\"}, \"line\": {\"color\": \"white\"}}, \"header\": {\"fill\": {\"color\": \"#C8D4E3\"}, \"line\": {\"color\": \"white\"}}, \"type\": \"table\"}]}, \"layout\": {\"annotationdefaults\": {\"arrowcolor\": \"#2a3f5f\", \"arrowhead\": 0, \"arrowwidth\": 1}, \"coloraxis\": {\"colorbar\": {\"outlinewidth\": 0, \"ticks\": \"\"}}, \"colorscale\": {\"diverging\": [[0, \"#8e0152\"], [0.1, \"#c51b7d\"], [0.2, \"#de77ae\"], [0.3, \"#f1b6da\"], [0.4, \"#fde0ef\"], [0.5, \"#f7f7f7\"], [0.6, \"#e6f5d0\"], [0.7, \"#b8e186\"], [0.8, \"#7fbc41\"], [0.9, \"#4d9221\"], [1, \"#276419\"]], \"sequential\": [[0.0, \"#0d0887\"], [0.1111111111111111, \"#46039f\"], [0.2222222222222222, \"#7201a8\"], [0.3333333333333333, \"#9c179e\"], [0.4444444444444444, \"#bd3786\"], [0.5555555555555556, \"#d8576b\"], [0.6666666666666666, \"#ed7953\"], [0.7777777777777778, \"#fb9f3a\"], [0.8888888888888888, \"#fdca26\"], [1.0, \"#f0f921\"]], \"sequentialminus\": [[0.0, \"#0d0887\"], [0.1111111111111111, \"#46039f\"], [0.2222222222222222, \"#7201a8\"], [0.3333333333333333, \"#9c179e\"], [0.4444444444444444, \"#bd3786\"], [0.5555555555555556, \"#d8576b\"], [0.6666666666666666, \"#ed7953\"], [0.7777777777777778, \"#fb9f3a\"], [0.8888888888888888, \"#fdca26\"], [1.0, \"#f0f921\"]]}, \"colorway\": [\"#636efa\", \"#EF553B\", \"#00cc96\", \"#ab63fa\", \"#FFA15A\", \"#19d3f3\", \"#FF6692\", \"#B6E880\", \"#FF97FF\", \"#FECB52\"], \"font\": {\"color\": \"#2a3f5f\"}, \"geo\": {\"bgcolor\": \"white\", \"lakecolor\": \"white\", \"landcolor\": \"#E5ECF6\", \"showlakes\": true, \"showland\": true, \"subunitcolor\": \"white\"}, \"hoverlabel\": {\"align\": \"left\"}, \"hovermode\": \"closest\", \"mapbox\": {\"style\": \"light\"}, \"paper_bgcolor\": \"white\", \"plot_bgcolor\": \"#E5ECF6\", \"polar\": {\"angularaxis\": {\"gridcolor\": \"white\", \"linecolor\": \"white\", \"ticks\": \"\"}, \"bgcolor\": \"#E5ECF6\", \"radialaxis\": {\"gridcolor\": \"white\", \"linecolor\": \"white\", \"ticks\": \"\"}}, \"scene\": {\"xaxis\": {\"backgroundcolor\": \"#E5ECF6\", \"gridcolor\": \"white\", \"gridwidth\": 2, \"linecolor\": \"white\", \"showbackground\": true, \"ticks\": \"\", \"zerolinecolor\": \"white\"}, \"yaxis\": {\"backgroundcolor\": \"#E5ECF6\", \"gridcolor\": \"white\", \"gridwidth\": 2, \"linecolor\": \"white\", \"showbackground\": true, \"ticks\": \"\", \"zerolinecolor\": \"white\"}, \"zaxis\": {\"backgroundcolor\": \"#E5ECF6\", \"gridcolor\": \"white\", \"gridwidth\": 2, \"linecolor\": \"white\", \"showbackground\": true, \"ticks\": \"\", \"zerolinecolor\": \"white\"}}, \"shapedefaults\": {\"line\": {\"color\": \"#2a3f5f\"}}, \"ternary\": {\"aaxis\": {\"gridcolor\": \"white\", \"linecolor\": \"white\", \"ticks\": \"\"}, \"baxis\": {\"gridcolor\": \"white\", \"linecolor\": \"white\", \"ticks\": \"\"}, \"bgcolor\": \"#E5ECF6\", \"caxis\": {\"gridcolor\": \"white\", \"linecolor\": \"white\", \"ticks\": \"\"}}, \"title\": {\"x\": 0.05}, \"xaxis\": {\"automargin\": true, \"gridcolor\": \"white\", \"linecolor\": \"white\", \"ticks\": \"\", \"title\": {\"standoff\": 15}, \"zerolinecolor\": \"white\", \"zerolinewidth\": 2}, \"yaxis\": {\"automargin\": true, \"gridcolor\": \"white\", \"linecolor\": \"white\", \"ticks\": \"\", \"title\": {\"standoff\": 15}, \"zerolinecolor\": \"white\", \"zerolinewidth\": 2}}}},\n",
              "                        {\"responsive\": true}\n",
              "                    ).then(function(){\n",
              "                            \n",
              "var gd = document.getElementById('6c78d1fe-2e4b-4cea-bc27-2529f3ba8e7f');\n",
              "var x = new MutationObserver(function (mutations, observer) {{\n",
              "        var display = window.getComputedStyle(gd).display;\n",
              "        if (!display || display === 'none') {{\n",
              "            console.log([gd, 'removed!']);\n",
              "            Plotly.purge(gd);\n",
              "            observer.disconnect();\n",
              "        }}\n",
              "}});\n",
              "\n",
              "// Listen for the removal of the full notebook cells\n",
              "var notebookContainer = gd.closest('#notebook-container');\n",
              "if (notebookContainer) {{\n",
              "    x.observe(notebookContainer, {childList: true});\n",
              "}}\n",
              "\n",
              "// Listen for the clearing of the current output cell\n",
              "var outputEl = gd.closest('.output');\n",
              "if (outputEl) {{\n",
              "    x.observe(outputEl, {childList: true});\n",
              "}}\n",
              "\n",
              "                        })\n",
              "                };\n",
              "                \n",
              "            </script>\n",
              "        </div>\n",
              "</body>\n",
              "</html>"
            ]
          },
          "metadata": {
            "tags": []
          }
        }
      ]
    },
    {
      "cell_type": "markdown",
      "metadata": {
        "id": "isET4zZn-fBe"
      },
      "source": [
        "### **02.p.Visualizar a dispersão dos dados em um gráfico 3D.**"
      ]
    },
    {
      "cell_type": "markdown",
      "metadata": {
        "id": "-WvpT81L-mnW"
      },
      "source": [
        "- Antes de tudo vale lembrar que cada atributo em nosso *DataFrame* é uma dimensão em nossos gráficos.\n",
        " - Repare que nos gráficos do item anterior estamos comparando apenas 02 atributos e por isso os gráficos possuem duas dimensões. Logo os gráficos são planos.\n",
        "  - Agora iremos visualizar 03 atributos em um mesmo gráfico, portanto o gráfico terá 03 dimensões e assim não será plano e sim terá um volume.\n",
        "  - Nós não conseguimos gerar gráficos com 04 (ou mais) dimensões, porém apesar de não poder visualizar, podemos fazer as contas necessárias sem nenhum problema.\n",
        "\n",
        "- Este ponto é importante para se levar em consideração principalmente quando usaremos algoritmos de aprendizagem que calculam distância entre os dados. Pois quanto mais atributos no *DataFrame*, há mais dimensões e isso dificulta o trabalho e a eficiência do algoritmo.\n",
        " - Este conceito é conhecido com '**a maldição da dimensionalidade**'. E por isso há técnicas para diminuir a dimensão (quantidade de atributos) do *DataFrame* que não são tão importantes. Porém, neste projeto não iremos aplicar nenhuma técnica, pois temos poucas dimensões nos dados deste projeto.\n",
        "\n",
        "- Para gerar um gráfico de dispersão 3D (gráfico com 03 dimensões) com a biblioteca Plotly usaremos o método **`scatter_3d( )`** desta forma:\n",
        "\n",
        "\n",
        "```\n",
        "fig = px.scatter_3d(df, x='SALARIO', y='EMPRESTIMO', z='IDADE', color='INADIMPLENTE')\n",
        "\n",
        "fig.show()\n",
        "```"
      ]
    },
    {
      "cell_type": "code",
      "metadata": {
        "colab": {
          "base_uri": "https://localhost:8080/",
          "height": 542
        },
        "id": "eQtVw3LjCPjn",
        "outputId": "9b85577b-d47e-4810-e092-b84510b3d467"
      },
      "source": [
        "# GERAR UM GRÁFICO DE DISPERSÃO EM 3D COM BIBLIOTECA PLOTLY.\n",
        "fig = px.scatter_3d(df, x='SALARIO', y='EMPRESTIMO', z='IDADE', color='INADIMPLENCIA')\n",
        "\n",
        "fig.show()"
      ],
      "execution_count": null,
      "outputs": [
        {
          "output_type": "display_data",
          "data": {
            "text/html": [
              "<html>\n",
              "<head><meta charset=\"utf-8\" /></head>\n",
              "<body>\n",
              "    <div>\n",
              "            <script src=\"https://cdnjs.cloudflare.com/ajax/libs/mathjax/2.7.5/MathJax.js?config=TeX-AMS-MML_SVG\"></script><script type=\"text/javascript\">if (window.MathJax) {MathJax.Hub.Config({SVG: {font: \"STIX-Web\"}});}</script>\n",
              "                <script type=\"text/javascript\">window.PlotlyConfig = {MathJaxConfig: 'local'};</script>\n",
              "        <script src=\"https://cdn.plot.ly/plotly-latest.min.js\"></script>    \n",
              "            <div id=\"7efc7541-0482-49fb-98b6-25985bc2cae8\" class=\"plotly-graph-div\" style=\"height:525px; width:100%;\"></div>\n",
              "            <script type=\"text/javascript\">\n",
              "                \n",
              "                    window.PLOTLYENV=window.PLOTLYENV || {};\n",
              "                    \n",
              "                if (document.getElementById(\"7efc7541-0482-49fb-98b6-25985bc2cae8\")) {\n",
              "                    Plotly.newPlot(\n",
              "                        '7efc7541-0482-49fb-98b6-25985bc2cae8',\n",
              "                        [{\"hoverlabel\": {\"namelength\": 0}, \"hovertemplate\": \"SALARIO=%{x}<br>EMPRESTIMO=%{y}<br>IDADE=%{z}<br>INADIMPLENCIA=%{marker.color}\", \"legendgroup\": \"\", \"marker\": {\"color\": [0.0, 0.0, 0.0, 0.0, 1.0, 0.0, 0.0, 1.0, 0.0, 0.0, 0.0, 0.0, 0.0, 0.0, 0.0, 0.0, 0.0, 0.0, 0.0, 0.0, 0.0, 0.0, 0.0, 0.0, 0.0, 0.0, 0.0, 0.0, 0.0, 0.0, 0.0, 0.0, 0.0, 0.0, 0.0, 0.0, 0.0, 0.0, 0.0, 1.0, 0.0, 0.0, 0.0, 1.0, 0.0, 0.0, 0.0, 0.0, 0.0, 0.0, 0.0, 0.0, 0.0, 0.0, 0.0, 0.0, 1.0, 0.0, 0.0, 0.0, 0.0, 0.0, 0.0, 0.0, 0.0, 0.0, 0.0, 1.0, 0.0, 0.0, 0.0, 1.0, 1.0, 0.0, 0.0, 0.0, 0.0, 0.0, 0.0, 0.0, 0.0, 0.0, 0.0, 0.0, 1.0, 1.0, 1.0, 0.0, 0.0, 0.0, 0.0, 0.0, 0.0, 0.0, 0.0, 0.0, 0.0, 0.0, 1.0, 1.0, 0.0, 0.0, 0.0, 1.0, 0.0, 0.0, 1.0, 0.0, 0.0, 0.0, 0.0, 0.0, 0.0, 0.0, 0.0, 0.0, 0.0, 0.0, 0.0, 0.0, 0.0, 1.0, 0.0, 0.0, 0.0, 0.0, 0.0, 0.0, 0.0, 0.0, 0.0, 0.0, 1.0, 0.0, 0.0, 0.0, 0.0, 1.0, 0.0, 1.0, 1.0, 0.0, 1.0, 0.0, 0.0, 1.0, 0.0, 0.0, 0.0, 0.0, 0.0, 0.0, 0.0, 0.0, 0.0, 0.0, 0.0, 1.0, 0.0, 0.0, 0.0, 0.0, 0.0, 0.0, 1.0, 0.0, 1.0, 0.0, 0.0, 0.0, 0.0, 0.0, 0.0, 0.0, 0.0, 0.0, 0.0, 1.0, 0.0, 1.0, 1.0, 0.0, 0.0, 0.0, 1.0, 1.0, 0.0, 0.0, 0.0, 0.0, 1.0, 0.0, 0.0, 0.0, 0.0, 1.0, 0.0, 0.0, 0.0, 0.0, 0.0, 1.0, 0.0, 0.0, 0.0, 0.0, 0.0, 0.0, 0.0, 0.0, 0.0, 0.0, 0.0, 0.0, 0.0, 0.0, 0.0, 0.0, 0.0, 0.0, 0.0, 0.0, 0.0, 0.0, 0.0, 1.0, 0.0, 0.0, 1.0, 1.0, 0.0, 0.0, 0.0, 1.0, 0.0, 1.0, 0.0, 0.0, 0.0, 0.0, 0.0, 0.0, 0.0, 0.0, 1.0, 0.0, 0.0, 0.0, 1.0, 0.0, 0.0, 0.0, 0.0, 0.0, 0.0, 0.0, 0.0, 0.0, 1.0, 0.0, 0.0, 0.0, 0.0, 0.0, 0.0, 0.0, 0.0, 0.0, 0.0, 0.0, 0.0, 1.0, 0.0, 1.0, 0.0, 1.0, 0.0, 1.0, 1.0, 0.0, 0.0, 0.0, 0.0, 0.0, 0.0, 0.0, 0.0, 0.0, 0.0, 0.0, 0.0, 0.0, 0.0, 0.0, 0.0, 0.0, 0.0, 0.0, 0.0, 0.0, 0.0, 1.0, 0.0, 0.0, 0.0, 1.0, 1.0, 0.0, 0.0, 0.0, 0.0, 0.0, 0.0, 0.0, 0.0, 0.0, 0.0, 0.0, 0.0, 0.0, 0.0, 0.0, 0.0, 0.0, 0.0, 1.0, 0.0, 1.0, 0.0, 0.0, 0.0, 0.0, 0.0, 0.0, 0.0, 0.0, 0.0, 0.0, 0.0, 0.0, 0.0, 0.0, 1.0, 0.0, 0.0, 1.0, 0.0, 0.0, 0.0, 1.0, 0.0, 0.0, 0.0, 1.0, 0.0, 0.0, 0.0, 0.0, 0.0, 0.0, 0.0, 1.0, 0.0, 0.0, 0.0, 0.0, 0.0, 0.0, 0.0, 0.0, 0.0, 0.0, 0.0, 0.0, 0.0, 0.0, 0.0, 0.0, 0.0, 0.0, 0.0, 0.0, 0.0, 0.0, 0.0, 1.0, 0.0, 0.0, 0.0, 0.0, 0.0, 0.0, 0.0, 0.0, 0.0, 0.0, 1.0, 0.0, 0.0, 0.0, 0.0, 0.0, 1.0, 0.0, 0.0, 1.0, 0.0, 0.0, 0.0, 0.0, 0.0, 0.0, 1.0, 0.0, 0.0, 1.0, 0.0, 0.0, 0.0, 0.0, 0.0, 1.0, 0.0, 0.0, 0.0, 0.0, 0.0, 1.0, 0.0, 1.0, 0.0, 0.0, 0.0, 1.0, 0.0, 1.0, 0.0, 0.0, 0.0, 0.0, 1.0, 0.0, 0.0, 0.0, 0.0, 0.0, 0.0, 0.0, 0.0, 0.0, 0.0, 0.0, 1.0, 0.0, 1.0, 0.0, 0.0, 1.0, 1.0, 0.0, 0.0, 0.0, 0.0, 0.0, 1.0, 0.0, 0.0, 0.0, 0.0, 0.0, 0.0, 0.0, 1.0, 0.0, 0.0, 0.0, 0.0, 0.0, 0.0, 0.0, 1.0, 0.0, 1.0, 0.0, 0.0, 0.0, 0.0, 0.0, 1.0, 0.0, 0.0, 0.0, 1.0, 0.0, 0.0, 1.0, 0.0, 0.0, 0.0, 0.0, 1.0, 0.0, 0.0, 0.0, 0.0, 0.0, 0.0, 0.0, 0.0, 0.0, 0.0, 0.0, 0.0, 0.0, 0.0, 0.0, 1.0, 0.0, 0.0, 1.0, 0.0, 0.0, 0.0, 1.0, 0.0, 0.0, 0.0, 0.0, 0.0, 0.0, 0.0, 0.0, 0.0, 0.0, 1.0, 1.0, 0.0, 0.0, 0.0, 0.0, 0.0, 0.0, 0.0, 0.0, 1.0, 0.0, 0.0, 0.0, 0.0, 1.0, 0.0, 0.0, 0.0, 0.0, 1.0, 0.0, 0.0, 0.0, 0.0, 0.0, 0.0, 0.0, 0.0, 0.0, 0.0, 0.0, 0.0, 0.0, 0.0, 1.0, 1.0, 0.0, 0.0, 0.0, 0.0, 0.0, 0.0, 0.0, 0.0, 0.0, 0.0, 1.0, 1.0, 1.0, 0.0, 1.0, 0.0, 0.0, 0.0, 0.0, 0.0, 0.0, 0.0, 0.0, 0.0, 0.0, 0.0, 0.0, 0.0, 0.0, 0.0, 0.0, 0.0, 0.0, 0.0, 0.0, 0.0, 0.0, 1.0, 0.0, 1.0, 0.0, 0.0, 0.0, 0.0, 0.0, 0.0, 0.0, 0.0, 0.0, 0.0, 0.0, 0.0, 0.0, 0.0, 0.0, 0.0, 1.0, 0.0, 0.0, 0.0, 0.0, 0.0, 0.0, 0.0, 0.0, 0.0, 0.0, 0.0, 0.0, 0.0, 0.0, 0.0, 0.0, 0.0, 0.0, 1.0, 0.0, 0.0, 1.0, 0.0, 0.0, 0.0, 1.0, 0.0, 0.0, 0.0, 0.0, 0.0, 0.0, 0.0, 0.0, 0.0, 0.0, 0.0, 0.0, 0.0, 0.0, 0.0, 0.0, 0.0, 0.0, 0.0, 0.0, 0.0, 0.0, 1.0, 0.0, 0.0, 1.0, 0.0, 1.0, 0.0, 0.0, 0.0, 0.0, 0.0, 0.0, 0.0, 0.0, 0.0, 0.0, 0.0, 0.0, 0.0, 1.0, 0.0, 1.0, 0.0, 0.0, 0.0, 1.0, 1.0, 0.0, 1.0, 0.0, 0.0, 0.0, 0.0, 0.0, 0.0, 0.0, 1.0, 0.0, 1.0, 0.0, 0.0, 0.0, 0.0, 0.0, 0.0, 0.0, 0.0, 0.0, 0.0, 0.0, 0.0, 0.0, 0.0, 0.0, 0.0, 0.0, 0.0, 0.0, 0.0, 1.0, 0.0, 0.0, 0.0, 0.0, 0.0, 0.0, 0.0, 0.0, 0.0, 0.0, 0.0, 0.0, 0.0, 1.0, 1.0, 0.0, 0.0, 0.0, 0.0, 0.0, 0.0, 0.0, 1.0, 0.0, 0.0, 0.0, 0.0, 1.0, 0.0, 0.0, 0.0, 0.0, 0.0, 0.0, 0.0, 0.0, 0.0, 0.0, 0.0, 0.0, 0.0, 0.0, 0.0, 0.0, 1.0, 0.0, 0.0, 0.0, 1.0, 0.0, 1.0, 0.0, 0.0, 0.0, 0.0, 0.0, 1.0, 0.0, 0.0, 0.0, 0.0, 0.0, 0.0, 0.0, 0.0, 0.0, 0.0, 0.0, 0.0, 0.0, 0.0, 0.0, 0.0, 0.0, 0.0, 0.0, 0.0, 0.0, 0.0, 1.0, 0.0, 0.0, 0.0, 0.0, 0.0, 0.0, 0.0, 0.0, 0.0, 0.0, 0.0, 0.0, 0.0, 0.0, 0.0, 0.0, 0.0, 0.0, 0.0, 0.0, 0.0, 0.0, 1.0, 0.0, 0.0, 1.0, 0.0, 0.0, 0.0, 0.0, 0.0, 0.0, 0.0, 0.0, 0.0, 0.0, 0.0, 0.0, 0.0, 0.0, 0.0, 0.0, 0.0, 0.0, 1.0, 0.0, 0.0, 0.0, 0.0, 0.0, 0.0, 0.0, 0.0, 0.0, 1.0, 0.0, 0.0, 0.0, 0.0, 0.0, 0.0, 0.0, 1.0, 0.0, 1.0, 0.0, 0.0, 0.0, 0.0, 0.0, 0.0, 1.0, 0.0, 1.0, 0.0, 0.0, 0.0, 0.0, 0.0, 0.0, 0.0, 0.0, 0.0, 0.0, 0.0, 0.0, 1.0, 0.0, 0.0, 0.0, 1.0, 0.0, 0.0, 0.0, 1.0, 0.0, 1.0, 0.0, 0.0, 0.0, 0.0, 1.0, 0.0, 0.0, 0.0, 0.0, 0.0, 0.0, 0.0, 0.0, 0.0, 0.0, 0.0, 0.0, 0.0, 0.0, 0.0, 0.0, 0.0, 0.0, 0.0, 0.0, 0.0, 0.0, 0.0, 0.0, 0.0, 0.0, 0.0, 0.0, 0.0, 1.0, 0.0, 0.0, 0.0, 0.0, 0.0, 0.0, 1.0, 1.0, 0.0, 1.0, 0.0, 0.0, 0.0, 0.0, 0.0, 1.0, 0.0, 1.0, 1.0, 1.0, 0.0, 0.0, 0.0, 0.0, 0.0, 0.0, 0.0, 1.0, 0.0, 1.0, 0.0, 0.0, 0.0, 1.0, 1.0, 1.0, 1.0, 0.0, 0.0, 0.0, 0.0, 0.0, 0.0, 0.0, 0.0, 0.0, 1.0, 0.0, 0.0, 0.0, 1.0, 0.0, 0.0, 0.0, 0.0, 0.0, 1.0, 0.0, 0.0, 1.0, 0.0, 0.0, 0.0, 0.0, 0.0, 0.0, 0.0, 0.0, 0.0, 0.0, 0.0, 0.0, 1.0, 0.0, 0.0, 0.0, 0.0, 1.0, 0.0, 0.0, 0.0, 0.0, 0.0, 0.0, 0.0, 0.0, 0.0, 0.0, 0.0, 0.0, 0.0, 0.0, 1.0, 0.0, 0.0, 1.0, 0.0, 0.0, 1.0, 0.0, 1.0, 0.0, 0.0, 0.0, 0.0, 0.0, 0.0, 0.0, 0.0, 0.0, 0.0, 0.0, 0.0, 0.0, 0.0, 0.0, 0.0, 1.0, 0.0, 0.0, 1.0, 1.0, 0.0, 0.0, 0.0, 0.0, 0.0, 0.0, 1.0, 0.0, 0.0, 0.0, 0.0, 1.0, 0.0, 0.0, 0.0, 0.0, 0.0, 0.0, 1.0, 0.0, 0.0, 0.0, 0.0, 1.0, 0.0, 0.0, 0.0, 0.0, 0.0, 0.0, 0.0, 1.0, 1.0, 0.0, 0.0, 0.0, 0.0, 0.0, 0.0, 0.0, 0.0, 0.0, 0.0, 0.0, 1.0, 0.0, 0.0, 0.0, 1.0, 0.0, 0.0, 0.0, 0.0, 0.0, 0.0, 0.0, 1.0, 0.0, 0.0, 0.0, 0.0, 0.0, 0.0, 0.0, 0.0, 0.0, 1.0, 1.0, 0.0, 1.0, 0.0, 0.0, 0.0, 0.0, 1.0, 0.0, 0.0, 0.0, 0.0, 1.0, 0.0, 0.0, 0.0, 0.0, 0.0, 0.0, 0.0, 0.0, 0.0, 0.0, 0.0, 0.0, 0.0, 0.0, 0.0, 0.0, 0.0, 0.0, 0.0, 0.0, 0.0, 0.0, 0.0, 0.0, 0.0, 0.0, 0.0, 0.0, 0.0, 0.0, 0.0, 0.0, 0.0, 0.0, 1.0, 0.0, 0.0, 0.0, 0.0, 1.0, 0.0, 0.0, 0.0, 0.0, 0.0, 0.0, 0.0, 0.0, 0.0, 0.0, 1.0, 0.0, 1.0, 0.0, 0.0, 1.0, 0.0, 0.0, 0.0, 0.0, 0.0, 0.0, 0.0, 0.0, 0.0, 0.0, 0.0, 0.0, 0.0, 0.0, 0.0, 0.0, 0.0, 1.0, 0.0, 1.0, 0.0, 0.0, 0.0, 0.0, 1.0, 1.0, 0.0, 0.0, 0.0, 0.0, 1.0, 0.0, 0.0, 0.0, 0.0, 0.0, 1.0, 0.0, 1.0, 0.0, 0.0, 0.0, 0.0, 0.0, 0.0, 0.0, 0.0, 0.0, 0.0, 0.0, 0.0, 0.0, 0.0, 0.0, 0.0, 0.0, 0.0, 1.0, 0.0, 0.0, 0.0, 0.0, 0.0, 0.0, 0.0, 1.0, 0.0, 0.0, 0.0, 0.0, 0.0, 0.0, 0.0, 0.0, 0.0, 0.0, 0.0, 0.0, 0.0, 0.0, 0.0, 0.0, 1.0, 0.0, 1.0, 0.0, 1.0, 0.0, 0.0, 0.0, 0.0, 0.0, 0.0, 0.0, 0.0, 0.0, 1.0, 0.0, 0.0, 1.0, 0.0, 0.0, 0.0, 0.0, 0.0, 0.0, 0.0, 0.0, 0.0, 0.0, 1.0, 0.0, 0.0, 0.0, 0.0, 0.0, 1.0, 0.0, 1.0, 0.0, 0.0, 0.0, 0.0, 0.0, 0.0, 0.0, 0.0, 0.0, 0.0, 0.0, 0.0, 0.0, 0.0, 0.0, 0.0, 0.0, 0.0, 0.0, 0.0, 0.0, 0.0, 0.0, 0.0, 0.0, 0.0, 0.0, 0.0, 0.0, 0.0, 0.0, 0.0, 0.0, 0.0, 0.0, 1.0, 1.0, 0.0, 0.0, 0.0, 1.0, 0.0, 0.0, 0.0, 1.0, 0.0, 0.0, 0.0, 0.0, 0.0, 1.0, 0.0, 0.0, 0.0, 1.0, 1.0, 0.0, 0.0, 0.0, 0.0, 0.0, 0.0, 0.0, 0.0, 0.0, 0.0, 0.0, 0.0, 0.0, 0.0, 0.0, 1.0, 0.0, 0.0, 1.0, 0.0, 0.0, 0.0, 0.0, 0.0, 0.0, 0.0, 0.0, 0.0, 0.0, 0.0, 0.0, 0.0, 0.0, 1.0, 0.0, 0.0, 0.0, 0.0, 0.0, 0.0, 0.0, 0.0, 0.0, 0.0, 0.0, 0.0, 0.0, 0.0, 1.0, 0.0, 0.0, 0.0, 0.0, 0.0, 1.0, 0.0, 0.0, 0.0, 0.0, 1.0, 0.0, 0.0, 1.0, 0.0, 0.0, 0.0, 0.0, 0.0, 0.0, 0.0, 0.0, 0.0, 1.0, 0.0, 0.0, 0.0, 0.0, 0.0, 0.0, 0.0, 0.0, 0.0, 0.0, 1.0, 0.0, 0.0, 0.0, 0.0, 0.0, 0.0, 0.0, 0.0, 0.0, 1.0, 0.0, 0.0, 0.0, 0.0, 0.0, 1.0, 0.0, 0.0, 0.0, 0.0, 0.0, 0.0, 0.0, 0.0, 0.0, 0.0, 0.0, 0.0, 0.0, 0.0, 1.0, 0.0, 0.0, 0.0, 0.0, 0.0, 0.0, 0.0, 0.0, 0.0, 0.0, 0.0, 0.0, 1.0, 0.0, 0.0, 0.0, 1.0, 0.0, 1.0, 0.0, 0.0, 0.0, 0.0, 0.0, 0.0, 0.0, 0.0, 0.0, 0.0, 0.0, 0.0, 0.0, 0.0, 1.0, 0.0, 0.0, 0.0, 0.0, 0.0, 0.0, 0.0, 0.0, 0.0, 0.0, 1.0, 0.0, 0.0, 0.0, 0.0, 0.0, 0.0, 1.0, 1.0, 0.0, 0.0, 0.0, 0.0, 0.0, 1.0, 0.0, 1.0, 0.0, 0.0, 0.0, 0.0, 0.0, 0.0, 0.0, 0.0, 0.0, 1.0, 0.0, 1.0, 0.0, 0.0, 0.0, 1.0, 0.0, 1.0, 0.0, 0.0, 0.0, 0.0, 0.0, 0.0, 0.0, 0.0, 1.0, 1.0, 1.0, 0.0, 1.0, 0.0, 0.0, 0.0, 0.0, 0.0, 0.0, 0.0, 0.0, 0.0, 0.0, 0.0, 0.0, 0.0, 1.0, 0.0, 0.0, 0.0, 0.0, 0.0, 0.0, 0.0, 0.0, 1.0, 0.0, 0.0, 0.0, 0.0, 0.0, 1.0, 0.0, 0.0, 0.0, 0.0, 1.0, 0.0, 1.0, 0.0, 0.0, 0.0, 0.0, 1.0, 0.0, 1.0, 0.0, 0.0, 0.0, 0.0, 0.0, 0.0, 0.0, 0.0, 0.0, 1.0, 0.0, 0.0, 0.0, 0.0, 0.0, 0.0, 0.0, 0.0, 0.0, 0.0, 0.0, 0.0, 0.0, 0.0, 0.0, 0.0, 0.0, 0.0, 0.0, 0.0, 0.0, 0.0, 0.0, 0.0, 0.0, 0.0, 1.0, 0.0, 0.0, 0.0, 0.0, 0.0, 0.0, 0.0, 0.0, 0.0, 0.0, 0.0, 0.0, 0.0, 0.0, 0.0, 1.0, 0.0, 0.0, 1.0, 0.0, 0.0, 0.0, 0.0, 0.0, 0.0, 0.0, 0.0, 0.0, 0.0, 0.0, 0.0, 0.0, 0.0, 0.0, 0.0, 0.0, 0.0, 0.0, 0.0, 0.0, 0.0, 0.0, 0.0, 0.0, 0.0, 0.0, 0.0, 0.0, 1.0, 0.0, 0.0, 0.0, 1.0, 0.0, 0.0, 0.0, 0.0, 1.0, 0.0, 0.0, 0.0, 0.0, 0.0, 1.0, 1.0, 0.0, 0.0, 0.0, 0.0, 0.0, 0.0, 1.0, 0.0, 0.0, 0.0, 0.0, 0.0, 0.0, 0.0, 0.0, 0.0, 0.0, 0.0, 0.0, 0.0, 0.0, 0.0, 1.0, 0.0, 0.0, 0.0, 0.0, 0.0, 1.0, 0.0, 0.0, 0.0, 0.0, 0.0, 0.0, 0.0, 0.0, 0.0, 0.0, 0.0, 1.0, 0.0, 0.0, 0.0, 0.0, 0.0, 0.0, 0.0, 0.0, 0.0, 0.0, 0.0, 0.0, 0.0, 0.0, 0.0, 0.0, 1.0, 0.0, 0.0, 0.0, 0.0, 0.0, 0.0, 0.0, 0.0, 0.0, 0.0, 0.0, 0.0, 0.0, 0.0, 0.0, 0.0, 1.0, 0.0, 0.0, 0.0, 0.0, 0.0, 0.0, 0.0, 0.0, 0.0, 0.0, 0.0, 0.0, 0.0, 0.0, 0.0, 0.0, 1.0, 0.0, 0.0, 0.0, 0.0, 0.0, 0.0, 0.0, 0.0, 0.0, 1.0, 1.0, 0.0, 0.0, 0.0, 0.0, 1.0, 0.0, 0.0, 1.0, 0.0, 0.0, 1.0, 0.0, 1.0, 1.0, 0.0, 0.0, 0.0, 0.0, 0.0, 0.0, 0.0, 0.0, 0.0, 0.0, 1.0, 1.0, 0.0, 1.0, 1.0, 0.0, 1.0, 0.0, 0.0, 0.0, 0.0, 0.0, 1.0, 0.0, 0.0, 0.0, 0.0, 0.0, 0.0, 0.0, 1.0, 0.0, 0.0, 0.0, 0.0, 0.0, 0.0, 0.0, 0.0, 0.0, 0.0, 0.0, 0.0, 0.0, 0.0, 0.0, 0.0, 0.0, 0.0, 0.0, 0.0, 0.0, 0.0, 1.0, 0.0, 0.0, 0.0, 0.0, 1.0, 0.0, 0.0, 0.0, 0.0, 0.0, 1.0, 0.0, 0.0, 0.0, 0.0, 0.0, 0.0, 0.0, 0.0, 0.0, 1.0, 0.0, 0.0, 0.0, 1.0, 0.0, 1.0, 0.0, 0.0, 0.0, 0.0, 0.0, 0.0, 0.0, 0.0, 0.0, 1.0, 0.0, 0.0, 0.0, 0.0, 0.0, 0.0, 0.0, 0.0, 0.0, 0.0, 0.0, 0.0, 0.0, 0.0, 0.0, 0.0, 0.0, 1.0, 0.0, 0.0, 0.0, 0.0, 1.0, 1.0, 0.0, 1.0, 0.0, 0.0, 0.0, 0.0, 0.0, 0.0, 0.0, 0.0, 0.0, 0.0, 0.0, 0.0, 0.0, 0.0, 0.0, 0.0, 1.0, 0.0, 0.0, 0.0, 0.0, 0.0, 1.0, 0.0, 0.0, 0.0, 0.0, 0.0, 0.0, 0.0, 1.0, 0.0, 0.0], \"coloraxis\": \"coloraxis\", \"symbol\": \"circle\"}, \"mode\": \"markers\", \"name\": \"\", \"scene\": \"scene\", \"showlegend\": false, \"type\": \"scatter3d\", \"x\": [66155.93, 34415.15, 57317.17, 42709.53, 66952.69, 24904.06, 48430.36, 24500.14, 40654.89, 25075.87, 64131.42, 59436.85, 61050.35, 27268.0, 63061.96, 50501.73, 43548.65, 43378.18, 20542.37, 58887.36, 23000.78, 32197.62, 23329.32, 27845.8, 65301.98, 47451.63, 63287.04, 45727.46, 59417.81, 58842.89, 48528.85, 23526.3, 67252.9, 58886.85, 57584.97, 26289.97, 25952.38, 32464.09, 60921.06, 26578.54, 66260.12, 58787.46, 62545.71, 24381.95, 67852.11, 41725.61, 41896.97, 44379.73, 28416.9, 68427.16, 35975.79, 57596.35, 29681.88, 51656.94, 24912.84, 47761.82, 22248.18, 29724.48, 52143.82, 56577.72, 37660.77, 37403.8, 31652.69, 32727.7, 69078.6, 40622.19, 37521.02, 30735.81, 24857.69, 33180.2, 66628.26, 38564.93, 33704.51, 57018.48, 40526.9, 50827.98, 40775.81, 55467.15, 38789.03, 58074.84, 57814.11, 45190.73, 36801.91, 68811.78, 30483.3, 44930.39, 43671.46, 27612.91, 53607.33, 33036.68, 64275.83, 30673.84, 58793.61, 21053.49, 42095.42, 50360.68, 41970.72, 51663.41, 53601.81, 43439.99, 51461.05, 41285.17, 62895.75, 57296.16, 60844.09, 47634.55, 23998.32, 63391.62, 21534.55, 28255.65, 36496.13, 41631.67, 68762.42, 30075.26, 41302.67, 39703.76, 63161.09, 63062.14, 34507.53, 27954.71, 37369.38, 43912.06, 22766.77, 21603.31, 61952.91, 36116.37, 26157.78, 26458.38, 69156.3, 39441.44, 60119.07, 55613.49, 37049.39, 23122.06, 48790.13, 59132.69, 55305.57, 26037.46, 64899.81, 27089.12, 45341.47, 24865.8, 28239.54, 52730.08, 28982.06, 36221.27, 33551.12, 43891.36, 45148.89, 58481.01, 69579.93, 52743.31, 65635.66, 34559.91, 60218.53, 51689.55, 47541.61, 62905.79, 65632.6, 31847.85, 27947.44, 62246.73, 40154.69, 58627.55, 33441.05, 55603.79, 31046.38, 44708.1, 23340.27, 24830.18, 31422.75, 60477.23, 26039.02, 36186.85, 39772.12, 34730.16, 23118.48, 50072.85, 67465.06, 38625.63, 45227.48, 64901.9, 40543.91, 27793.27, 61167.77, 64619.66, 37593.76, 35032.65, 58364.46, 56945.81, 27204.85, 21648.26, 31077.86, 42522.92, 31769.25, 35556.78, 52908.82, 35045.13, 44488.16, 41679.94, 54619.95, 38053.62, 64718.66, 43159.08, 29445.51, 25817.39, 66356.86, 56676.16, 61000.04, 58906.25, 49589.15, 40141.6, 31659.73, 62658.22, 39264.48, 46643.13, 30515.37, 65077.32, 60871.87, 25011.1, 68407.19, 43727.44, 45788.75, 65705.01, 32434.7, 58121.67, 62498.51, 26090.73, 64780.94, 65588.4, 65743.7, 37164.52, 65176.53, 34615.54, 59079.47, 56267.17, 34862.82, 60521.36, 42276.78, 38451.18, 45985.11, 51000.42, 31523.11, 28648.68, 27514.43, 27441.0, 67709.24, 38600.71, 30950.3, 27083.82, 21512.75, 34796.0, 27089.39, 25259.4, 47007.31, 20358.67, 67900.23, 54418.47, 51288.55, 28199.6, 22199.62, 50514.47, 34414.24, 37633.09, 55235.5, 45587.55, 52757.79, 41174.81, 25685.54, 28145.3, 52094.22, 33552.39, 37400.93, 21605.73, 57562.89, 62288.54, 22767.26, 20943.04, 20622.86, 48436.66, 27574.63, 62889.36, 37683.2, 54974.46, 56326.09, 65670.88, 50730.73, 64184.92, 66179.32, 24969.53, 54925.52, 67879.25, 67787.53, 31657.62, 36559.14, 57787.57, 42521.73, 51935.18, 45677.88, 51363.6, 27218.56, 43677.63, 21533.6, 28010.19, 51589.28, 50480.95, 43957.35, 61878.35, 60153.34, 33388.58, 41310.4, 25576.95, 51455.1, 48134.16, 51348.53, 20532.82, 33297.21, 55858.55, 43777.52, 27789.52, 36132.42, 20145.99, 63108.71, 26581.61, 62040.89, 69958.71, 38082.52, 45183.05, 36242.45, 44527.26, 40496.26, 24698.67, 60560.31, 48018.21, 30216.25, 61742.24, 47288.43, 24658.9, 64644.35, 57517.72, 52945.55, 36366.99, 62113.73, 62279.52, 61799.08, 50139.74, 69566.68, 44897.49, 22572.3, 37123.08, 68744.79, 21081.19, 58828.29, 46706.46, 32312.85, 60778.77, 30948.04, 60122.01, 43321.68, 47904.34, 58597.38, 66091.91, 47316.7, 40872.64, 35154.49, 32222.82, 40447.67, 48463.2, 42843.1, 50310.42, 57565.2, 55066.18, 46065.95, 38309.59, 54472.14, 58695.09, 54748.91, 46328.17, 49633.33, 66339.78, 62650.72, 27646.78, 21437.62, 50648.2, 29670.67, 20258.54, 34475.22, 28926.43, 20660.67, 24987.93, 29672.56, 23241.6, 24217.23, 65574.09, 55994.46, 67369.33, 23305.77, 35195.47, 27135.07, 24037.17, 51625.31, 50705.77, 58079.16, 62192.47, 62553.67, 68147.96, 27619.66, 65330.19, 26680.15, 46104.6, 44904.6, 52934.59, 43509.76, 22118.36, 56275.41, 48630.98, 64272.7, 24349.0, 34332.32, 64940.24, 30595.75, 53422.22, 69995.69, 48270.8, 27028.16, 23519.87, 37302.08, 55601.27, 62678.65, 41602.43, 27533.0, 30594.18, 47846.95, 55273.28, 23086.26, 29621.27, 47533.92, 62519.18, 50878.96, 58580.96, 69445.65, 60929.17, 35496.67, 33572.42, 55306.91, 34141.93, 40453.89, 69088.78, 30885.69, 58683.23, 60675.81, 68460.68, 63653.84, 42522.58, 54140.43, 47548.36, 24114.01, 20686.24, 21412.31, 69391.15, 32319.26, 52862.95, 48383.28, 36430.54, 44268.89, 63806.33, 46195.78, 23743.16, 22089.84, 54707.29, 23203.65, 25342.25, 31645.63, 32306.81, 61262.82, 26388.73, 53009.43, 58163.54, 38665.03, 25289.05, 66049.93, 56282.98, 35778.62, 29174.24, 55934.43, 32256.86, 68052.81, 26957.05, 48685.04, 38288.07, 42468.02, 55377.77, 54231.7, 53283.26, 52534.79, 47847.52, 59998.25, 58684.51, 49114.79, 57179.4, 69395.12, 43963.74, 66326.47, 35886.73, 35578.23, 48689.0, 56510.84, 50275.9, 56665.49, 42912.09, 22169.73, 35919.81, 61987.69, 30044.68, 61528.27, 31196.49, 66003.96, 56960.67, 41315.11, 64913.34, 32804.9, 25789.21, 31908.35, 56050.3, 66505.78, 57504.07, 44619.11, 21158.94, 22765.19, 25052.82, 61006.11, 62321.24, 49604.54, 48433.37, 57590.28, 62691.7, 51121.66, 22516.54, 60857.24, 62908.36, 49665.63, 65322.8, 20598.93, 55476.66, 26218.49, 40794.87, 53719.65, 20715.54, 57163.85, 33751.21, 44832.56, 51035.63, 53493.49, 58205.68, 47439.94, 47586.23, 26100.85, 45326.4, 24391.76, 53741.37, 40053.72, 53033.86, 25176.5, 31210.85, 23532.28, 63776.77, 52278.77, 56015.81, 56110.94, 57856.81, 30187.09, 30786.87, 22279.3, 42476.27, 58147.8, 36266.21, 39045.5, 64467.8, 36594.81, 58797.76, 66653.27, 48271.5, 30991.43, 45446.52, 37142.74, 58320.81, 24825.54, 20511.43, 48326.32, 55441.36, 60496.91, 25296.15, 50414.32, 67984.04, 50382.4, 49413.3, 61464.82, 53784.05, 35993.29, 63402.0, 40484.97, 26168.01, 60044.28, 23984.55, 40359.7, 33583.89, 68038.79, 45652.06, 34399.21, 57628.44, 24294.68, 52218.88, 50061.77, 49352.27, 21087.36, 23812.25, 49395.17, 33338.94, 29668.32, 45936.6, 55948.07, 53239.5, 43694.03, 24078.07, 50258.55, 41816.66, 36892.72, 23886.57, 48757.77, 34601.68, 52986.0, 50740.95, 53096.99, 38500.0, 41004.26, 63585.36, 31823.68, 26242.63, 63531.25, 64751.15, 31091.28, 66871.27, 25098.65, 33720.59, 28182.52, 27334.57, 68694.84, 46195.62, 34488.21, 57827.66, 20346.47, 60480.98, 51915.68, 54625.51, 48305.43, 28577.96, 53400.83, 43414.49, 47526.23, 46082.07, 32195.59, 49067.09, 21293.48, 52100.92, 48334.39, 58507.62, 27521.04, 63914.23, 28598.83, 23298.47, 35697.55, 40376.16, 56534.97, 36088.94, 34158.63, 29732.06, 41736.2, 42236.46, 28796.85, 55097.39, 40916.56, 20908.34, 57999.77, 57746.58, 55116.23, 57765.52, 45200.99, 42435.19, 46365.57, 57187.7, 66539.93, 25244.73, 54780.35, 59253.12, 48540.34, 30415.11, 48768.7, 52299.22, 42242.49, 28218.97, 40208.13, 61419.67, 51282.51, 36017.9, 57575.01, 53330.77, 39834.52, 62469.43, 40334.62, 47542.8, 55883.62, 29163.02, 47786.14, 29736.31, 50831.43, 62030.05, 54049.01, 34336.02, 31895.72, 51894.54, 37616.71, 22076.95, 56252.95, 26316.76, 23120.88, 39033.03, 32420.82, 68827.24, 58092.2, 43538.86, 64040.48, 34395.23, 57405.51, 22581.13, 27952.95, 54022.91, 63546.16, 60713.43, 44519.33, 40997.8, 63661.38, 34429.15, 29181.86, 52510.44, 37536.35, 35683.74, 45622.29, 67385.4, 69411.79, 48322.51, 40836.59, 38035.95, 42696.97, 24181.69, 33194.4, 32541.46, 38381.41, 25921.91, 58810.97, 63025.74, 29954.0, 40641.52, 43940.91, 65166.97, 58820.38, 50719.76, 46766.6, 67520.76, 28386.25, 68276.03, 30731.73, 30012.25, 38075.32, 55932.4, 27966.24, 53825.54, 65451.5, 39474.0, 42344.81, 36112.87, 32720.5, 27973.83, 21306.03, 36029.3, 48457.96, 46038.51, 34247.16, 64247.61, 62109.77, 21481.8, 20762.47, 33756.53, 54325.81, 33197.81, 56846.47, 26542.93, 53200.55, 38073.41, 43937.22, 49284.82, 22869.32, 60113.34, 23613.26, 68755.09, 26449.33, 42855.42, 25686.78, 67125.65, 27427.79, 37145.57, 41702.6, 20710.78, 39124.16, 32834.65, 26267.22, 41254.23, 38268.7, 37087.27, 38458.13, 40185.78, 65481.95, 57426.68, 47903.31, 34222.19, 28481.27, 43069.65, 33093.96, 61363.86, 68100.74, 50551.48, 54421.05, 32152.46, 40230.98, 53483.37, 65137.94, 29496.59, 45181.93, 24994.78, 54820.97, 62955.61, 52956.25, 40366.2, 60005.01, 37598.39, 61323.0, 21243.93, 62111.43, 56524.88, 51718.14, 43205.63, 26934.2, 68966.82, 31527.35, 46839.06, 32151.3, 40831.8, 30868.8, 62988.83, 65496.77, 63032.63, 27287.07, 44299.37, 44091.35, 26617.03, 21856.23, 28072.6, 35950.49, 28982.11, 51790.73, 65000.82, 29761.05, 23081.45, 60016.74, 54619.16, 66274.21, 49380.66, 46283.07, 25554.7, 36680.18, 30383.68, 67730.44, 36446.72, 33648.74, 53852.8, 61298.22, 69465.75, 39102.04, 29366.58, 67949.74, 29468.86, 56839.4, 38277.94, 49664.27, 49972.01, 27356.8, 36840.6, 51438.81, 40614.72, 56738.64, 68004.69, 44458.64, 66801.2, 48991.85, 69430.94, 27989.11, 67675.8, 47985.72, 43388.21, 63182.46, 20568.89, 25833.72, 23087.3, 36124.72, 57330.62, 47240.25, 55730.63, 61660.4, 49746.89, 23973.69, 28085.48, 33585.47, 44179.39, 56025.42, 49369.7, 26889.36, 30873.22, 30608.94, 54878.09, 32423.81, 46608.37, 65689.19, 49054.86, 20310.58, 66423.4, 45783.15, 62887.76, 51088.21, 66217.94, 62799.75, 45789.49, 59727.41, 35513.59, 29178.98, 67501.69, 66255.03, 63558.86, 63441.71, 64983.15, 56946.65, 52349.87, 31473.46, 59267.34, 66809.17, 48083.31, 20629.35, 25363.33, 28873.67, 41430.86, 53612.13, 51555.74, 46564.38, 61200.43, 29307.32, 67687.18, 52565.07, 52920.15, 34981.37, 65210.84, 60016.08, 23066.96, 52603.88, 20111.36, 32759.7, 30578.02, 21211.59, 53746.33, 45214.11, 58465.05, 54422.97, 62842.06, 53005.13, 40749.03, 49804.41, 37277.25, 46883.21, 31763.37, 61013.18, 41285.36, 39133.89, 62171.8, 53638.65, 49264.58, 63114.5, 58165.51, 43029.8, 21593.62, 49104.77, 65776.23, 36192.15, 62165.86, 50793.36, 62422.2, 63166.99, 23717.57, 66797.66, 30272.2, 55741.2, 30742.58, 20491.56, 35620.42, 50206.13, 67935.45, 59223.4, 32657.27, 55931.65, 23694.78, 44324.29, 34735.49, 67064.34, 42761.49, 49517.72, 54372.18, 29941.97, 68414.12, 23891.24, 47187.57, 39819.92, 50632.28, 39970.21, 55176.14, 50533.57, 52983.87, 31187.67, 34909.98, 53810.85, 55478.97, 60394.09, 36845.74, 60264.94, 52981.51, 50222.76, 59256.56, 43203.41, 46288.76, 58176.15, 25631.43, 58978.0, 25048.02, 33436.49, 23787.37, 69456.57, 65447.61, 68743.35, 36052.58, 24820.79, 26046.38, 60850.8, 69929.01, 53298.5, 48818.38, 38042.08, 42119.82, 62247.88, 62252.09, 36973.09, 54217.24, 44218.77, 33274.05, 54656.55, 67593.52, 39472.71, 30572.45, 50447.7, 49198.65, 53768.23, 52809.55, 38011.73, 58910.29, 57914.73, 39494.77, 45918.88, 55649.06, 27136.63, 62724.64, 32921.85, 28482.65, 44170.22, 60664.37, 64501.93, 28237.52, 67420.6, 55642.99, 56086.06, 57676.74, 62535.63, 60686.77, 25032.3, 22228.35, 41435.15, 43955.41, 60063.69, 34635.74, 63944.32, 35403.43, 53654.08, 23508.23, 61869.47, 20674.9, 22127.92, 27408.73, 60720.8, 34760.02, 23057.36, 42381.0, 37887.55, 39988.74, 25026.51, 43588.08, 20897.43, 24904.62, 66068.64, 36126.23, 23626.73, 30200.24, 65569.79, 20617.26, 25817.45, 21448.83, 69370.18, 34145.8, 52651.26, 40069.34, 39246.54, 56233.79, 49264.27, 30451.64, 28727.0, 20113.25, 43434.78, 59208.72, 69310.96, 60567.42, 22048.9, 66733.71, 22209.01, 49032.66, 26558.36, 49255.46, 30218.15, 56317.08, 53825.43, 34927.99, 53287.39, 32032.56, 48405.73, 46132.91, 29049.07, 68550.69, 47474.82, 50021.66, 64089.13, 28451.71, 58132.47, 30961.17, 64162.65, 67470.12, 68263.77, 42889.33, 20155.79, 58178.61, 45735.46, 30037.2, 64392.51, 26291.38, 36008.38, 54953.98, 28753.33, 41993.98, 56696.46, 51906.05, 30939.39, 38520.72, 33489.04, 52836.01, 51733.29, 41273.77, 68223.68, 28222.88, 21921.36, 38852.93, 59621.37, 41377.75, 54405.62, 60103.01, 67528.65, 61156.94, 42955.69, 46923.05, 24951.26, 26267.53, 64603.92, 34667.02, 66008.4, 45840.21, 32188.02, 50289.66, 36837.53, 28852.03, 68127.17, 41349.12, 69132.46, 38477.33, 68291.15, 58074.61, 26867.11, 32348.45, 31044.39, 29279.75, 35145.1, 44405.28, 42059.64, 28612.2, 46546.7, 22832.32, 21565.92, 26078.21, 60503.55, 31233.31, 34505.8, 35485.12, 45986.35, 43308.18, 53284.12, 68398.29, 64743.71, 68412.61, 59695.11, 32406.57, 33184.2, 47688.25, 42591.6, 34051.53, 61800.03, 45360.72, 20252.12, 30134.71, 56217.33, 31722.73, 60178.45, 51144.24, 22449.08, 44932.88, 40929.48, 31092.27, 44743.55, 60770.23, 43528.48, 25008.95, 47433.42, 50064.35, 60348.41, 67471.13, 30492.88, 25640.08, 55040.76, 34476.71, 23345.87, 24426.03, 65849.89, 60454.53, 22680.32, 44471.87, 46572.32, 24369.84, 56830.27, 46943.0, 42521.79, 63188.33, 29410.18, 46668.63, 62693.27, 65307.13, 59589.06, 41019.55, 48058.87, 50208.53, 62526.89, 48192.19, 30884.06, 36965.74, 43536.04, 69181.66, 64233.04, 52593.52, 32282.25, 54077.84, 51595.36, 23097.38, 27407.06, 64395.3, 60432.22, 42990.98, 41581.89, 53289.07, 22372.51, 57119.74, 31112.06, 68936.32, 20436.33, 20583.61, 58988.31, 45311.83, 60856.83, 45818.28, 20904.56, 49908.29, 55988.3, 62125.26, 48822.72, 29976.83, 41944.27, 36970.36, 39992.72, 42450.54, 42146.94, 52841.52, 66418.96, 44047.67, 24821.21, 35583.62, 25289.61, 39770.13, 59511.14, 51211.65, 56530.5, 42604.46, 66642.01, 35527.83, 66896.77, 51980.36, 40081.42, 50167.67, 39545.96, 43372.4, 33084.17, 53187.98, 48290.88, 66078.77, 51547.17, 39393.14, 69592.01, 54588.5, 44964.01, 46081.65, 45564.02, 62657.6, 67921.63, 59514.01, 48422.54, 22001.32, 52529.7, 24061.46, 23450.87, 32866.58, 30958.91, 27550.9, 36024.94, 46801.27, 27082.72, 65435.04, 59295.74, 45435.27, 61742.61, 31396.87, 35916.7, 43969.6, 60624.82, 69939.33, 69755.32, 69478.4, 34192.16, 57457.86, 63910.33, 26643.81, 23985.08, 63660.65, 44102.33, 29409.81, 49294.66, 39553.65, 68583.04, 31060.61, 29190.32, 63437.7, 35243.06, 36475.35, 63271.61, 45540.33, 68565.39, 20063.1, 44222.26, 67839.24, 54009.69, 52234.08, 28423.13, 52623.44, 25636.33, 60842.94, 36727.75, 63830.75, 43108.41, 25285.26, 57646.24, 51027.57, 37389.77, 65017.59, 20595.93, 56445.47, 60864.32, 51231.01, 41103.14, 56267.05, 20774.85, 46424.22, 29909.55, 62808.51, 41243.81, 46089.15, 69191.23, 60846.67, 66558.93, 27428.28, 60912.8, 28127.51, 64029.54, 61836.74, 37005.07, 56003.57, 58038.93, 29237.26, 33265.79, 66236.93, 41978.71, 63453.22, 24985.59, 53593.11, 54179.72, 20126.41, 51180.84, 36455.7, 39188.95, 47852.93, 20014.49, 28630.01, 66688.91, 53226.19, 35609.48, 64065.68, 54935.66, 67800.58, 46893.34, 54648.97, 31410.51, 36989.59, 33198.13, 47704.38, 30569.57, 61398.69, 67750.83, 47637.86, 38357.52, 43156.31, 41101.54, 59475.5, 40708.92, 30391.47, 46024.14, 66529.49, 68115.98, 38423.08, 33227.28, 61674.46, 26931.07, 60040.99, 26181.24, 61552.22, 29705.07, 53934.81, 23007.39, 48552.84, 66370.89, 49140.27, 39684.98, 32025.4, 55568.18, 45898.51, 39217.91, 34070.6, 66768.36, 31400.86, 49335.76, 51774.05, 43064.65, 41226.13, 43044.52, 33546.29, 69209.33, 32291.54, 66274.07, 34102.79, 21144.56, 41049.97, 36351.28, 63144.46, 32086.91, 28873.17, 65359.3, 49064.29, 23763.06, 51845.94, 67035.33, 49240.76, 36132.33, 67006.81, 39453.65, 52205.61, 46319.42, 29398.73, 31135.61, 65603.82, 41362.51, 60302.56, 54468.28, 47683.72, 38160.12, 22925.81, 64087.86, 65824.52, 53451.93, 36455.48, 39573.34, 41052.37, 37895.18, 44827.23, 28341.09, 56887.2, 25146.6, 54739.16, 30497.2, 25358.9, 29993.56, 64675.78, 56256.04, 31702.33, 34113.11, 44666.01, 39421.37, 21683.19, 65697.59, 68657.79, 66981.41, 45971.13, 42965.99, 50895.81, 46175.03, 44984.9, 66941.86, 31022.14, 46583.2, 56201.84, 31587.06, 40716.19, 64966.07, 68503.21, 33867.5, 54195.02, 50565.34, 57216.1, 29849.97, 29072.15, 29775.14, 46672.71, 66393.71, 29338.26, 67289.59, 45980.33, 34163.63, 52216.82, 62313.28, 49205.64, 65688.73, 43489.83, 40966.67, 37261.45, 58775.4, 39395.83, 21144.16, 33126.13, 30931.51, 31936.94, 38157.03, 21032.82, 50238.53, 67346.66, 33261.65, 53113.04, 42749.99, 42108.2, 61344.53, 54738.68, 69695.15, 62507.35, 61922.77, 58023.72, 27010.88, 21194.62, 68338.1, 67772.79, 67131.8, 33159.22, 66087.09, 60362.34, 54609.47, 63637.28, 40918.57, 51486.13, 44896.26, 24877.68, 52263.36, 42775.53, 67064.01, 50307.94, 37432.68, 30084.16, 61427.41, 54718.85, 47923.58, 22880.73, 46118.55, 35082.39, 38387.32, 57413.57, 28198.1, 50117.86, 34876.33, 64126.49, 41916.69, 50052.29, 39158.92, 62219.04, 67151.32, 46166.16, 23881.79, 48445.11, 32441.65, 33820.19, 61812.9, 25347.57, 33965.52, 23641.7, 50660.9, 44037.24, 51657.12, 46573.24, 26922.46, 48414.25, 43974.84, 65913.83, 64716.0, 25481.99, 54170.53, 51653.7, 66054.51, 60019.45, 31523.95, 65660.95, 61893.48, 49230.1, 38337.83, 64016.43, 46308.65, 66209.14, 47770.71, 29856.49, 21451.5, 59673.17, 47481.43, 36219.77, 59458.7, 67010.84, 58693.42, 43041.04, 31920.41, 32771.13, 55487.15, 68406.81, 37277.12, 39762.53, 41674.24, 25789.74, 24575.06, 58082.36, 67881.88, 50115.05, 40443.2, 65824.84, 51199.87, 67032.29, 42205.68, 37730.36, 47398.31, 48933.21, 53078.86, 53236.99, 58121.95, 57261.15, 52102.59, 45165.93, 58809.29, 36598.34, 62096.28, 68114.07, 67978.47, 26615.52, 51254.37, 34428.97, 60974.59, 63330.73, 58168.47, 59579.61, 52219.9, 28700.87, 27193.74, 67417.57, 57341.43, 64056.54, 66370.69, 45045.43, 58609.13, 53289.07, 60309.33, 45139.49, 22815.64, 45215.01, 40568.08, 43721.25, 38129.75, 22547.96, 57468.06, 25534.67, 26325.5, 65913.83, 67119.14, 62020.47, 37965.85, 62114.86, 36871.06, 65030.91, 23193.6, 59568.62, 50527.58, 60776.11, 61632.28, 45930.45, 25857.77, 55093.92, 42301.33, 51903.53, 64398.15, 41089.51, 36727.55, 38163.39, 35949.9, 44979.8, 48211.58, 28267.09, 33816.22, 33079.0, 36019.82, 34238.53, 62064.52, 44867.62, 37162.89, 65680.95, 58772.86, 32435.25, 58028.21, 60595.28, 36565.8, 20742.7, 46666.64, 32203.57, 36535.32, 28163.3, 39019.36, 24709.08, 43052.97, 25003.92, 46696.89, 50112.46, 43265.9, 67802.69, 55408.71, 67048.89, 40262.6, 46427.5, 46911.2, 57359.55, 34569.3, 52797.4, 56630.4, 45245.74, 20803.61, 57717.61, 20647.89, 59046.46, 62662.26, 33614.49, 48765.13, 57240.76, 49973.67, 41255.94, 61129.72, 48938.58, 68648.24, 41250.83, 22415.65, 24112.5, 41692.61, 23516.73, 53812.23, 29750.29, 22633.68, 28713.83, 63321.91, 35276.59, 35914.61, 31568.14, 39934.07, 48614.85, 29838.12, 57745.36, 44447.53, 51768.01, 34891.14, 45382.81, 40719.49, 55145.79, 48752.42, 55763.43, 36431.16, 40522.83, 42465.67, 38561.94, 54957.45, 24822.07, 25252.49, 25671.74, 60672.15, 60729.95, 40240.73, 57513.82, 64287.4, 48428.03, 55313.83, 27045.4, 58216.07, 34722.96, 58503.77, 55299.79, 49501.91, 61765.71, 48430.99, 66366.96, 55320.78, 48774.29, 61679.95, 61485.18, 24402.44, 21258.9, 48763.68, 24406.89, 61693.59, 22748.03, 21479.95, 51286.66, 27153.66, 36370.49, 32400.54, 60434.16, 57303.48, 42994.68, 68339.81, 49292.3, 57802.43, 50779.38, 35993.99, 21771.13, 61414.8, 35784.66, 24791.19, 49048.76, 69852.06, 21217.75, 48031.07, 64072.31, 56689.46, 45769.26, 35020.49, 56751.93, 27363.63, 48455.72, 21424.09, 69992.33, 68110.24, 48015.55, 23102.22, 46134.85, 48547.96, 26095.03, 64057.84, 24454.19, 40506.94, 43421.05, 55881.54, 45917.6, 52901.91, 41183.82, 25379.92, 27514.09, 44241.28, 29076.34, 60536.91, 47881.96, 49144.37, 33707.8, 46442.28, 25602.96, 61236.4, 48187.35, 29933.2, 41027.91, 49990.66, 59792.51, 35879.52, 29102.22, 30047.82, 59299.16, 64484.01, 36352.42, 66034.75, 51650.27, 31898.16, 58780.23, 67754.1, 48500.27, 55704.8, 50458.96, 48263.0, 38755.16, 68131.66, 28991.42, 35108.56, 28858.6, 22800.8, 29572.98, 21982.02, 45576.84, 55068.67, 56441.02, 68047.93, 36275.74, 52389.37, 23678.38, 37707.64, 57753.57, 30529.96, 44022.27, 58533.88, 33702.53, 40236.87, 62619.16, 50738.36, 64466.76, 64636.4, 22371.52, 67994.99, 49640.0, 42067.25, 43662.09, 34237.58, 26300.45, 30803.81, 54421.41, 24254.7, 59221.04, 69516.13, 44311.45, 43756.06, 69436.58], \"y\": [8106.53, 6564.75, 8020.95, 6103.64, 8770.1, 15.5, 5722.58, 2971.0, 4755.83, 1409.23, 4351.03, 9254.24, 5893.26, 4759.79, 1850.37, 3977.29, 3935.54, 3277.74, 3157.44, 4965.52, 1148.12, 4244.06, 222.62, 4959.92, 5465.27, 5361.28, 9595.29, 6376.82, 2082.63, 10871.19, 6155.78, 2862.01, 4221.3, 7271.55, 1728.42, 341.15, 2109.2, 4326.71, 968.84, 3489.84, 7035.59, 4167.79, 4362.91, 4227.02, 5730.59, 1185.21, 4892.21, 1814.34, 1788.97, 1658.07, 6610.37, 3344.38, 1745.87, 7158.14, 267.7, 5549.8, 4364.98, 3075.35, 2393.1, 5947.42, 2129.6, 2044.05, 5151.07, 1087.92, 4076.58, 4949.9, 8.01, 5946.82, 2692.16, 4622.0, 5992.89, 5604.17, 5898.0, 3507.25, 2119.98, 1765.98, 1922.61, 9226.9, 7650.66, 7388.02, 7252.12, 7893.56, 5406.34, 4211.3, 4514.01, 7708.32, 8066.7, 1513.62, 2378.77, 958.98, 7520.03, 383.11, 4391.98, 754.6, 1183.7, 4217.17, 1622.32, 4147.89, 9601.38, 6879.31, 7292.26, 2313.83, 2001.28, 10601.08, 12072.26, 141.7, 3928.3, 190.89, 228.34, 2109.24, 165.51, 106.09, 2796.75, 2628.58, 1379.91, 2403.48, 804.09, 56.17, 1793.75, 1627.04, 3783.6, 7757.14, 1429.4, 178.33, 3635.6, 1494.98, 2295.81, 552.4, 7364.74, 1034.76, 1810.96, 4255.25, 6056.82, 4263.49, 5519.1, 4575.53, 8176.71, 3293.25, 4654.25, 5029.49, 6525.22, 4439.12, 4189.83, 5706.33, 2898.76, 5094.67, 4333.36, 5792.91, 6455.39, 5380.56, 10868.24, 2684.7, 12701.6, 3317.53, 3157.96, 9881.98, 1611.22, 11423.94, 12498.04, 2913.77, 5514.12, 406.72, 6013.15, 1215.65, 5282.73, 1411.13, 4907.67, 2390.85, 2707.76, 2046.69, 1686.84, 10711.7, 2056.75, 1130.74, 5492.89, 818.51, 1746.94, 8088.57, 1802.62, 5836.56, 5521.51, 9589.83, 6507.85, 382.25, 10396.62, 9704.78, 7274.33, 135.93, 5809.9, 6388.37, 3827.89, 3558.53, 4452.33, 6790.85, 1148.22, 6361.97, 9841.08, 2382.47, 2751.09, 395.0, 10780.27, 6110.57, 1485.08, 4350.02, 1758.88, 4115.48, 10725.48, 2278.55, 2160.78, 9290.58, 2627.41, 845.37, 858.51, 3343.37, 5255.79, 6440.86, 415.24, 11061.81, 4844.17, 3834.04, 597.94, 1170.56, 5894.04, 1969.79, 2738.44, 7531.1, 3312.88, 4255.63, 8402.42, 7879.74, 7724.57, 1445.8, 2365.29, 6476.76, 10326.09, 7329.24, 6040.77, 8035.88, 8055.31, 3441.26, 7382.06, 778.73, 5174.57, 1870.93, 3400.91, 1455.05, 5136.82, 2749.08, 5043.15, 3286.21, 2453.38, 443.67, 1851.31, 4341.01, 4069.4, 1064.69, 7902.74, 5630.74, 6536.97, 3871.69, 1498.39, 2003.65, 617.54, 868.16, 4910.55, 8366.61, 2321.21, 2888.44, 490.74, 4805.97, 495.02, 6054.24, 1693.14, 2828.31, 8508.84, 10657.11, 1205.79, 4098.12, 3518.45, 5851.41, 1017.4, 6525.15, 7414.55, 8922.2, 4816.78, 3950.87, 1879.06, 1854.24, 3646.94, 3595.5, 554.49, 10433.47, 9607.5, 1448.07, 3030.27, 6339.85, 2661.61, 5649.45, 2966.25, 761.42, 4145.0, 6739.86, 1971.55, 3971.16, 56.99, 8831.18, 5416.36, 567.67, 6472.35, 4551.88, 4481.16, 1922.66, 9447.12, 2075.6, 1507.89, 1897.78, 3674.74, 5630.44, 3601.3, 186.83, 99.45, 839.84, 5757.85, 5090.39, 7643.63, 8755.69, 4213.47, 5953.45, 5688.99, 4588.47, 4834.6, 2427.65, 1994.62, 6120.09, 2116.54, 8068.32, 4004.99, 590.6, 9848.17, 4536.86, 6262.01, 371.04, 11928.51, 6801.41, 5619.22, 7758.8, 9875.04, 5732.4, 724.19, 5659.51, 5207.88, 2395.17, 5947.65, 7084.26, 228.33, 10021.05, 3995.81, 7189.35, 743.87, 6183.51, 2588.49, 8743.51, 1940.67, 5312.49, 4037.72, 934.48, 1072.19, 8120.26, 839.87, 8361.72, 5353.56, 9332.7, 4947.31, 3545.72, 10836.38, 1826.52, 5438.09, 7879.68, 7915.31, 2350.89, 6425.37, 3132.15, 2563.96, 7110.76, 2928.98, 2767.84, 3162.13, 750.07, 1756.04, 3946.9, 607.91, 457.2, 2104.38, 3031.25, 680.62, 2299.42, 4521.0, 2836.99, 1387.25, 2469.36, 4592.25, 1096.97, 11540.05, 1863.89, 4641.7, 12307.56, 2774.83, 4030.8, 1671.18, 2342.47, 4953.77, 3248.63, 7363.04, 3928.12, 2224.88, 5862.83, 4929.88, 3890.47, 1225.72, 8196.93, 3495.07, 7441.76, 2084.37, 6232.28, 331.36, 2368.38, 2366.17, 10533.46, 333.44, 7005.08, 1551.42, 118.34, 3713.26, 10283.0, 1256.4, 5575.25, 6637.77, 2324.55, 3257.01, 4317.72, 10643.4, 11146.07, 168.05, 3369.38, 5272.54, 3371.66, 890.94, 11246.49, 5216.35, 271.73, 11617.75, 949.96, 8866.53, 5036.26, 7896.22, 6153.94, 3900.83, 3052.58, 2639.71, 2550.27, 2733.42, 9754.15, 2763.26, 5855.19, 6043.14, 114.5, 927.07, 3254.75, 2584.02, 10255.19, 749.15, 871.53, 5193.84, 3603.36, 5564.16, 1191.33, 3589.25, 2237.93, 6152.0, 3701.54, 13172.68, 8215.56, 5544.65, 665.58, 5643.18, 2809.32, 1415.72, 4172.99, 9698.58, 1723.4, 1902.27, 6882.87, 10156.14, 4065.22, 3810.13, 8494.02, 4659.54, 5415.82, 6388.85, 2991.97, 11047.68, 4481.44, 5602.16, 843.75, 3640.85, 3859.47, 9255.44, 5541.82, 11159.79, 4550.12, 947.2, 1227.11, 2618.24, 1428.44, 10897.91, 987.26, 11207.5, 4856.48, 1378.91, 9781.33, 4961.26, 2410.28, 1857.46, 6870.84, 6571.2, 8107.27, 2474.98, 3562.31, 540.62, 3367.7, 5850.77, 10649.07, 7045.92, 789.63, 7676.31, 8244.75, 6471.63, 4267.45, 10486.74, 3213.9, 2713.89, 2739.72, 3872.4, 4733.51, 3343.82, 6519.44, 1670.74, 369.53, 577.53, 6494.18, 1256.25, 2889.88, 5030.83, 10035.6, 7896.36, 3343.06, 960.14, 5142.11, 2198.14, 6513.15, 44.53, 10427.47, 3064.72, 3853.09, 1077.84, 6697.97, 4269.14, 2275.76, 9351.01, 8824.16, 4462.82, 3563.32, 3141.34, 8334.18, 3951.19, 3206.93, 1165.49, 521.58, 3492.33, 8892.96, 5180.71, 6077.68, 4589.27, 8474.98, 161.24, 10033.49, 3650.2, 931.79, 7168.71, 10768.75, 1115.15, 1320.46, 2468.17, 1642.97, 9183.84, 2554.04, 5099.09, 2761.85, 901.93, 7530.77, 1093.68, 3040.98, 6823.43, 4622.28, 1783.7, 1251.87, 10108.8, 5408.21, 6019.83, 5021.64, 4360.05, 9792.09, 6145.13, 3362.77, 3353.69, 2716.66, 5927.57, 2929.85, 2042.44, 8525.23, 8569.22, 4606.16, 5049.64, 3276.14, 1086.25, 4534.58, 6463.65, 4440.42, 1833.58, 2430.1, 4928.61, 784.58, 2663.05, 7571.68, 1016.14, 1594.97, 2290.43, 1801.23, 6917.51, 2289.85, 4071.08, 3614.27, 2611.85, 1365.95, 2285.96, 2963.79, 12731.89, 2888.63, 2156.31, 10816.76, 656.03, 3216.09, 2282.91, 8619.75, 4833.48, 1639.23, 10418.19, 7170.95, 8957.33, 2921.24, 4980.01, 7258.97, 1368.69, 4767.28, 2234.44, 694.14, 2699.85, 139.31, 524.2, 1741.18, 2907.96, 3901.94, 2161.08, 6222.42, 2911.41, 3485.02, 7602.61, 4749.07, 706.23, 9342.48, 5219.8, 3133.62, 859.59, 727.19, 10284.61, 5445.22, 7335.96, 2766.28, 5443.28, 9390.67, 12129.08, 1279.0, 8134.22, 7327.28, 1012.93, 4362.08, 500.6, 7880.69, 2070.38, 1305.08, 459.03, 9921.67, 8445.39, 1526.39, 9857.23, 2343.5, 699.96, 7286.55, 6808.87, 9448.21, 974.56, 1469.13, 7181.48, 657.05, 9572.59, 7572.57, 4569.65, 3441.64, 3423.35, 6579.53, 5732.24, 3948.14, 7327.07, 923.03, 1417.85, 5757.89, 1494.21, 1049.18, 5277.74, 8523.9, 5408.73, 2089.73, 6914.75, 34.29, 3965.25, 10641.45, 6170.24, 396.23, 1446.47, 7908.33, 6095.31, 2240.28, 2529.61, 1858.31, 2634.36, 4337.83, 528.18, 6747.23, 12176.78, 7732.7, 6994.49, 4298.71, 222.2, 1529.02, 6615.39, 780.83, 322.72, 5104.75, 9099.72, 2956.98, 5774.07, 5042.33, 2855.38, 8859.09, 530.66, 4770.94, 2383.41, 13041.78, 1718.94, 4842.08, 1129.56, 3972.15, 6928.94, 4876.37, 4445.2, 5272.8, 8129.05, 6034.15, 6800.25, 3737.21, 4367.26, 403.4, 3791.02, 2928.1, 8108.17, 6868.99, 6458.79, 4513.2, 2816.43, 1137.66, 2385.22, 1169.84, 6978.53, 3993.15, 5268.23, 4233.09, 3090.47, 2284.01, 3213.54, 493.59, 527.55, 8253.38, 2469.23, 10990.53, 2952.12, 4923.81, 3728.4, 7482.07, 719.95, 1510.74, 6105.73, 3960.71, 401.33, 4184.58, 1136.12, 6993.05, 2522.06, 6391.15, 3644.31, 1002.34, 10614.25, 2461.97, 4283.23, 3582.15, 5302.18, 4091.56, 3852.99, 9636.8, 8124.6, 5262.62, 6229.84, 3550.58, 745.19, 1459.67, 10352.18, 2216.98, 2243.15, 51.64, 10070.95, 207.54, 959.1, 7410.79, 10677.67, 3641.81, 8699.95, 3438.98, 499.21, 5296.94, 1036.62, 4835.27, 4113.3, 6690.64, 2062.72, 1498.2, 4601.94, 6429.59, 4618.39, 6924.9, 11805.56, 390.34, 4509.88, 5154.91, 1664.1, 2727.24, 1500.65, 1.38, 2664.93, 1440.5, 1281.04, 1114.91, 3748.26, 257.66, 1522.65, 901.28, 10257.92, 5425.28, 2166.12, 4229.91, 4849.33, 2153.61, 8881.58, 2927.68, 1498.16, 2089.91, 9399.5, 7983.71, 4200.7, 4049.25, 1790.35, 3703.95, 9004.8, 7405.8, 5571.46, 763.95, 2983.58, 6557.94, 6898.78, 2649.7, 3210.81, 2698.05, 1456.23, 288.65, 7453.26, 2648.22, 1770.82, 4396.08, 8801.61, 7007.15, 3493.22, 2257.06, 3716.25, 423.42, 6485.06, 1058.04, 4286.35, 9286.36, 1684.53, 7354.13, 95.46, 4431.28, 3933.88, 5888.38, 4341.63, 109.38, 675.71, 4076.88, 2632.55, 1504.47, 2961.95, 1521.87, 255.07, 1102.24, 1279.11, 1066.21, 7492.91, 6849.48, 9097.11, 745.08, 6752.59, 4545.16, 5203.33, 6983.36, 1664.39, 7589.76, 7475.21, 9282.93, 3119.41, 9109.77, 11175.84, 5181.85, 797.35, 5085.31, 1316.19, 9193.1, 3310.41, 3946.0, 2224.47, 5719.28, 5976.9, 9217.69, 599.83, 406.85, 481.84, 10506.33, 372.97, 9521.77, 5502.74, 12607.95, 2857.01, 1933.35, 2043.09, 1745.37, 5211.33, 3010.35, 931.78, 9534.66, 1779.73, 11417.06, 444.61, 107.6, 2539.34, 6207.19, 7235.19, 6289.26, 6342.57, 3489.4, 1791.54, 532.1, 433.46, 1035.46, 109.48, 3051.57, 11890.76, 4155.72, 6894.17, 458.09, 9452.22, 2805.86, 7236.17, 4739.95, 421.64, 2841.63, 4058.79, 1530.09, 11921.2, 1440.07, 3181.78, 5685.65, 1579.17, 3611.3, 5826.46, 8267.33, 3901.4, 1796.27, 4053.52, 764.3, 2672.69, 1402.22, 1091.62, 610.66, 7337.95, 839.13, 3170.05, 6154.05, 3475.91, 7933.47, 3577.45, 1262.36, 7867.62, 7822.94, 117.71, 5567.94, 593.12, 2852.37, 9154.48, 6227.54, 8293.58, 1790.01, 2241.39, 3759.94, 8734.74, 9812.98, 7730.73, 6053.79, 9852.14, 4778.7, 9442.01, 2341.37, 5473.99, 3041.55, 13190.37, 3269.53, 2290.2, 2830.18, 51.95, 4669.46, 7206.85, 12427.84, 2106.71, 2312.42, 3495.86, 1930.57, 1870.72, 1699.68, 4144.45, 8836.78, 1693.92, 2244.88, 9911.13, 9864.08, 596.48, 1847.09, 2443.77, 483.62, 3696.95, 6276.83, 4625.19, 3671.92, 6715.86, 3544.16, 1910.33, 7660.35, 2253.19, 9255.14, 2553.21, 329.45, 2168.75, 5873.41, 12147.31, 2728.19, 3668.99, 2841.7, 3990.85, 10504.67, 9490.26, 10614.13, 680.9, 2187.21, 3702.17, 7833.48, 6766.29, 4859.24, 12213.95, 2929.36, 6587.78, 4622.84, 1040.49, 299.83, 1777.83, 2591.03, 3278.18, 28.88, 2487.17, 6832.68, 5061.78, 357.09, 3845.74, 6453.06, 2940.42, 3376.91, 5626.87, 3805.8, 2173.77, 4871.68, 12494.27, 2224.07, 3682.86, 1989.18, 4605.92, 4074.95, 6529.02, 3646.05, 919.11, 9642.09, 801.78, 475.42, 3675.83, 2507.65, 3672.11, 11479.44, 1590.33, 571.93, 4199.02, 5366.64, 4096.78, 1777.95, 22.33, 4951.92, 5914.52, 8045.44, 431.45, 1957.06, 4432.67, 4582.94, 3766.61, 3216.49, 2562.7, 3879.67, 5083.73, 1054.27, 6272.79, 1042.85, 5491.04, 162.8, 6938.01, 12715.29, 4124.33, 6340.71, 3489.96, 10948.5, 2944.54, 1247.01, 4513.24, 1094.18, 3709.3, 365.65, 4990.37, 6644.34, 9686.63, 10235.27, 6115.82, 4176.95, 3581.66, 5671.64, 7906.14, 3299.89, 7364.0, 613.24, 1901.14, 7513.18, 7014.62, 5324.05, 6253.21, 2632.27, 7877.42, 3250.01, 2962.83, 3107.88, 2544.36, 59.47, 11264.69, 2827.29, 9189.61, 5299.24, 4659.95, 6127.38, 1598.18, 5705.99, 12099.97, 8083.23, 7621.41, 289.58, 9577.96, 8551.26, 1730.15, 3229.82, 4465.87, 2291.99, 510.74, 3917.88, 5310.27, 4948.49, 254.84, 3318.41, 4136.76, 3665.88, 6766.53, 1662.45, 2151.7, 2482.04, 7112.93, 6777.2, 849.55, 8106.86, 4304.93, 551.84, 8889.93, 3394.66, 4580.1, 1377.02, 4602.25, 6224.15, 9143.61, 4569.99, 3360.06, 959.0, 2866.59, 2877.76, 3203.62, 3411.66, 1187.43, 622.91, 2352.29, 5617.99, 2574.71, 2242.83, 2264.73, 2941.03, 9139.14, 417.63, 3037.97, 4448.41, 4834.74, 3105.44, 8352.06, 898.13, 4548.11, 823.84, 5051.3, 7875.07, 1743.77, 5883.66, 721.34, 1366.54, 10462.74, 2187.07, 6745.82, 3960.86, 812.32, 1833.49, 5321.71, 1906.8, 4191.72, 3005.83, 6527.99, 729.6, 5835.54, 5026.47, 4099.9, 6333.39, 6427.73, 1173.74, 12104.53, 811.91, 3345.94, 7149.07, 385.4, 4517.58, 2949.93, 10054.63, 6300.87, 4665.58, 7895.11, 8047.14, 1118.93, 10211.72, 424.35, 11073.16, 2356.18, 53.19, 4728.26, 3103.81, 10238.5, 8137.16, 2606.02, 2903.04, 7745.75, 5700.46, 599.35, 3796.03, 1203.7, 1268.51, 4999.2, 6210.28, 7367.26, 5957.39, 9340.54, 2096.92, 874.32, 27.25, 2130.79, 280.88, 2520.51, 4093.36, 5957.99, 7942.17, 4958.07, 325.12, 387.39, 6243.05, 770.78, 5592.65, 5787.66, 474.53, 5762.47, 4879.85, 4902.98, 3664.62, 6563.41, 5415.05, 13025.06, 2847.82, 693.21, 1487.79, 715.84, 5771.09, 1399.88, 2504.72, 3520.57, 2155.81, 9808.19, 3980.58, 1419.81, 6037.01, 1558.93, 3944.22, 4155.45, 5315.97, 4990.56, 12728.0, 493.71, 2143.39, 326.99, 3719.23, 6401.19, 7455.92, 6740.72, 2225.22, 13766.05, 10229.41, 5233.66, 3608.81, 8986.72, 1413.78, 2284.21, 7832.57, 842.57, 3388.56, 4574.85, 7063.9, 2922.29, 3729.97, 5239.59, 11963.36, 748.94, 413.31, 11298.17, 1490.47, 1231.54, 2495.13, 7443.49, 5609.33, 884.74, 9255.84, 5282.85, 1156.32, 1239.69, 6608.97, 7287.54, 5271.63, 647.88, 1027.58, 1452.49, 3313.3, 7365.94, 1017.17, 1330.07, 6875.58, 3704.03, 813.03, 3644.3, 8238.12, 1347.33, 4087.18, 4495.28, 6465.75, 4161.57, 1618.22, 6270.57, 8974.49, 3090.99, 1287.63, 3870.33, 3279.56, 1644.34, 10971.97, 1068.89, 3639.9, 538.23, 23.92, 5968.44, 2756.97, 1603.92, 10668.36, 2017.14, 1428.19, 10028.02, 1432.36, 2875.45, 3437.08, 3545.16, 3295.32, 2426.31, 4407.0, 9690.31, 5686.64, 2574.09, 771.72, 7921.83, 5035.14, 9131.86, 10674.77, 5797.29, 556.56, 4285.39, 2717.08, 4752.56, 9008.15, 6855.99, 6708.67, 2548.41, 2413.01, 5240.11, 2628.26, 5532.34, 2072.63, 4318.38, 6337.67, 7458.56, 3676.57, 6470.41, 4054.55, 3668.65, 2659.69, 2618.97, 4042.54, 1912.21, 2085.82, 2296.8, 5650.89, 5176.36, 8832.65, 2590.93, 217.49, 6114.87, 5617.18, 864.62, 1401.69, 4255.37, 4464.4, 2549.62, 1508.76, 787.05, 2155.66, 1661.71, 5347.3, 6284.83, 277.39, 11576.54, 1269.25, 703.36, 5890.11, 6619.83, 812.57, 6362.39, 992.58, 7707.24, 5636.35, 2950.31, 8750.83, 11276.62, 8004.36, 3009.4, 3692.17, 436.94, 1135.15, 1523.07, 4673.77, 2457.91, 11775.35, 607.97, 6509.7, 68.63, 4752.29, 3429.9, 2547.28, 722.52, 2643.11, 10529.72, 2464.16, 5785.88, 4652.95, 6071.34, 2639.92, 2248.24, 10969.6, 2890.65, 7218.97, 4573.59, 2220.23, 2749.59, 4628.6, 5452.24, 3587.72, 6360.15, 7548.44, 6111.96, 339.59, 5644.65, 2427.95, 6678.56, 4776.49, 8109.05, 5556.84, 1064.08, 4584.61, 12380.62, 6144.94, 6241.27, 8346.32, 2677.83, 2389.7, 11495.73, 3580.46, 5714.03, 6649.8, 693.2, 3554.39, 3678.9, 1589.44, 3327.24, 1408.5, 9540.42, 5120.41, 13376.8, 5929.1, 6617.4, 6803.33, 925.8, 3393.86, 3673.87, 6501.04, 2393.52, 2075.52, 5673.6, 7557.87, 987.79, 4169.99, 1074.79, 4088.0, 5628.01, 4024.09, 2567.62, 6752.12, 586.65, 10080.52, 4626.54, 1020.98, 7172.65, 6210.73, 8418.25, 6590.78, 1933.08, 2785.78, 2373.18, 1102.85, 12840.7, 5037.93, 2271.4, 2135.53, 11039.29, 10306.71, 5618.2, 9955.23, 3813.7, 3955.11, 3787.64, 1546.42, 10161.95, 6145.99, 8945.29, 7207.94, 4445.5, 737.25, 2163.31, 2883.28, 6931.72, 1909.22, 2728.31, 2918.48, 6453.51, 9421.3, 4370.79, 3599.07, 3102.35, 4956.94, 6106.11, 5589.33, 6887.74, 5831.52, 3941.7, 901.75, 1190.63, 8733.44, 840.71, 4342.18, 3124.31, 2188.5, 3123.9, 4203.5, 7511.0, 5269.52, 609.35, 5533.29, 3950.0, 2105.71, 8371.49, 12972.42, 11173.81, 4005.82, 1048.93, 1853.42, 10321.1, 6978.35, 5697.02, 93.15, 6038.16, 8375.73, 5691.09, 10048.39, 6815.49, 7134.66, 5366.87, 4731.82, 1719.04, 7533.68, 9402.88, 4280.79, 1513.33, 11646.91, 4033.15, 2245.51, 217.19, 1853.68, 178.69, 2491.46, 4242.64, 3809.35, 3203.2, 4442.33, 1667.75, 9175.67, 10503.57, 3447.0, 1857.25, 154.95, 4064.82, 5487.82, 2444.74, 5273.56, 9041.88, 5071.37, 10566.35, 703.6, 5161.11, 2527.76, 8799.82, 5534.55, 5470.59, 6849.29, 8034.75, 4325.1, 7382.5, 3458.19, 8747.21, 6016.62, 6165.66, 5170.9, 2935.37, 2319.36, 6560.47, 5090.31, 4518.86, 6478.4, 784.89, 5982.81, 5906.03, 8489.41, 4270.53, 7395.51, 2343.07, 1743.69, 2749.08, 383.85, 5990.32, 5923.39, 3964.73, 2957.3, 8452.96, 1084.97, 3336.13, 11738.92, 2725.24, 114.21, 299.05, 12115.89, 792.71, 2231.98, 548.6, 7685.33, 5639.25, 10382.44, 3028.59, 7765.25, 1810.23, 6485.3, 1480.61, 8807.87, 1674.91, 997.18, 794.56, 454.31, 3680.18, 6045.09, 2606.12, 965.37, 5265.74, 6278.32, 2987.96, 6002.94, 2972.38, 366.1, 3110.53, 8838.23, 7048.01, 5685.41, 5753.9, 4534.49, 1888.33, 2295.82, 7677.82, 838.02, 271.73, 2121.15, 3196.56, 1915.39, 488.94, 2183.71, 4732.5, 5067.03, 6194.07, 13443.47, 10300.28, 10839.91, 6535.85, 5671.45, 4263.85, 10011.41, 6254.53, 1080.42, 8442.89, 1974.01, 758.43, 3153.22, 725.46, 8237.05, 1965.92, 4837.79, 5183.86, 313.63, 363.9, 5296.91, 11302.77, 3028.83, 9425.71, 7651.58, 4371.72, 3285.5, 1708.71, 559.91, 3245.04, 3627.99, 553.52, 1936.81, 8092.98, 6820.32, 521.0, 5067.41, 184.74, 5984.95, 5913.65, 5540.46, 2714.4, 6632.04, 6152.31, 2742.45, 6415.09, 8968.68, 8934.79, 7913.84, 6783.36, 7720.78, 7314.98, 4831.11, 6976.46, 2361.17, 434.87, 2272.15, 6279.69, 5006.85, 7498.63, 6921.49, 6301.59, 7718.48, 9733.11, 2503.79, 9581.83, 4073.41, 7050.43, 8052.38, 2226.82, 3649.64, 6069.65, 465.01, 5990.72, 3728.48, 3060.03, 3211.67, 101.22, 706.62, 8172.05, 1733.4, 1568.86, 108.63, 1098.07, 1134.23, 3177.52, 2855.22, 3591.8, 2474.25, 10491.63, 4453.82, 2505.87, 967.13, 6796.59, 6859.84, 93.9, 350.45, 9743.61, 110.2, 4844.68, 6363.11, 9246.27, 2690.77, 7826.33, 2426.01, 5740.59, 8236.48, 6832.8, 7877.33, 3215.26, 1780.51, 1795.22, 52.87, 11029.67, 54.01, 1779.57, 8716.61, 1940.87, 5143.49, 5774.28, 864.97, 5961.53, 4705.76, 8383.07, 8253.27, 729.38, 7606.99, 4693.11, 192.14, 8733.18, 286.26, 3132.55, 5575.64, 1633.04, 321.58, 1484.56, 2214.92, 6562.9, 2003.41, 5953.52, 4369.22, 1896.75, 660.24, 5335.4, 1890.45, 5768.74, 4944.06, 1391.6, 6239.25, 3913.78, 3743.0, 2015.18, 5029.71, 2989.95, 7054.61, 5594.33, 9852.89, 7798.79, 4244.5, 7813.24, 1249.35, 4002.99, 3764.82, 3740.9, 5006.25, 4265.17, 4952.65, 4852.77, 9043.76, 4023.06, 644.38, 10398.82, 1779.81, 268.29, 5067.45, 6046.84, 1707.67, 7832.44, 922.04, 4354.31, 3959.61, 9719.56, 8537.37, 2583.11, 2291.86, 7289.01, 5760.86, 4601.61, 7269.6, 2658.09, 2317.39, 623.02, 3273.63, 2225.28, 1926.73, 3503.18, 5522.79, 1622.72, 7378.83], \"z\": [59.02, 48.12, 63.11, 45.75, 18.58, 57.47, 26.81, 32.9, 55.5, 39.78, 25.68, 60.47, 26.36, 61.58, 39.2, -28.22, 39.57, 60.85, 61.69, 26.08, 31.76, -52.42, 48.58, 51.97, 48.84, 27.03, -36.5, 55.84, null, 54.51, null, null, 38.13, 38.66, 36.67, 20.67, 58.19, 50.23, 18.84, 32.68, 32.9, 62.64, 49.04, 25.25, 47.32, 18.13, 47.25, 50.09, 57.93, 46.31, 35.71, 29.25, 54.96, 47.72, 49.37, 50.1, 23.44, 31.97, 20.84, 36.85, 53.75, 47.94, 62.02, 34.47, 25.11, 41.53, 60.54, 22.24, 21.6, 49.57, 52.38, 21.22, 33.18, 44.83, 28.61, 51.01, 60.29, 56.85, 61.23, 50.07, 43.83, 53.84, 43.03, 24.04, 33.66, 19.78, 25.59, 19.21, 27.56, 25.06, 61.44, 59.33, 56.49, 63.38, 55.37, 28.84, 63.17, 63.74, 20.24, 24.18, 36.65, 47.98, 49.92, 25.71, 45.66, 44.29, 29.91, 34.74, 44.32, 35.51, 19.52, 53.05, 20.99, 29.24, 38.66, 47.47, 59.68, 26.59, 38.59, 29.9, 35.34, 23.82, 29.33, 21.38, 18.48, 22.54, 22.83, 59.52, 53.41, 46.75, 45.08, 24.38, 29.42, 53.31, 32.48, 48.34, 53.58, 24.78, 38.12, 21.21, 22.57, 37.31, 26.19, 50.24, 39.05, 26.1, 58.86, 49.15, 60.53, 40.83, 57.76, 44.05, 51.17, 29.11, 32.47, 46.15, 55.23, 27.91, 47.11, 41.42, 58.35, 31.08, 60.53, 33.12, 27.87, 43.84, 29.3, 21.11, 42.83, 28.97, 53.9, 60.4, 49.39, 50.51, 43.73, 63.38, 57.58, 33.02, 23.61, 19.63, 26.72, 44.94, 51.46, 60.52, 20.58, 26.04, 54.01, 56.72, 55.6, 45.55, 29.07, 52.59, 44.22, 53.87, 44.77, 23.78, 53.7, 28.65, 33.43, 53.67, 52.42, 26.21, 37.28, 62.44, 28.45, 37.95, 61.52, 46.68, 48.62, 42.05, 42.78, 56.15, 31.93, 25.46, 37.03, 53.41, 20.16, 50.98, 61.26, 36.22, 60.94, 55.19, 41.26, 50.93, 41.35, 27.3, 31.91, 48.08, 20.23, 22.92, 52.3, 47.3, 48.96, 25.51, 58.64, 22.49, 54.96, 45.42, 57.93, 63.42, 53.53, 27.8, 40.45, 18.4, 21.9, 37.4, 50.41, 44.72, 26.31, 60.67, 24.78, 58.49, 51.29, 39.74, 45.02, 53.62, 43.51, 55.22, 29.92, 36.67, 60.1, 57.38, 54.53, 29.42, 47.01, 62.02, 53.08, 52.34, 39.01, 55.55, 40.84, 25.16, 50.11, 23.24, 56.6, 25.6, 45.12, 19.82, 30.41, 49.03, 57.64, 33.25, 55.59, 61.98, 40.41, 50.0, 41.97, 46.45, 48.12, 45.12, 40.81, 43.6, 53.36, 37.78, 19.72, 22.64, 47.7, 21.5, 51.69, 21.02, 55.17, 32.55, 57.9, 55.37, 50.31, 27.08, 21.14, 33.01, 20.3, 62.0, 53.58, 51.93, 37.29, 47.97, 52.44, 54.62, 46.58, 25.87, 20.01, 58.52, 34.29, 21.28, 43.19, 61.95, 62.05, 30.54, 45.52, 33.9, 39.42, 42.09, 20.11, 48.91, 49.75, 50.2, 26.56, 44.87, 62.43, 59.44, 58.84, 52.49, 54.63, 47.19, 27.88, 26.67, 56.96, 30.27, 52.97, 51.36, 51.02, 19.95, 60.73, 52.38, 32.4, 18.83, 28.16, 43.01, 42.75, 62.91, 32.29, 40.04, 53.29, 24.2, 27.06, 54.95, 52.9, 61.81, 22.49, 50.53, 28.63, 53.04, 37.74, 55.74, 52.84, 55.43, 59.25, 29.77, 31.6, 56.84, 38.99, 35.59, 33.48, 56.31, 45.73, 56.52, 53.55, 29.12, 42.31, 62.07, 49.36, 49.07, 51.02, 40.85, 23.51, 23.51, 31.14, 57.63, 28.22, 49.66, 54.84, 23.31, 44.81, 53.21, 18.66, 46.05, 63.92, 22.98, 47.54, 28.59, 47.76, 51.06, 44.21, 50.4, 18.08, 63.02, 30.25, 27.02, 37.78, 53.75, 36.5, 43.94, 40.91, 28.19, 52.72, 45.31, 48.11, 34.39, 35.02, 18.84, 25.84, 25.26, 46.77, 50.04, 24.42, 25.42, 24.85, 32.46, 39.96, 44.41, 44.97, 56.63, 28.82, 60.06, 47.0, 57.44, 20.14, 47.15, 20.71, 53.94, 55.15, 24.84, 39.96, 35.78, 27.52, 18.33, 30.89, 47.84, 52.34, 33.28, 26.38, 63.8, 42.93, 47.33, 39.7, 38.23, 27.93, 56.63, 32.41, 42.73, 21.3, 44.24, 58.57, 40.36, 32.16, 21.91, 49.41, 19.37, 36.07, 58.75, 55.13, 53.34, 29.32, 62.37, 30.63, 18.53, 60.76, 20.1, 28.76, 55.26, 32.53, 28.74, 28.63, 46.92, 21.27, 49.0, 47.18, 26.65, 54.31, 31.73, 61.48, 21.37, 23.95, 41.55, 40.98, 34.67, 42.39, 36.56, 47.31, 41.82, 61.65, 60.58, 36.97, 27.3, 27.63, 49.77, 55.9, 47.18, 33.07, 25.52, 57.52, 26.77, 62.29, 26.49, 38.25, 23.97, 25.62, 55.72, 59.85, 54.3, 20.59, 45.57, 54.18, 45.89, 51.94, 28.53, 19.5, 25.06, 58.53, 55.52, 37.39, 51.15, 50.32, 41.45, 35.77, 52.09, 18.42, 38.04, 42.89, 27.53, 53.54, 25.3, 32.18, 58.99, 21.87, 56.84, 22.35, 42.28, 62.32, 59.36, 47.04, 49.73, 27.94, 38.46, 53.54, 54.1, 59.63, 43.81, 45.93, 32.51, 62.83, 33.68, 28.16, 47.07, 58.91, 46.44, 34.06, 55.54, 27.43, 63.4, 60.91, 53.4, 19.89, 21.66, 34.01, 19.3, 50.3, 20.26, 54.82, 27.2, 35.65, 48.06, 33.95, 44.36, 56.19, 27.47, 57.1, 18.65, 36.41, 24.39, 41.88, 47.22, 39.28, 41.94, 61.31, 51.14, 32.25, 62.13, 62.95, 53.67, 31.76, 23.99, 22.26, 37.54, 55.36, 57.54, 49.31, 42.77, 41.08, 46.6, 38.68, 41.99, 40.3, 63.52, 49.52, 38.49, 22.54, 48.92, 54.45, 34.44, 23.08, 33.85, 50.42, 21.72, 36.35, 53.93, 55.85, 49.34, 30.98, 32.6, 19.33, 53.64, 50.9, 62.69, 51.65, 47.25, 25.53, 42.67, 23.08, 26.63, 27.13, 23.97, 35.72, 53.43, 44.11, 31.7, 55.21, 21.42, 58.08, 44.45, 57.22, 55.16, 62.2, 60.54, 42.4, 23.18, 53.37, 48.98, 35.09, 26.35, 52.53, 48.65, 51.39, 38.92, 27.81, 41.72, 29.42, 38.88, 34.6, 24.69, 44.63, 33.93, 48.32, 28.82, 62.77, 63.63, 41.47, 43.89, 43.91, 51.49, 41.85, 59.47, 57.71, 53.38, 61.39, 36.92, 21.24, 22.98, 25.93, 18.31, 34.22, 42.62, 61.37, 30.65, 26.55, 43.52, 33.8, 42.38, 63.31, 24.26, 45.89, 40.87, 27.37, 43.96, 29.71, 35.3, 24.35, 46.54, 54.62, 35.83, 48.19, 59.0, 53.44, 57.0, 57.28, 37.22, 40.3, 59.68, 32.36, 25.3, 41.81, 46.33, 59.14, 25.55, 45.64, 40.55, 42.1, 26.56, 44.41, 56.03, 32.39, 55.58, 25.6, 39.71, 48.24, 40.28, 25.86, 44.5, 41.63, 29.03, 47.07, 29.26, 22.17, 60.66, 44.53, 22.3, 51.18, 34.41, 54.08, 58.43, 22.11, 56.57, 61.84, 37.66, 38.31, 25.66, 30.75, 43.21, 47.78, 45.42, 31.13, 34.51, 40.39, 54.94, 53.11, 44.39, 53.7, 49.71, 60.28, 42.3, 47.42, 60.58, 33.8, 49.67, 35.09, 52.64, 22.34, 39.04, 34.7, 31.6, 41.24, 19.96, 25.33, 40.57, 29.64, 59.49, 30.28, 45.83, 59.69, 32.21, 56.41, 51.94, 25.91, 40.77, 32.47, 53.23, 46.48, 47.13, 35.85, 36.06, 59.7, 53.2, 41.94, 49.56, 44.56, 60.58, 58.79, 28.95, 30.68, 57.58, 55.86, 31.0, 45.04, 20.12, 46.17, 52.25, 47.42, 41.24, 33.4, 62.14, 47.75, 56.77, 22.96, 57.49, 58.79, 29.19, 42.13, 54.67, 48.1, 34.72, 20.56, 29.55, 25.15, 32.07, 40.19, 54.66, 60.17, 57.87, 25.98, 54.91, 34.35, 23.13, 35.98, 54.39, 59.02, 28.73, 42.91, 47.15, 58.14, 32.47, 61.96, 24.79, 18.7, 24.37, 30.49, 28.62, 47.72, 54.14, 35.47, 35.27, 41.15, 21.7, 21.85, 53.9, 22.74, 53.6, 36.37, 45.47, 48.29, 42.8, 22.15, 46.83, 26.3, 40.62, 60.97, 42.78, 48.29, 20.59, 29.3, 22.48, 34.48, 22.79, 36.55, 44.91, 39.94, 32.4, 63.49, 36.67, 46.01, 20.93, 63.37, 41.53, 52.08, 19.14, 18.62, 58.94, 27.8, 37.74, 33.56, 35.7, 25.59, 25.85, 19.21, 37.62, 25.05, 44.45, 55.01, 55.16, 48.9, 29.36, 55.29, 45.03, 60.38, 51.31, 29.4, 51.37, 62.63, 38.95, 46.48, 42.88, 63.19, 20.4, 28.11, 54.07, 54.26, 18.87, 63.89, 42.84, 52.09, 19.08, 35.36, 36.3, 50.24, 60.81, 63.93, 49.64, 28.96, 36.36, 18.67, 27.29, 55.41, 35.52, 27.99, 34.91, 31.05, 39.16, 28.31, 31.39, 62.33, 33.69, 23.28, 57.26, 50.65, 19.23, 61.16, 20.8, 55.7, 20.99, 23.49, 27.53, 54.32, 33.09, 43.9, 53.5, 43.88, 55.37, 32.65, 29.35, 18.3, 20.13, 58.57, 62.2, 45.69, 26.85, 20.04, 26.63, 30.4, 35.6, 24.71, 22.91, 21.6, 24.24, 44.03, 58.12, 48.35, 45.73, 27.21, 51.55, 35.54, 39.8, 21.4, 19.6, 41.6, 32.15, 56.51, 49.33, 21.38, 19.13, 52.63, 26.45, 35.13, 40.82, 33.03, 60.94, 22.94, 32.81, 23.44, 22.86, 23.18, 62.36, 22.58, 45.05, 31.55, 29.98, 48.36, 51.05, 51.03, 24.23, 63.38, 53.62, 40.37, 49.46, 56.63, 42.59, 31.0, 25.57, 51.43, 53.76, 57.69, 51.94, 54.72, 18.31, 21.42, 38.58, 40.9, 23.59, 52.18, 47.64, 30.33, 54.66, 34.67, 36.31, 48.05, 39.63, 56.39, 49.5, 38.24, 54.63, 59.99, 51.39, 56.91, 49.3, 32.84, 60.06, 39.23, 28.25, 38.28, 26.63, 58.58, 23.95, 18.39, 25.41, 42.61, 48.65, 58.1, 49.19, 25.38, 61.01, 19.06, 31.01, 50.61, 28.55, 38.64, 19.66, 18.83, 39.84, 43.73, 19.78, 24.47, 22.36, 33.36, 50.02, 21.19, 38.91, 34.58, 20.67, 39.19, 48.4, 46.31, 33.36, 34.93, 51.56, 59.11, 18.95, 32.52, 34.65, 44.14, 52.64, 36.23, 24.0, 61.19, 37.69, 38.82, 34.26, 46.97, 35.72, 24.42, 54.27, 62.91, 40.5, 28.03, 53.32, 35.92, 40.71, 34.29, 62.78, 62.23, 46.52, 21.63, 31.8, 52.37, 31.4, 57.32, 43.31, 48.32, 57.99, 19.01, 42.2, 34.75, 30.13, 52.21, 30.93, 42.11, 40.04, 53.8, 52.98, 22.01, 54.56, 57.83, 36.62, 48.02, 24.65, 45.36, 54.15, 59.56, 50.12, 47.93, 26.91, 57.78, 19.36, 37.87, 23.82, 37.31, 41.6, 29.38, 32.11, 53.86, 52.23, 42.64, 57.51, 41.92, 49.69, 52.82, 38.68, 37.8, 52.4, 20.63, 44.69, 49.4, 36.19, 57.52, 36.57, 47.89, 56.67, 25.97, 38.25, 24.91, 32.09, 28.99, 40.33, 62.33, 27.05, 54.15, 45.86, 57.14, 56.05, 52.89, 31.8, 45.42, 36.34, 62.04, 34.5, 33.06, 18.85, 19.43, 32.27, 49.43, 24.07, 54.73, 44.21, 47.95, 53.86, 33.47, 27.35, 46.79, 59.8, 32.62, 59.75, 49.94, 18.81, 47.79, 34.38, 55.29, 58.86, 60.76, 32.52, 44.13, 31.81, 20.12, 41.7, 49.32, 47.39, 20.29, 34.83, 32.14, 36.99, 56.26, 28.16, 27.9, 20.99, 60.37, 34.57, 45.12, 35.75, 29.67, 27.08, 27.44, 43.82, 51.58, 34.85, 33.26, 37.84, 35.77, 27.15, 20.25, 43.83, 53.06, 33.63, 59.89, 63.22, 60.46, 29.34, 60.45, 26.92, 61.68, 22.66, 52.71, 23.35, 38.29, 34.7, 30.97, 41.05, 55.09, 19.61, 59.12, 61.74, 37.16, 55.64, 54.75, 51.14, 23.5, 57.83, 22.53, 23.72, 20.61, 23.25, 47.75, 35.03, 61.05, 29.76, 31.28, 53.76, 27.87, 39.24, 26.71, 19.53, 42.63, 57.12, 28.46, 53.76, 26.16, 63.17, 41.92, 29.53, 22.85, 47.46, 31.49, 22.33, 49.62, 43.37, 56.94, 21.99, 19.98, 26.93, 37.07, 48.45, 41.02, 29.55, 31.09, 21.09, 60.94, 57.67, 61.14, 33.7, 20.83, 61.61, 23.72, 18.45, 62.65, 27.31, 19.24, 63.05, 21.28, 45.19, 29.27, 45.63, 45.54, 41.94, 56.17, 47.45, 31.55, 35.42, 43.12, 42.05, 43.7, 55.19, 59.03, 63.56, 30.04, 45.54, 53.11, 52.74, 63.24, 31.08, 48.41, 50.07, 22.29, 28.17, 35.85, 57.02, 41.85, 31.62, 18.81, 34.51, 34.41, 44.88, 43.6, 29.73, 51.81, 34.61, 60.28, 19.85, 51.35, 21.04, 34.56, 35.0, 53.54, 25.48, 39.86, 55.64, 44.54, 22.66, 28.0, 50.71, 56.64, 19.29, 24.43, 50.28, 21.01, 41.61, 37.25, 53.69, 57.09, 53.28, 60.29, 54.63, 35.63, 63.33, 23.34, 59.32, 21.21, 24.28, 55.86, 47.78, 49.41, 47.98, 61.67, 50.42, 55.78, 60.26, 58.18, 35.14, 22.29, 19.82, 62.87, 61.51, 34.44, 26.92, 45.48, 55.66, 44.14, 62.59, 63.08, 43.12, 35.59, 59.21, 62.73, 56.77, 52.08, 63.3, 57.39, 32.67, 48.52, 54.33, 60.69, 41.49, 36.16, 29.55, 58.89, 18.25, 54.0, 24.6, 21.58, 35.92, 52.53, 23.92, 50.13, 62.89, 52.91, 36.46, 56.79, 38.48, 22.4, 38.94, 43.2, 27.29, 48.09, 43.62, 47.89, 43.29, 42.95, 28.94, 43.69, 56.49, 36.2, 33.76, 30.14, 21.84, 37.48, 63.29, 33.52, 51.05, 25.55, 27.85, 35.65, 36.74, 32.82, 59.26, 24.17, 59.43, 37.29, 29.21, 23.15, 54.83, 41.28, 44.14, 42.66, 61.09, 41.83, 21.47, 48.97, 29.38, 63.11, 43.64, 33.63, 37.51, 42.76, 24.66, 30.1, 27.29, 49.13, 62.59, 43.63, 47.78, 43.94, 49.12, 60.85, 54.7, 26.03, 39.17, 21.83, 42.05, 21.36, 49.84, 33.86, 32.1, 28.41, 62.23, 18.61, 43.37, 39.39, 43.42, 46.1, 53.25, 18.71, 36.2, 32.4, 24.64, 45.15, 41.41, 19.01, 19.02, 44.36, 52.18, 23.88, 32.31, 31.33, 34.74, 38.04, 40.62, 49.66, 35.26, 29.14, 49.91, 54.52, 56.3, 39.96, 36.42, 21.05, 28.02, 28.48, 41.17, 49.06, 30.52, 22.16, 28.42, 30.83, 54.7, 26.43, 46.03, 36.29, 35.76, 27.48, 27.4, 45.2, 18.96, 36.92, 51.75, 22.54, 39.18, 32.7, 43.28, 56.33, 25.81, 28.38, 19.28, 30.16, 39.3, 62.66, 31.82, 39.93, 38.48, 21.03, 54.55, 58.61, 25.69, 26.73, 31.95, 45.78, 23.64, 60.92, 24.62, 24.56, 51.73, 46.76, 23.72, 45.7, 36.37, 58.39, 50.96, 35.88, 59.04, 51.53, 30.08, 34.56, 34.9, 18.23, 59.44, 56.42, 26.99, 20.18, 26.77, 26.42, 27.96, 24.81, 42.75, 36.61, 25.91, 34.33, 41.52, 58.06, 42.34, 51.15, 24.69, 18.41, 26.85, 37.19, 33.55, 48.61, 29.82, 34.3, 39.23, 18.18, 51.91, 22.67, 18.45, 20.11, 29.52, 57.22, 18.43, 23.97, 41.15, 30.08, 43.91, 62.44, 32.83, 53.42, 19.3, 48.15, 27.48, 41.3, 19.52, 51.66, 26.0, 32.89, 38.98, 58.71, 61.05, 52.96, 61.65, 43.91, 56.81, 52.17, 58.44, 35.41, 53.11, 44.16, 21.95, 47.43, 22.79, 60.94, 48.36, 37.44, 19.88, 39.08, 19.38, 62.27, 22.19, 19.18, 47.85, 55.51, 44.28, 40.71, 45.19, 33.95, 18.06, 52.18, 57.29, 20.5, 56.84, 56.43, 51.52, 27.18, 47.0, 52.16, 58.93, 32.1, 46.06, 28.35, 25.67, 54.66, 45.32, 36.69, 60.16, 53.26, 26.78, 33.66, 19.67, 22.4, 44.33, 23.43, 52.43, 50.17, 50.07, 49.18, 57.93, 58.36, 40.23, 19.37, 37.9, 37.46, 41.96, 25.02, 47.2, 23.46, 53.35, 50.65, 27.37, 33.9, 30.23, 27.47, 51.13, 47.68, 28.8, 21.41, 29.91, 23.48, 48.87, 38.41, 58.62, 22.1, 32.3, 34.38, 19.62, 61.73, 27.84, 35.94, 55.13, 19.08, 57.63, 62.27, 37.87, 56.35, 36.48, 18.06, 56.65, 27.83, 30.75, 46.03, 36.7, 41.94, 40.56, 26.65, 34.21, 34.43, 49.99, 41.76, 55.18, 19.5, 59.76, 35.6, 57.63, 24.6, 63.25, 56.74, 32.53, 30.56, 54.65, 60.25, 36.33, 42.85, 63.43, 22.83, 55.81, 28.88, 62.78, 46.51, 43.07, 50.1, 62.22, 19.9, 61.6, 18.75, 61.17, 29.87, 58.0, 31.79, 54.75, 31.53, 53.41, 34.2, 41.3, 44.74, 49.04, 43.32, 55.05, 51.8, 61.85, 23.43, 34.8, 63.64, 21.13, 57.97, 35.82, 61.89, 48.8, 20.32, 36.83, 25.3, 46.47, 50.07, 41.57, 43.92, 45.58, 35.11, 59.71, 27.92, 39.08, 40.69, 35.97, 62.12, 27.36, 44.92, 45.54, 37.6, 54.7, 19.49, 28.57, 60.81, 63.86, 31.61, 61.3, 25.9, 36.73, 32.72, 30.54, 55.05, 42.52, 22.93, 57.88, 30.76, 30.59, 46.45, 63.89, 58.02, 45.88, 59.51, 29.02, 23.79, 18.75, 43.06, 40.77, 26.96, 33.09, 45.88, 33.93, 25.21, 50.22, 27.4, 22.22, 42.37, 62.19, 50.79, 59.96, 18.51, 41.58, 29.42, 62.84, 24.19, 60.19, 52.03, 54.22, 28.06, 37.91, 25.68, 26.94, 24.31, 45.86, 48.82, 39.67, 61.68, 63.22, 52.16, 36.43, 23.37, 20.62, 43.04, 39.44, 53.94, 33.69, 56.89, 46.55, 39.64, 52.05, 62.2, 21.37, 43.67, 61.16, 41.0, 55.83, 24.99, 59.2, 44.39, 27.48, 36.92, 41.77, 32.17, 28.24, 35.76, 54.87, 56.64, 58.1, 59.86, 52.39, 52.24, 27.22, 33.31, 45.16, 60.26, 56.03, 24.93, 36.28, 19.98, 41.22, 32.33, 38.1, 51.89, 59.92, 28.85, 28.45, 36.0, 55.53, 18.66, 44.77, 45.54, 24.19, 41.07, 27.13, 51.08, 36.98, 33.1, 43.72, 60.73, 40.11, 41.32, 18.7, 42.98, 61.3, 48.52, 52.31, 28.55, 56.36, 57.41, 37.17, 40.74, 23.69, 28.2, 39.23, 34.92, 38.67, 51.76, 43.21, 47.69, 30.31, 54.97, 47.47, 31.34, 54.24, 47.6, 31.19, 40.52, 48.15, 52.58, 44.0, 45.99, 33.33, 60.89, 39.14, 38.62, 20.54, 24.27, 25.25, 34.1, 45.54, 23.25, 26.82, 37.75, 48.52, 23.16, 28.02, 63.97, 56.15]}],\n",
              "                        {\"coloraxis\": {\"colorbar\": {\"title\": {\"text\": \"INADIMPLENCIA\"}}, \"colorscale\": [[0.0, \"#0d0887\"], [0.1111111111111111, \"#46039f\"], [0.2222222222222222, \"#7201a8\"], [0.3333333333333333, \"#9c179e\"], [0.4444444444444444, \"#bd3786\"], [0.5555555555555556, \"#d8576b\"], [0.6666666666666666, \"#ed7953\"], [0.7777777777777778, \"#fb9f3a\"], [0.8888888888888888, \"#fdca26\"], [1.0, \"#f0f921\"]]}, \"legend\": {\"tracegroupgap\": 0}, \"margin\": {\"t\": 60}, \"scene\": {\"domain\": {\"x\": [0.0, 1.0], \"y\": [0.0, 1.0]}, \"xaxis\": {\"title\": {\"text\": \"SALARIO\"}}, \"yaxis\": {\"title\": {\"text\": \"EMPRESTIMO\"}}, \"zaxis\": {\"title\": {\"text\": \"IDADE\"}}}, \"template\": {\"data\": {\"bar\": [{\"error_x\": {\"color\": \"#2a3f5f\"}, \"error_y\": {\"color\": \"#2a3f5f\"}, \"marker\": {\"line\": {\"color\": \"#E5ECF6\", \"width\": 0.5}}, \"type\": \"bar\"}], \"barpolar\": [{\"marker\": {\"line\": {\"color\": \"#E5ECF6\", \"width\": 0.5}}, \"type\": \"barpolar\"}], \"carpet\": [{\"aaxis\": {\"endlinecolor\": \"#2a3f5f\", \"gridcolor\": \"white\", \"linecolor\": \"white\", \"minorgridcolor\": \"white\", \"startlinecolor\": \"#2a3f5f\"}, \"baxis\": {\"endlinecolor\": \"#2a3f5f\", \"gridcolor\": \"white\", \"linecolor\": \"white\", \"minorgridcolor\": \"white\", \"startlinecolor\": \"#2a3f5f\"}, \"type\": \"carpet\"}], \"choropleth\": [{\"colorbar\": {\"outlinewidth\": 0, \"ticks\": \"\"}, \"type\": \"choropleth\"}], \"contour\": [{\"colorbar\": {\"outlinewidth\": 0, \"ticks\": \"\"}, \"colorscale\": [[0.0, \"#0d0887\"], [0.1111111111111111, \"#46039f\"], [0.2222222222222222, \"#7201a8\"], [0.3333333333333333, \"#9c179e\"], [0.4444444444444444, \"#bd3786\"], [0.5555555555555556, \"#d8576b\"], [0.6666666666666666, \"#ed7953\"], [0.7777777777777778, \"#fb9f3a\"], [0.8888888888888888, \"#fdca26\"], [1.0, \"#f0f921\"]], \"type\": \"contour\"}], \"contourcarpet\": [{\"colorbar\": {\"outlinewidth\": 0, \"ticks\": \"\"}, \"type\": \"contourcarpet\"}], \"heatmap\": [{\"colorbar\": {\"outlinewidth\": 0, \"ticks\": \"\"}, \"colorscale\": [[0.0, \"#0d0887\"], [0.1111111111111111, \"#46039f\"], [0.2222222222222222, \"#7201a8\"], [0.3333333333333333, \"#9c179e\"], [0.4444444444444444, \"#bd3786\"], [0.5555555555555556, \"#d8576b\"], [0.6666666666666666, \"#ed7953\"], [0.7777777777777778, \"#fb9f3a\"], [0.8888888888888888, \"#fdca26\"], [1.0, \"#f0f921\"]], \"type\": \"heatmap\"}], \"heatmapgl\": [{\"colorbar\": {\"outlinewidth\": 0, \"ticks\": \"\"}, \"colorscale\": [[0.0, \"#0d0887\"], [0.1111111111111111, \"#46039f\"], [0.2222222222222222, \"#7201a8\"], [0.3333333333333333, \"#9c179e\"], [0.4444444444444444, \"#bd3786\"], [0.5555555555555556, \"#d8576b\"], [0.6666666666666666, \"#ed7953\"], [0.7777777777777778, \"#fb9f3a\"], [0.8888888888888888, \"#fdca26\"], [1.0, \"#f0f921\"]], \"type\": \"heatmapgl\"}], \"histogram\": [{\"marker\": {\"colorbar\": {\"outlinewidth\": 0, \"ticks\": \"\"}}, \"type\": \"histogram\"}], \"histogram2d\": [{\"colorbar\": {\"outlinewidth\": 0, \"ticks\": \"\"}, \"colorscale\": [[0.0, \"#0d0887\"], [0.1111111111111111, \"#46039f\"], [0.2222222222222222, \"#7201a8\"], [0.3333333333333333, \"#9c179e\"], [0.4444444444444444, \"#bd3786\"], [0.5555555555555556, \"#d8576b\"], [0.6666666666666666, \"#ed7953\"], [0.7777777777777778, \"#fb9f3a\"], [0.8888888888888888, \"#fdca26\"], [1.0, \"#f0f921\"]], \"type\": \"histogram2d\"}], \"histogram2dcontour\": [{\"colorbar\": {\"outlinewidth\": 0, \"ticks\": \"\"}, \"colorscale\": [[0.0, \"#0d0887\"], [0.1111111111111111, \"#46039f\"], [0.2222222222222222, \"#7201a8\"], [0.3333333333333333, \"#9c179e\"], [0.4444444444444444, \"#bd3786\"], [0.5555555555555556, \"#d8576b\"], [0.6666666666666666, \"#ed7953\"], [0.7777777777777778, \"#fb9f3a\"], [0.8888888888888888, \"#fdca26\"], [1.0, \"#f0f921\"]], \"type\": \"histogram2dcontour\"}], \"mesh3d\": [{\"colorbar\": {\"outlinewidth\": 0, \"ticks\": \"\"}, \"type\": \"mesh3d\"}], \"parcoords\": [{\"line\": {\"colorbar\": {\"outlinewidth\": 0, \"ticks\": \"\"}}, \"type\": \"parcoords\"}], \"pie\": [{\"automargin\": true, \"type\": \"pie\"}], \"scatter\": [{\"marker\": {\"colorbar\": {\"outlinewidth\": 0, \"ticks\": \"\"}}, \"type\": \"scatter\"}], \"scatter3d\": [{\"line\": {\"colorbar\": {\"outlinewidth\": 0, \"ticks\": \"\"}}, \"marker\": {\"colorbar\": {\"outlinewidth\": 0, \"ticks\": \"\"}}, \"type\": \"scatter3d\"}], \"scattercarpet\": [{\"marker\": {\"colorbar\": {\"outlinewidth\": 0, \"ticks\": \"\"}}, \"type\": \"scattercarpet\"}], \"scattergeo\": [{\"marker\": {\"colorbar\": {\"outlinewidth\": 0, \"ticks\": \"\"}}, \"type\": \"scattergeo\"}], \"scattergl\": [{\"marker\": {\"colorbar\": {\"outlinewidth\": 0, \"ticks\": \"\"}}, \"type\": \"scattergl\"}], \"scattermapbox\": [{\"marker\": {\"colorbar\": {\"outlinewidth\": 0, \"ticks\": \"\"}}, \"type\": \"scattermapbox\"}], \"scatterpolar\": [{\"marker\": {\"colorbar\": {\"outlinewidth\": 0, \"ticks\": \"\"}}, \"type\": \"scatterpolar\"}], \"scatterpolargl\": [{\"marker\": {\"colorbar\": {\"outlinewidth\": 0, \"ticks\": \"\"}}, \"type\": \"scatterpolargl\"}], \"scatterternary\": [{\"marker\": {\"colorbar\": {\"outlinewidth\": 0, \"ticks\": \"\"}}, \"type\": \"scatterternary\"}], \"surface\": [{\"colorbar\": {\"outlinewidth\": 0, \"ticks\": \"\"}, \"colorscale\": [[0.0, \"#0d0887\"], [0.1111111111111111, \"#46039f\"], [0.2222222222222222, \"#7201a8\"], [0.3333333333333333, \"#9c179e\"], [0.4444444444444444, \"#bd3786\"], [0.5555555555555556, \"#d8576b\"], [0.6666666666666666, \"#ed7953\"], [0.7777777777777778, \"#fb9f3a\"], [0.8888888888888888, \"#fdca26\"], [1.0, \"#f0f921\"]], \"type\": \"surface\"}], \"table\": [{\"cells\": {\"fill\": {\"color\": \"#EBF0F8\"}, \"line\": {\"color\": \"white\"}}, \"header\": {\"fill\": {\"color\": \"#C8D4E3\"}, \"line\": {\"color\": \"white\"}}, \"type\": \"table\"}]}, \"layout\": {\"annotationdefaults\": {\"arrowcolor\": \"#2a3f5f\", \"arrowhead\": 0, \"arrowwidth\": 1}, \"coloraxis\": {\"colorbar\": {\"outlinewidth\": 0, \"ticks\": \"\"}}, \"colorscale\": {\"diverging\": [[0, \"#8e0152\"], [0.1, \"#c51b7d\"], [0.2, \"#de77ae\"], [0.3, \"#f1b6da\"], [0.4, \"#fde0ef\"], [0.5, \"#f7f7f7\"], [0.6, \"#e6f5d0\"], [0.7, \"#b8e186\"], [0.8, \"#7fbc41\"], [0.9, \"#4d9221\"], [1, \"#276419\"]], \"sequential\": [[0.0, \"#0d0887\"], [0.1111111111111111, \"#46039f\"], [0.2222222222222222, \"#7201a8\"], [0.3333333333333333, \"#9c179e\"], [0.4444444444444444, \"#bd3786\"], [0.5555555555555556, \"#d8576b\"], [0.6666666666666666, \"#ed7953\"], [0.7777777777777778, \"#fb9f3a\"], [0.8888888888888888, \"#fdca26\"], [1.0, \"#f0f921\"]], \"sequentialminus\": [[0.0, \"#0d0887\"], [0.1111111111111111, \"#46039f\"], [0.2222222222222222, \"#7201a8\"], [0.3333333333333333, \"#9c179e\"], [0.4444444444444444, \"#bd3786\"], [0.5555555555555556, \"#d8576b\"], [0.6666666666666666, \"#ed7953\"], [0.7777777777777778, \"#fb9f3a\"], [0.8888888888888888, \"#fdca26\"], [1.0, \"#f0f921\"]]}, \"colorway\": [\"#636efa\", \"#EF553B\", \"#00cc96\", \"#ab63fa\", \"#FFA15A\", \"#19d3f3\", \"#FF6692\", \"#B6E880\", \"#FF97FF\", \"#FECB52\"], \"font\": {\"color\": \"#2a3f5f\"}, \"geo\": {\"bgcolor\": \"white\", \"lakecolor\": \"white\", \"landcolor\": \"#E5ECF6\", \"showlakes\": true, \"showland\": true, \"subunitcolor\": \"white\"}, \"hoverlabel\": {\"align\": \"left\"}, \"hovermode\": \"closest\", \"mapbox\": {\"style\": \"light\"}, \"paper_bgcolor\": \"white\", \"plot_bgcolor\": \"#E5ECF6\", \"polar\": {\"angularaxis\": {\"gridcolor\": \"white\", \"linecolor\": \"white\", \"ticks\": \"\"}, \"bgcolor\": \"#E5ECF6\", \"radialaxis\": {\"gridcolor\": \"white\", \"linecolor\": \"white\", \"ticks\": \"\"}}, \"scene\": {\"xaxis\": {\"backgroundcolor\": \"#E5ECF6\", \"gridcolor\": \"white\", \"gridwidth\": 2, \"linecolor\": \"white\", \"showbackground\": true, \"ticks\": \"\", \"zerolinecolor\": \"white\"}, \"yaxis\": {\"backgroundcolor\": \"#E5ECF6\", \"gridcolor\": \"white\", \"gridwidth\": 2, \"linecolor\": \"white\", \"showbackground\": true, \"ticks\": \"\", \"zerolinecolor\": \"white\"}, \"zaxis\": {\"backgroundcolor\": \"#E5ECF6\", \"gridcolor\": \"white\", \"gridwidth\": 2, \"linecolor\": \"white\", \"showbackground\": true, \"ticks\": \"\", \"zerolinecolor\": \"white\"}}, \"shapedefaults\": {\"line\": {\"color\": \"#2a3f5f\"}}, \"ternary\": {\"aaxis\": {\"gridcolor\": \"white\", \"linecolor\": \"white\", \"ticks\": \"\"}, \"baxis\": {\"gridcolor\": \"white\", \"linecolor\": \"white\", \"ticks\": \"\"}, \"bgcolor\": \"#E5ECF6\", \"caxis\": {\"gridcolor\": \"white\", \"linecolor\": \"white\", \"ticks\": \"\"}}, \"title\": {\"x\": 0.05}, \"xaxis\": {\"automargin\": true, \"gridcolor\": \"white\", \"linecolor\": \"white\", \"ticks\": \"\", \"title\": {\"standoff\": 15}, \"zerolinecolor\": \"white\", \"zerolinewidth\": 2}, \"yaxis\": {\"automargin\": true, \"gridcolor\": \"white\", \"linecolor\": \"white\", \"ticks\": \"\", \"title\": {\"standoff\": 15}, \"zerolinecolor\": \"white\", \"zerolinewidth\": 2}}}},\n",
              "                        {\"responsive\": true}\n",
              "                    ).then(function(){\n",
              "                            \n",
              "var gd = document.getElementById('7efc7541-0482-49fb-98b6-25985bc2cae8');\n",
              "var x = new MutationObserver(function (mutations, observer) {{\n",
              "        var display = window.getComputedStyle(gd).display;\n",
              "        if (!display || display === 'none') {{\n",
              "            console.log([gd, 'removed!']);\n",
              "            Plotly.purge(gd);\n",
              "            observer.disconnect();\n",
              "        }}\n",
              "}});\n",
              "\n",
              "// Listen for the removal of the full notebook cells\n",
              "var notebookContainer = gd.closest('#notebook-container');\n",
              "if (notebookContainer) {{\n",
              "    x.observe(notebookContainer, {childList: true});\n",
              "}}\n",
              "\n",
              "// Listen for the clearing of the current output cell\n",
              "var outputEl = gd.closest('.output');\n",
              "if (outputEl) {{\n",
              "    x.observe(outputEl, {childList: true});\n",
              "}}\n",
              "\n",
              "                        })\n",
              "                };\n",
              "                \n",
              "            </script>\n",
              "        </div>\n",
              "</body>\n",
              "</html>"
            ]
          },
          "metadata": {
            "tags": []
          }
        }
      ]
    },
    {
      "cell_type": "markdown",
      "metadata": {
        "id": "5IcQ91iBOgBV"
      },
      "source": [
        "## **03.PREPARAR OS DADOS.**"
      ]
    },
    {
      "cell_type": "markdown",
      "metadata": {
        "id": "qBvItaT5oTnr"
      },
      "source": [
        " <center><img src=\"https://raw.githubusercontent.com/rafael-arevalo/orbeai/master/M06_CRISP-DM_04_PREPARACAO_DOS_DADOS.png\" height=\"300px\"></center>"
      ]
    },
    {
      "cell_type": "markdown",
      "metadata": {
        "id": "Qeg_Nc90QgKd"
      },
      "source": [
        "### **03.a.Valores errados.**"
      ]
    },
    {
      "cell_type": "markdown",
      "metadata": {
        "id": "mKQ_YG9WSNZf"
      },
      "source": [
        "- Já observamos é que há valores errados no atributo **`IDADE`**. Vamos entender quais valores são estes.\n",
        "\n",
        "- Para isso há duas formas de filtramos estes valores:\n",
        "\n",
        " - **01.Filtro de fatia da biblioteca Pandas.**:\n",
        "\n",
        "  ```\n",
        "  df[df.IDADE<0]\n",
        "  ```\n",
        "\n",
        " - **02.Usar o comando `loc` para localizar os valores que buscamos.**:\n",
        "\n",
        "  ```\n",
        "  df.loc[df.IDADE<0]\n",
        "  ```\n"
      ]
    },
    {
      "cell_type": "code",
      "metadata": {
        "colab": {
          "base_uri": "https://localhost:8080/",
          "height": 142
        },
        "id": "vJxBtKnwQ-Tq",
        "outputId": "a3fe444d-d71e-4e8b-ee7e-baf35ff48b99"
      },
      "source": [
        "# LOCALIZAR DADOS ERRADOS NO ATRIBUTO IDADE - COM FILTRO DE FATIA\n",
        "df[df.IDADE<0]"
      ],
      "execution_count": null,
      "outputs": [
        {
          "output_type": "execute_result",
          "data": {
            "text/html": [
              "<div>\n",
              "<style scoped>\n",
              "    .dataframe tbody tr th:only-of-type {\n",
              "        vertical-align: middle;\n",
              "    }\n",
              "\n",
              "    .dataframe tbody tr th {\n",
              "        vertical-align: top;\n",
              "    }\n",
              "\n",
              "    .dataframe thead th {\n",
              "        text-align: right;\n",
              "    }\n",
              "</style>\n",
              "<table border=\"1\" class=\"dataframe\">\n",
              "  <thead>\n",
              "    <tr style=\"text-align: right;\">\n",
              "      <th></th>\n",
              "      <th>clientid</th>\n",
              "      <th>SALARIO</th>\n",
              "      <th>IDADE</th>\n",
              "      <th>EMPRESTIMO</th>\n",
              "      <th>INADIMPLENCIA</th>\n",
              "    </tr>\n",
              "  </thead>\n",
              "  <tbody>\n",
              "    <tr>\n",
              "      <th>15</th>\n",
              "      <td>16.0</td>\n",
              "      <td>50501.73</td>\n",
              "      <td>-28.22</td>\n",
              "      <td>3977.29</td>\n",
              "      <td>0.0</td>\n",
              "    </tr>\n",
              "    <tr>\n",
              "      <th>21</th>\n",
              "      <td>22.0</td>\n",
              "      <td>32197.62</td>\n",
              "      <td>-52.42</td>\n",
              "      <td>4244.06</td>\n",
              "      <td>0.0</td>\n",
              "    </tr>\n",
              "    <tr>\n",
              "      <th>26</th>\n",
              "      <td>27.0</td>\n",
              "      <td>63287.04</td>\n",
              "      <td>-36.50</td>\n",
              "      <td>9595.29</td>\n",
              "      <td>0.0</td>\n",
              "    </tr>\n",
              "  </tbody>\n",
              "</table>\n",
              "</div>"
            ],
            "text/plain": [
              "    clientid   SALARIO  IDADE  EMPRESTIMO  INADIMPLENCIA\n",
              "15      16.0  50501.73 -28.22     3977.29            0.0\n",
              "21      22.0  32197.62 -52.42     4244.06            0.0\n",
              "26      27.0  63287.04 -36.50     9595.29            0.0"
            ]
          },
          "metadata": {
            "tags": []
          },
          "execution_count": 16
        }
      ]
    },
    {
      "cell_type": "code",
      "metadata": {
        "colab": {
          "base_uri": "https://localhost:8080/",
          "height": 142
        },
        "id": "58qWGkmjQt39",
        "outputId": "abf6a141-c0ea-484d-83ed-e3333c5bdd98"
      },
      "source": [
        "# LOCALIZAR DADOS ERRADOS NO ATRIBUTO IDADE - COM O COMANDO loc\n",
        "df.loc[df.IDADE<0]"
      ],
      "execution_count": null,
      "outputs": [
        {
          "output_type": "execute_result",
          "data": {
            "text/html": [
              "<div>\n",
              "<style scoped>\n",
              "    .dataframe tbody tr th:only-of-type {\n",
              "        vertical-align: middle;\n",
              "    }\n",
              "\n",
              "    .dataframe tbody tr th {\n",
              "        vertical-align: top;\n",
              "    }\n",
              "\n",
              "    .dataframe thead th {\n",
              "        text-align: right;\n",
              "    }\n",
              "</style>\n",
              "<table border=\"1\" class=\"dataframe\">\n",
              "  <thead>\n",
              "    <tr style=\"text-align: right;\">\n",
              "      <th></th>\n",
              "      <th>clientid</th>\n",
              "      <th>SALARIO</th>\n",
              "      <th>IDADE</th>\n",
              "      <th>EMPRESTIMO</th>\n",
              "      <th>INADIMPLENCIA</th>\n",
              "    </tr>\n",
              "  </thead>\n",
              "  <tbody>\n",
              "    <tr>\n",
              "      <th>15</th>\n",
              "      <td>16.0</td>\n",
              "      <td>50501.73</td>\n",
              "      <td>-28.22</td>\n",
              "      <td>3977.29</td>\n",
              "      <td>0.0</td>\n",
              "    </tr>\n",
              "    <tr>\n",
              "      <th>21</th>\n",
              "      <td>22.0</td>\n",
              "      <td>32197.62</td>\n",
              "      <td>-52.42</td>\n",
              "      <td>4244.06</td>\n",
              "      <td>0.0</td>\n",
              "    </tr>\n",
              "    <tr>\n",
              "      <th>26</th>\n",
              "      <td>27.0</td>\n",
              "      <td>63287.04</td>\n",
              "      <td>-36.50</td>\n",
              "      <td>9595.29</td>\n",
              "      <td>0.0</td>\n",
              "    </tr>\n",
              "  </tbody>\n",
              "</table>\n",
              "</div>"
            ],
            "text/plain": [
              "    clientid   SALARIO  IDADE  EMPRESTIMO  INADIMPLENCIA\n",
              "15      16.0  50501.73 -28.22     3977.29            0.0\n",
              "21      22.0  32197.62 -52.42     4244.06            0.0\n",
              "26      27.0  63287.04 -36.50     9595.29            0.0"
            ]
          },
          "metadata": {
            "tags": []
          },
          "execution_count": 17
        }
      ]
    },
    {
      "cell_type": "markdown",
      "metadata": {
        "id": "v390m8i85psu"
      },
      "source": [
        "#### **03.a.Tratar as linhas com os valores errados do atributo IDADE.**"
      ]
    },
    {
      "cell_type": "markdown",
      "metadata": {
        "id": "I6zcrx6H50hd"
      },
      "source": [
        "- Podemos tratar valores errados e ausentes de duas formas: excluir os os valores ou substituir por outro valor.\n",
        "\n",
        "- Para os dados errados do atributo **`IDADE`** vamos optar por excluir estes valores por ser uma quantidade muito pequena em relação à quantidade total de dados. Para isso usaremos o método **`drop( )`** da biblioteca Pandas desta forma:\n",
        "\n",
        "````\n",
        "df = df.drop(df[df.IDADE<0].index)\n",
        "`````\n"
      ]
    },
    {
      "cell_type": "code",
      "metadata": {
        "id": "kuwZF4uiRR53"
      },
      "source": [
        "# APAGAR AS LINHAS COM DADOS ERRADOS.\n",
        "df = df.drop(df[df.IDADE<0].index)"
      ],
      "execution_count": null,
      "outputs": []
    },
    {
      "cell_type": "markdown",
      "metadata": {
        "id": "WlIZsB4g6o1a"
      },
      "source": [
        "- Para verificar esta exclusão podemos usar o método **`describe( )`** para entender o valor mínumo do atributo **`IDADE`** após a exclusão dos dados com valor menor que zero.\n",
        "\n",
        "````\n",
        "df.IDADE.describe( )\n",
        "````"
      ]
    },
    {
      "cell_type": "code",
      "metadata": {
        "colab": {
          "base_uri": "https://localhost:8080/"
        },
        "id": "g6yN6LW47AoZ",
        "outputId": "51b3b2e8-f3ce-4652-8bb5-bdf67c446d66"
      },
      "source": [
        "# VERIFICANDO A EXCLUSÃO DOS VALORES MENORES DO QUE ZERO DO ATRIBUTO IDADE.\n",
        "df.IDADE.describe()"
      ],
      "execution_count": null,
      "outputs": [
        {
          "output_type": "execute_result",
          "data": {
            "text/plain": [
              "count    1994.000000\n",
              "mean       40.927803\n",
              "std        13.271873\n",
              "min        18.060000\n",
              "25%        29.040000\n",
              "50%        41.380000\n",
              "75%        52.620000\n",
              "max        63.970000\n",
              "Name: IDADE, dtype: float64"
            ]
          },
          "metadata": {
            "tags": []
          },
          "execution_count": 19
        }
      ]
    },
    {
      "cell_type": "markdown",
      "metadata": {
        "id": "prxTpM7f7U-D"
      },
      "source": [
        "- Observação: agora que excluimos os valores negativos do atributo **`IDADE`** podemos visualizar melhor o gráfico de dispersão de valores criado no item **02.o.Visualizar a dispersão dos valores dos atributos numéricos com uma matriz de dispersão.**"
      ]
    },
    {
      "cell_type": "markdown",
      "metadata": {
        "id": "d23tz1NkQ6qC"
      },
      "source": [
        "### **03.b.Valores ausentes.**"
      ]
    },
    {
      "cell_type": "markdown",
      "metadata": {
        "id": "gROrhQfj8lW1"
      },
      "source": [
        "#### **03.b.i.Localizar as linhas com os valores ausentes.**"
      ]
    },
    {
      "cell_type": "markdown",
      "metadata": {
        "id": "TFYeEtE08M36"
      },
      "source": [
        "- Para poder **localizar** as linhas onde estão os valores ausentes, usamos o comando **`loc`** desta forma:\n",
        "\n",
        "````\n",
        "df.loc[df.IDADE.isnull()]\n",
        "````"
      ]
    },
    {
      "cell_type": "code",
      "metadata": {
        "colab": {
          "base_uri": "https://localhost:8080/",
          "height": 142
        },
        "id": "IelysEOISe74",
        "outputId": "f3b72f8e-6ea5-4239-e603-2c77bbc252e3"
      },
      "source": [
        "# LOCALIZAR LINHAS COM VALORES AUSENTES.\n",
        "df.loc[df.IDADE.isnull()]"
      ],
      "execution_count": null,
      "outputs": [
        {
          "output_type": "execute_result",
          "data": {
            "text/html": [
              "<div>\n",
              "<style scoped>\n",
              "    .dataframe tbody tr th:only-of-type {\n",
              "        vertical-align: middle;\n",
              "    }\n",
              "\n",
              "    .dataframe tbody tr th {\n",
              "        vertical-align: top;\n",
              "    }\n",
              "\n",
              "    .dataframe thead th {\n",
              "        text-align: right;\n",
              "    }\n",
              "</style>\n",
              "<table border=\"1\" class=\"dataframe\">\n",
              "  <thead>\n",
              "    <tr style=\"text-align: right;\">\n",
              "      <th></th>\n",
              "      <th>clientid</th>\n",
              "      <th>SALARIO</th>\n",
              "      <th>IDADE</th>\n",
              "      <th>EMPRESTIMO</th>\n",
              "      <th>INADIMPLENCIA</th>\n",
              "    </tr>\n",
              "  </thead>\n",
              "  <tbody>\n",
              "    <tr>\n",
              "      <th>28</th>\n",
              "      <td>29.0</td>\n",
              "      <td>59417.81</td>\n",
              "      <td>NaN</td>\n",
              "      <td>2082.63</td>\n",
              "      <td>0.0</td>\n",
              "    </tr>\n",
              "    <tr>\n",
              "      <th>30</th>\n",
              "      <td>31.0</td>\n",
              "      <td>48528.85</td>\n",
              "      <td>NaN</td>\n",
              "      <td>6155.78</td>\n",
              "      <td>0.0</td>\n",
              "    </tr>\n",
              "    <tr>\n",
              "      <th>31</th>\n",
              "      <td>32.0</td>\n",
              "      <td>23526.30</td>\n",
              "      <td>NaN</td>\n",
              "      <td>2862.01</td>\n",
              "      <td>0.0</td>\n",
              "    </tr>\n",
              "  </tbody>\n",
              "</table>\n",
              "</div>"
            ],
            "text/plain": [
              "    clientid   SALARIO  IDADE  EMPRESTIMO  INADIMPLENCIA\n",
              "28      29.0  59417.81    NaN     2082.63            0.0\n",
              "30      31.0  48528.85    NaN     6155.78            0.0\n",
              "31      32.0  23526.30    NaN     2862.01            0.0"
            ]
          },
          "metadata": {
            "tags": []
          },
          "execution_count": 20
        }
      ]
    },
    {
      "cell_type": "markdown",
      "metadata": {
        "id": "-2ANK8pW8r2O"
      },
      "source": [
        "#### **03.b.ii.Substituir os valores ausentes com outro valor.**"
      ]
    },
    {
      "cell_type": "markdown",
      "metadata": {
        "id": "LTc5xo7b82vX"
      },
      "source": [
        "- Existem várias formas para substituir um valor ausente, isso pode variar para cada caso e para saber o melhor forma é recomendado realizar testes com diferentes caminhos.\n",
        " - Neste caso usarmos a média dos valores do atributo **`IDADE`**.\n",
        "\n",
        "- Para **preencher (*'fill'* em inglês)** os valores ausentes do atributo **`IDADE`** usaremos o método **`fillna`** desta forma:\n",
        "\n",
        "````\n",
        "df.IDADE.fillna(df.IDADE.mean(), inplace=True)\n",
        "````"
      ]
    },
    {
      "cell_type": "code",
      "metadata": {
        "id": "A44SCwF6S5zM"
      },
      "source": [
        "# SUBSTITUIR OS VALORES AUSENTES COM A MÉDIA DO ATRIBUTO IDADE\n",
        "df.IDADE.fillna(df.IDADE.mean(), inplace=True)"
      ],
      "execution_count": null,
      "outputs": []
    },
    {
      "cell_type": "markdown",
      "metadata": {
        "id": "S-13Ovte94ZG"
      },
      "source": [
        "#### **03.b.iii.Verificar se ainda há valores ausentes.**"
      ]
    },
    {
      "cell_type": "markdown",
      "metadata": {
        "id": "HqlNs1e9990_"
      },
      "source": [
        "- Para verificar se ainda há valores ausentes após a operação do item anterior, usaremos os métodos **`isnull()`** e **`sum()`** desta forma:\n",
        "\n",
        "````\n",
        "df.isnull().sum()\n",
        "````"
      ]
    },
    {
      "cell_type": "code",
      "metadata": {
        "colab": {
          "base_uri": "https://localhost:8080/"
        },
        "id": "HYCKXY8KTLLt",
        "outputId": "855d35eb-1ef5-47a2-d5c2-585a615b9355"
      },
      "source": [
        "# VERIFICAR SE AINDA HÁ DADOS AUSENTES.\n",
        "df.isnull().sum()"
      ],
      "execution_count": null,
      "outputs": [
        {
          "output_type": "execute_result",
          "data": {
            "text/plain": [
              "clientid         0\n",
              "SALARIO          0\n",
              "IDADE            0\n",
              "EMPRESTIMO       0\n",
              "INADIMPLENCIA    0\n",
              "dtype: int64"
            ]
          },
          "metadata": {
            "tags": []
          },
          "execution_count": 22
        }
      ]
    },
    {
      "cell_type": "markdown",
      "metadata": {
        "id": "6HQjUUpyDSeM"
      },
      "source": [
        "### **03.c.Exportar os dados tratados.**"
      ]
    },
    {
      "cell_type": "markdown",
      "metadata": {
        "id": "sCZfO90WDZmL"
      },
      "source": [
        "- Agora que já tratamos os dados, vamos exportá-los para que possamos usar no site que iremos construir para este projeto.\n",
        "\n",
        "- Para exportar os dados com o nome **`dados_de_credito_limpo.csv`** vamos usar o método **`to_csv( ) `** e desta forma:\n",
        "\n",
        "````\n",
        "df.to_csv('dados_de_credito_limpo.csv', index=False)\n",
        "````\n"
      ]
    },
    {
      "cell_type": "code",
      "metadata": {
        "id": "hfM_FJ8IlM7v"
      },
      "source": [
        "# EXPORTAR BASE DE DADOS LIMPA\n",
        "df.to_csv('dados_de_credito_limpo.csv', index=False)"
      ],
      "execution_count": null,
      "outputs": []
    },
    {
      "cell_type": "markdown",
      "metadata": {
        "id": "DtzpjkxzTU3N"
      },
      "source": [
        "### **03.d.Dividir dados entre atributos preditores e atributo alvo.**"
      ]
    },
    {
      "cell_type": "markdown",
      "metadata": {
        "id": "WaUSQMyBI7oo"
      },
      "source": [
        " <center><img src=\"https://raw.githubusercontent.com/rafael-arevalo/orbeai/master/M06_DADOS_ATRIBUTOS_PREDITORES_E_ALVO.png\" height=\"300px\"></center>"
      ]
    },
    {
      "cell_type": "markdown",
      "metadata": {
        "id": "XLlYwV3EFalD"
      },
      "source": [
        "#### **03.d.i.Relembrar todos os atributos.**"
      ]
    },
    {
      "cell_type": "markdown",
      "metadata": {
        "id": "Os-xwwIqE5cF"
      },
      "source": [
        "- Para ficar mais claro a divisão de atributos preditores e atributo alvo (coluna **INADIMPLENCIA**), vamos relembrar os atributos com o método **`head( )`** desta forma:\n",
        "\n",
        "````\n",
        "df.head()\n",
        "````\n"
      ]
    },
    {
      "cell_type": "code",
      "metadata": {
        "colab": {
          "base_uri": "https://localhost:8080/",
          "height": 203
        },
        "id": "tFXMHAuqFOdb",
        "outputId": "7e0ab257-f77f-430b-adf3-c45997db4345"
      },
      "source": [
        "# VISUALIZAR NOVAMENTE OS ATRIBUTOS COM O MÉTODO head().\n",
        "df.head()"
      ],
      "execution_count": null,
      "outputs": [
        {
          "output_type": "execute_result",
          "data": {
            "text/html": [
              "<div>\n",
              "<style scoped>\n",
              "    .dataframe tbody tr th:only-of-type {\n",
              "        vertical-align: middle;\n",
              "    }\n",
              "\n",
              "    .dataframe tbody tr th {\n",
              "        vertical-align: top;\n",
              "    }\n",
              "\n",
              "    .dataframe thead th {\n",
              "        text-align: right;\n",
              "    }\n",
              "</style>\n",
              "<table border=\"1\" class=\"dataframe\">\n",
              "  <thead>\n",
              "    <tr style=\"text-align: right;\">\n",
              "      <th></th>\n",
              "      <th>clientid</th>\n",
              "      <th>SALARIO</th>\n",
              "      <th>IDADE</th>\n",
              "      <th>EMPRESTIMO</th>\n",
              "      <th>INADIMPLENCIA</th>\n",
              "    </tr>\n",
              "  </thead>\n",
              "  <tbody>\n",
              "    <tr>\n",
              "      <th>0</th>\n",
              "      <td>1.0</td>\n",
              "      <td>66155.93</td>\n",
              "      <td>59.02</td>\n",
              "      <td>8106.53</td>\n",
              "      <td>0.0</td>\n",
              "    </tr>\n",
              "    <tr>\n",
              "      <th>1</th>\n",
              "      <td>2.0</td>\n",
              "      <td>34415.15</td>\n",
              "      <td>48.12</td>\n",
              "      <td>6564.75</td>\n",
              "      <td>0.0</td>\n",
              "    </tr>\n",
              "    <tr>\n",
              "      <th>2</th>\n",
              "      <td>3.0</td>\n",
              "      <td>57317.17</td>\n",
              "      <td>63.11</td>\n",
              "      <td>8020.95</td>\n",
              "      <td>0.0</td>\n",
              "    </tr>\n",
              "    <tr>\n",
              "      <th>3</th>\n",
              "      <td>4.0</td>\n",
              "      <td>42709.53</td>\n",
              "      <td>45.75</td>\n",
              "      <td>6103.64</td>\n",
              "      <td>0.0</td>\n",
              "    </tr>\n",
              "    <tr>\n",
              "      <th>4</th>\n",
              "      <td>5.0</td>\n",
              "      <td>66952.69</td>\n",
              "      <td>18.58</td>\n",
              "      <td>8770.10</td>\n",
              "      <td>1.0</td>\n",
              "    </tr>\n",
              "  </tbody>\n",
              "</table>\n",
              "</div>"
            ],
            "text/plain": [
              "   clientid   SALARIO  IDADE  EMPRESTIMO  INADIMPLENCIA\n",
              "0       1.0  66155.93  59.02     8106.53            0.0\n",
              "1       2.0  34415.15  48.12     6564.75            0.0\n",
              "2       3.0  57317.17  63.11     8020.95            0.0\n",
              "3       4.0  42709.53  45.75     6103.64            0.0\n",
              "4       5.0  66952.69  18.58     8770.10            1.0"
            ]
          },
          "metadata": {
            "tags": []
          },
          "execution_count": 24
        }
      ]
    },
    {
      "cell_type": "markdown",
      "metadata": {
        "id": "--Cllm2QFf3b"
      },
      "source": [
        "#### **03.d.ii.Separar os atributos preditores.**"
      ]
    },
    {
      "cell_type": "markdown",
      "metadata": {
        "id": "EqWaC1QyT1pJ"
      },
      "source": [
        "- Para **localizar** somente os atributos preditores vamos usar o comando **`iloc`**, que **localiza** uma linha ou coluna através do seu **Í**ndice numérico.\n",
        "\n",
        "- Vale lembrar que:\n",
        " -  O atributo **`clientid`** (índice da coluna 0 'ZERO') não nos interessa e por isso não fará parte dos atributos preditores.\n",
        " - A notação para pegar fatias do *DataFrame* funciona desta forma:\n",
        "   - Usamos uma \",\" (vírgula) para separar entre listas e colunas do *DataFrame*:\n",
        "     - [**linhas**,**colunas**] \n",
        "   - Usamos \":\" (dois pontos) para indicar o início e o final da nossa fatia/pedaço de dados. Observação: o índice que indica o final da nossa fatia é \"não incluso\", ou seja, não é incluida na nossa fatia.\n",
        "     - [**linha inicial**:**linha final**,**coluna inicial**:**coluna final**]\n",
        "       - neste caso, a **coluna final** não é incluida.\n",
        "\n",
        "- Para separar os atributos preditores usamos o comando **`iloc`** desta forma:\n",
        "\n",
        "````\n",
        "X_atributos_preditores = df.iloc[:,1:4].values\n",
        "````\n",
        "\n",
        "\n",
        "\n",
        "\n"
      ]
    },
    {
      "cell_type": "code",
      "metadata": {
        "id": "L1SBLnZYT-yJ"
      },
      "source": [
        "# SEPARANDO OS ATRIBUTOS PREDITORES. \n",
        "X_atributos_preditores = df.iloc[:,1:4].values"
      ],
      "execution_count": null,
      "outputs": []
    },
    {
      "cell_type": "markdown",
      "metadata": {
        "id": "yJ0Afg_-UdRg"
      },
      "source": [
        "- Separar o atributo alvo (coluna **`INADIMPLENCIA`**).\n",
        "\n",
        "- Para isso usaremos o comando **`iloc`** desta forma:\n",
        "\n",
        "````\n",
        "y_atributo_alvo = df.iloc[:,4].values\n",
        "````\n"
      ]
    },
    {
      "cell_type": "code",
      "metadata": {
        "id": "Npax6uKmUfre"
      },
      "source": [
        "# ATRIBUTO ALVO\n",
        "y_atributo_alvo = df.iloc[:,4].values"
      ],
      "execution_count": null,
      "outputs": []
    },
    {
      "cell_type": "markdown",
      "metadata": {
        "id": "Ei-kp3WGUobt"
      },
      "source": [
        "### **03.e.Escalonar os atributos preditores.**"
      ]
    },
    {
      "cell_type": "markdown",
      "metadata": {
        "id": "RbjaYoX8RF8T"
      },
      "source": [
        "#### **03.e.i.Escalonamento.**"
      ]
    },
    {
      "cell_type": "markdown",
      "metadata": {
        "id": "1LjQE0SYMteO"
      },
      "source": [
        "- Iremos trabalhar com o **K-NN** que é um algoritmo de aprendizagem que calcula a distância entre os dados para poder realizar a tarefa de classificação. \n",
        "\n",
        "- Porém, cada atributo tem valores numéricos de diferentes grandezas. Exemplo:\n",
        "\n",
        "  - Valor máximo do atributo **`IDADE`**: 63\n",
        "  - Valor máximo do atributo **`SALARIO`**: 69'995\n",
        "\n",
        "- Para garantir que **K-NN** tenha um bom desempenho temos que realizar o **escalonamento**, ou seja, **deixar os dados em uma mesma escala** numérica.\n",
        "  - Observação: segue imagem usada na aula teórica para ilustrar o **escalonamento** dos dados sobre PESO (Kg), ALTURA (cm) e TAMANHO DA CALÇA.\n",
        "\n",
        " <center><img src=\"https://raw.githubusercontent.com/rafael-arevalo/orbeai/master/M06_DAD0S_ESCALONAMENTO.png\" height=\"300px\"></center>"
      ]
    },
    {
      "cell_type": "code",
      "metadata": {
        "colab": {
          "base_uri": "https://localhost:8080/",
          "height": 295
        },
        "id": "z9iX2IIHUuBP",
        "outputId": "5321d825-a1a9-4459-d4a9-7022595b044f"
      },
      "source": [
        "# Visualizando a diferença de escala entre os valores do atributo.\n",
        "df.describe()"
      ],
      "execution_count": null,
      "outputs": [
        {
          "output_type": "execute_result",
          "data": {
            "text/html": [
              "<div>\n",
              "<style scoped>\n",
              "    .dataframe tbody tr th:only-of-type {\n",
              "        vertical-align: middle;\n",
              "    }\n",
              "\n",
              "    .dataframe tbody tr th {\n",
              "        vertical-align: top;\n",
              "    }\n",
              "\n",
              "    .dataframe thead th {\n",
              "        text-align: right;\n",
              "    }\n",
              "</style>\n",
              "<table border=\"1\" class=\"dataframe\">\n",
              "  <thead>\n",
              "    <tr style=\"text-align: right;\">\n",
              "      <th></th>\n",
              "      <th>clientid</th>\n",
              "      <th>SALARIO</th>\n",
              "      <th>IDADE</th>\n",
              "      <th>EMPRESTIMO</th>\n",
              "      <th>INADIMPLENCIA</th>\n",
              "    </tr>\n",
              "  </thead>\n",
              "  <tbody>\n",
              "    <tr>\n",
              "      <th>count</th>\n",
              "      <td>1997.000000</td>\n",
              "      <td>1997.000000</td>\n",
              "      <td>1997.000000</td>\n",
              "      <td>1997.000000</td>\n",
              "      <td>1997.000000</td>\n",
              "    </tr>\n",
              "    <tr>\n",
              "      <th>mean</th>\n",
              "      <td>1001.970456</td>\n",
              "      <td>45326.596630</td>\n",
              "      <td>40.927803</td>\n",
              "      <td>4442.124502</td>\n",
              "      <td>0.141713</td>\n",
              "    </tr>\n",
              "    <tr>\n",
              "      <th>std</th>\n",
              "      <td>576.679293</td>\n",
              "      <td>14327.971571</td>\n",
              "      <td>13.261895</td>\n",
              "      <td>3045.494160</td>\n",
              "      <td>0.348842</td>\n",
              "    </tr>\n",
              "    <tr>\n",
              "      <th>min</th>\n",
              "      <td>1.000000</td>\n",
              "      <td>20014.490000</td>\n",
              "      <td>18.060000</td>\n",
              "      <td>1.380000</td>\n",
              "      <td>0.000000</td>\n",
              "    </tr>\n",
              "    <tr>\n",
              "      <th>25%</th>\n",
              "      <td>503.000000</td>\n",
              "      <td>32804.900000</td>\n",
              "      <td>29.070000</td>\n",
              "      <td>1936.810000</td>\n",
              "      <td>0.000000</td>\n",
              "    </tr>\n",
              "    <tr>\n",
              "      <th>50%</th>\n",
              "      <td>1002.000000</td>\n",
              "      <td>45788.750000</td>\n",
              "      <td>41.320000</td>\n",
              "      <td>3971.160000</td>\n",
              "      <td>0.000000</td>\n",
              "    </tr>\n",
              "    <tr>\n",
              "      <th>75%</th>\n",
              "      <td>1501.000000</td>\n",
              "      <td>57787.570000</td>\n",
              "      <td>52.590000</td>\n",
              "      <td>6429.590000</td>\n",
              "      <td>0.000000</td>\n",
              "    </tr>\n",
              "    <tr>\n",
              "      <th>max</th>\n",
              "      <td>2000.000000</td>\n",
              "      <td>69995.690000</td>\n",
              "      <td>63.970000</td>\n",
              "      <td>13766.050000</td>\n",
              "      <td>1.000000</td>\n",
              "    </tr>\n",
              "  </tbody>\n",
              "</table>\n",
              "</div>"
            ],
            "text/plain": [
              "          clientid       SALARIO        IDADE    EMPRESTIMO  INADIMPLENCIA\n",
              "count  1997.000000   1997.000000  1997.000000   1997.000000    1997.000000\n",
              "mean   1001.970456  45326.596630    40.927803   4442.124502       0.141713\n",
              "std     576.679293  14327.971571    13.261895   3045.494160       0.348842\n",
              "min       1.000000  20014.490000    18.060000      1.380000       0.000000\n",
              "25%     503.000000  32804.900000    29.070000   1936.810000       0.000000\n",
              "50%    1002.000000  45788.750000    41.320000   3971.160000       0.000000\n",
              "75%    1501.000000  57787.570000    52.590000   6429.590000       0.000000\n",
              "max    2000.000000  69995.690000    63.970000  13766.050000       1.000000"
            ]
          },
          "metadata": {
            "tags": []
          },
          "execution_count": 27
        }
      ]
    },
    {
      "cell_type": "markdown",
      "metadata": {
        "id": "2Gkm5Bf5RM--"
      },
      "source": [
        "#### **03.e.ii.Escalonar os atributos preditores.**"
      ]
    },
    {
      "cell_type": "markdown",
      "metadata": {
        "id": "JQPjvGZXRS0M"
      },
      "source": [
        " <center><img src=\"https://raw.githubusercontent.com/rafael-arevalo/orbeai/master/M06_DAD0S_ESCALONAMENTO_ATRIBUTOS_PREDITORES.png\" height=\"300px\"></center>\n",
        "\n",
        "\n",
        "- Há várias formas de escalonamento. \n",
        "- Neste projeto usaremos a padronização (media = 0 'zero' e desvio padrão = 1).\n",
        "- Para realizar o escalonamento dos atributos preditores (X_atributos_preditores) iremos usar o comando **`StandardScaler( )`** da biblioteca para algorimos de *Machine Learning* **Scikit-learn** (**`sklearn`**) desta forma:\n",
        "\n",
        "  - **01.Importar StandardScaler:**\n",
        "\n",
        "    ````\n",
        "    from sklearn.preprocessing import StandardScaler\n",
        "    ````\n",
        "\n",
        "  - **02.Criar o objeto que irá escalonar os dados:**\n",
        "\n",
        "    ````\n",
        "    escalonador = StandardScaler()\n",
        "    `````\n",
        "\n",
        "  - **03.Escalonar os dados dos atributos preditores (X_atributos_preditores).**\n",
        "\n",
        "    ````\n",
        "    X_atributos_preditores = escalonador.fit_transform(X_atributos_preditores)\n",
        "    ````\n"
      ]
    },
    {
      "cell_type": "code",
      "metadata": {
        "id": "Gow_JV4SU1s6"
      },
      "source": [
        "# 01.IMPORTAR O StandardScaler.\n",
        "from sklearn.preprocessing import StandardScaler\n",
        "\n",
        "# 02.CRIAR O OBJETO QUE IRÁ ESCALONAR OS DADOS.\n",
        "escalonador = StandardScaler()\n",
        "\n",
        "# 03.ESCALONAR OS DADOS DOS ATRIBUTOS PREDITORES.\n",
        "X_atributos_preditores = escalonador.fit_transform(X_atributos_preditores)"
      ],
      "execution_count": null,
      "outputs": []
    },
    {
      "cell_type": "markdown",
      "metadata": {
        "id": "OsIXaaf9jCGj"
      },
      "source": [
        "- Verificar o valor máximo e mínimo dos atributos preditores após o escalonamento.\n",
        "\n",
        "  - **Valor máximo**:\n",
        "\n",
        "  ````\n",
        "  X_atributos_preditores.max()\n",
        "  `````\n",
        "\n",
        "  - **Valor mínimo**:\n",
        "\n",
        "  ````\n",
        "  X_atributos_preditores.min()\n",
        "  ````\n",
        "\n"
      ]
    },
    {
      "cell_type": "code",
      "metadata": {
        "colab": {
          "base_uri": "https://localhost:8080/"
        },
        "id": "iYf-2PX6VlS2",
        "outputId": "f4c6b511-b8d2-4a80-e757-b53e65e2b00a"
      },
      "source": [
        "# VALOR MÍNIMO\n",
        "X_atributos_preditores.min()"
      ],
      "execution_count": null,
      "outputs": [
        {
          "output_type": "execute_result",
          "data": {
            "text/plain": [
              "-1.76706426431113"
            ]
          },
          "metadata": {
            "tags": []
          },
          "execution_count": 29
        }
      ]
    },
    {
      "cell_type": "code",
      "metadata": {
        "colab": {
          "base_uri": "https://localhost:8080/"
        },
        "id": "9NxFqG4EVmcs",
        "outputId": "525fc279-1906-4da6-f476-d8f750822632"
      },
      "source": [
        "# VALOR MÁXIMO\n",
        "X_atributos_preditores.max()"
      ],
      "execution_count": null,
      "outputs": [
        {
          "output_type": "execute_result",
          "data": {
            "text/plain": [
              "3.062314477381558"
            ]
          },
          "metadata": {
            "tags": []
          },
          "execution_count": 30
        }
      ]
    },
    {
      "cell_type": "markdown",
      "metadata": {
        "id": "BQAxneM8V1nW"
      },
      "source": [
        "### **03.f.Dividir dados em base de treino e teste.**"
      ]
    },
    {
      "cell_type": "markdown",
      "metadata": {
        "id": "xM7wgxXxmZlj"
      },
      "source": [
        " <center><img src=\"https://raw.githubusercontent.com/rafael-arevalo/orbeai/master/M06_DADOS_TREINO_E_TESTE_A.png\" height=\"300px\"></center>\n",
        "\n",
        "- Para dividir os dados em base de dados de treino e base de dados de teste, temos que importar da biblioteca **scikit-learn** o comando **`train_test_split`** desta forma:\n",
        "\n",
        "  - **01.A PARTIR DA BIBLIOTECA SCIKIT-LEARN IMPORTAR COMANDO train_test_split:**\n",
        "\n",
        "    ````\n",
        "    from sklearn.model_selection import train_test_split\n",
        "    ````\n",
        "- Para realizar a divisão entre base de treino e base de teste usamos o método **`train_test_split`** da seguinte forma:\n",
        "   - parâmetro **`test_size`**:\n",
        "     -  é o tamanho da base de teste. Neste caso está como **`0.25`**, ou seja, 25% dos dados. (não é uma regra para esta quantidade e com o tempo aprenderemos formas mais avançadas de dividir base de treino e teste). \n",
        "   - parâmetro **`random_state`**:\n",
        "     - indica se no momento de dividir os dados entre base de treino e de teste, irá pegar os dados de forma randômica/aleatória ou não. Neste caso atribui o valor **`0`** 'Zero' para os dados não sejam selecionados de forma randômica e assim garatir que o resultado do meu projeto seja extamente igual a de cada aluno.\n",
        "\n",
        "  - **02.DIVIDIR DADOS ENTRE TREINO E TESTE - ATRIBUTOS PREDITORES E ATRIBUTO ALVO:**\n",
        "    ```\n",
        "    X_treino, X_teste, y_treino, y_teste = train_test_split(X_atributos_preditores,y_atributo_alvo, test_size=0.25, random_state=0)\n",
        "    ```\n",
        "\n",
        " <center><img src=\"https://raw.githubusercontent.com/rafael-arevalo/orbeai/master/M06_DADOS_TREINO_E_TESTE_B.png\" height=\"300px\"></center>\n"
      ]
    },
    {
      "cell_type": "code",
      "metadata": {
        "id": "FS1iZAYRWBHR"
      },
      "source": [
        "# 01.A PARTIR DA BIBLIOTECA SCIKIT-LEARN IMPORTAR COMANDO train_test_split\n",
        "from sklearn.model_selection import train_test_split"
      ],
      "execution_count": null,
      "outputs": []
    },
    {
      "cell_type": "code",
      "metadata": {
        "id": "ObirnEPRWOKU"
      },
      "source": [
        "# 02.DIVIDIR DADOS ENTRE TREINO E TESTE - ATRIBUTOS PREDITORES E ATRIBUTO ALVO.\n",
        "X_treino, X_teste, y_treino, y_teste = train_test_split(X_atributos_preditores,y_atributo_alvo, test_size=0.25, random_state=0)"
      ],
      "execution_count": null,
      "outputs": []
    },
    {
      "cell_type": "code",
      "metadata": {
        "colab": {
          "base_uri": "https://localhost:8080/"
        },
        "id": "fMjxJDmrYKkD",
        "outputId": "f80e93d0-0416-4621-c43d-d679def2c51c"
      },
      "source": [
        "# QUANTIDADE DE LINHAS E CULUNAS DE X_treino.\n",
        "print(\"Quantidade de linhas e colunas de X_treino: {} \".format(X_treino.shape))"
      ],
      "execution_count": null,
      "outputs": [
        {
          "output_type": "stream",
          "text": [
            "Quantidade de linhas e colunas de X_treino: (1497, 3) \n"
          ],
          "name": "stdout"
        }
      ]
    },
    {
      "cell_type": "code",
      "metadata": {
        "colab": {
          "base_uri": "https://localhost:8080/"
        },
        "id": "vIQd_BF3YlB4",
        "outputId": "999d752d-3ac2-4e1d-fa68-88dea1648f73"
      },
      "source": [
        "# QUANTIDADE DE LINHAS E CULUNAS DE X_teste.\n",
        "print(\"Quantidade de linhas e colunas de X_teste: {} \".format(X_teste.shape))"
      ],
      "execution_count": null,
      "outputs": [
        {
          "output_type": "stream",
          "text": [
            "Quantidade de linhas e colunas de X_teste: (500, 3) \n"
          ],
          "name": "stdout"
        }
      ]
    },
    {
      "cell_type": "code",
      "metadata": {
        "colab": {
          "base_uri": "https://localhost:8080/"
        },
        "id": "JYZadg9dYqnw",
        "outputId": "58d9ac39-311f-48c6-c961-1cf9923e83c5"
      },
      "source": [
        "# QUANTIDADE DE LINHAS E CULUNAS DE y_treino.\n",
        "print(\"Quantidade de linhas e colunas de y_treino: {} \".format(y_treino.shape))"
      ],
      "execution_count": null,
      "outputs": [
        {
          "output_type": "stream",
          "text": [
            "Quantidade de linhas e colunas de y_treino: (1497,) \n"
          ],
          "name": "stdout"
        }
      ]
    },
    {
      "cell_type": "code",
      "metadata": {
        "colab": {
          "base_uri": "https://localhost:8080/"
        },
        "id": "3KqLO5ZHYvnH",
        "outputId": "96678364-8006-42e7-989c-ae2d50d7fff9"
      },
      "source": [
        "# QUANTIDADE DE LINHAS E CULUNAS DE y_teste.\n",
        "print(\"Quantidade de linhas e colunas de y_teste: {} \".format(y_teste.shape))"
      ],
      "execution_count": null,
      "outputs": [
        {
          "output_type": "stream",
          "text": [
            "Quantidade de linhas e colunas de y_teste: (500,) \n"
          ],
          "name": "stdout"
        }
      ]
    },
    {
      "cell_type": "code",
      "metadata": {
        "id": "xLBnlVXhZX0m",
        "colab": {
          "base_uri": "https://localhost:8080/"
        },
        "outputId": "1a579703-0617-466f-ac8e-01ec5ff7e671"
      },
      "source": [
        "y_teste"
      ],
      "execution_count": null,
      "outputs": [
        {
          "output_type": "execute_result",
          "data": {
            "text/plain": [
              "array([0., 0., 0., 1., 0., 0., 0., 0., 0., 0., 0., 0., 0., 0., 0., 0., 0.,\n",
              "       0., 1., 0., 0., 0., 1., 1., 0., 1., 1., 0., 0., 0., 0., 0., 0., 0.,\n",
              "       0., 0., 0., 0., 0., 1., 0., 0., 0., 0., 0., 0., 0., 0., 0., 0., 0.,\n",
              "       0., 0., 1., 0., 0., 0., 0., 0., 0., 0., 0., 0., 0., 0., 0., 0., 0.,\n",
              "       0., 0., 0., 0., 1., 0., 0., 0., 0., 1., 1., 0., 0., 0., 0., 0., 1.,\n",
              "       0., 0., 0., 0., 1., 1., 0., 0., 0., 0., 0., 0., 0., 0., 0., 0., 1.,\n",
              "       0., 0., 0., 1., 0., 0., 0., 0., 0., 0., 0., 1., 0., 0., 0., 0., 0.,\n",
              "       0., 0., 0., 0., 1., 0., 1., 0., 0., 1., 0., 0., 0., 0., 0., 0., 0.,\n",
              "       0., 0., 0., 0., 0., 0., 0., 0., 0., 0., 0., 1., 0., 0., 0., 0., 1.,\n",
              "       0., 0., 0., 0., 0., 0., 0., 0., 0., 0., 0., 0., 0., 0., 0., 0., 0.,\n",
              "       0., 0., 0., 1., 0., 0., 0., 1., 0., 0., 0., 0., 0., 0., 0., 0., 0.,\n",
              "       0., 0., 0., 1., 0., 0., 0., 1., 0., 0., 0., 0., 0., 0., 0., 0., 0.,\n",
              "       0., 1., 0., 0., 0., 0., 0., 0., 0., 0., 0., 0., 0., 0., 0., 0., 1.,\n",
              "       1., 0., 0., 0., 0., 0., 0., 0., 1., 0., 0., 0., 0., 1., 1., 1., 0.,\n",
              "       0., 0., 0., 0., 0., 0., 0., 0., 0., 0., 1., 0., 0., 0., 0., 0., 0.,\n",
              "       0., 0., 0., 0., 0., 0., 0., 0., 0., 0., 0., 0., 0., 0., 0., 0., 0.,\n",
              "       0., 0., 1., 0., 0., 0., 0., 0., 0., 0., 0., 0., 0., 0., 0., 1., 0.,\n",
              "       0., 0., 0., 0., 0., 0., 0., 1., 0., 0., 0., 0., 0., 0., 0., 0., 0.,\n",
              "       1., 0., 1., 0., 0., 0., 0., 0., 0., 1., 0., 1., 0., 1., 0., 0., 0.,\n",
              "       0., 0., 0., 0., 0., 0., 0., 1., 0., 0., 0., 0., 0., 0., 0., 0., 0.,\n",
              "       0., 1., 0., 0., 0., 0., 0., 0., 0., 0., 0., 0., 0., 0., 0., 0., 0.,\n",
              "       0., 0., 0., 1., 0., 0., 0., 0., 0., 1., 0., 0., 0., 0., 0., 1., 0.,\n",
              "       0., 0., 1., 0., 1., 0., 0., 0., 0., 0., 0., 0., 0., 0., 0., 1., 1.,\n",
              "       0., 0., 0., 0., 0., 0., 0., 0., 0., 0., 0., 0., 0., 0., 1., 1., 0.,\n",
              "       1., 0., 0., 0., 0., 0., 0., 0., 0., 1., 0., 0., 0., 0., 0., 0., 0.,\n",
              "       0., 1., 0., 0., 0., 0., 0., 0., 0., 0., 0., 0., 0., 0., 0., 0., 1.,\n",
              "       1., 0., 1., 0., 0., 0., 0., 0., 0., 0., 0., 0., 0., 0., 0., 0., 0.,\n",
              "       0., 0., 1., 0., 1., 1., 0., 0., 0., 0., 0., 0., 0., 0., 1., 1., 0.,\n",
              "       0., 1., 0., 1., 0., 0., 0., 0., 1., 0., 0., 0., 0., 0., 1., 0., 0.,\n",
              "       0., 0., 0., 0., 0., 0., 0.])"
            ]
          },
          "metadata": {
            "tags": []
          },
          "execution_count": 37
        }
      ]
    },
    {
      "cell_type": "markdown",
      "metadata": {
        "id": "uvGX3kPsW_yL"
      },
      "source": [
        "## **04.TREINAR O MODELO DE CLASSIFICAÇÃO.**"
      ]
    },
    {
      "cell_type": "markdown",
      "metadata": {
        "id": "P_ECCB_OxoEu"
      },
      "source": [
        " <center><img src=\"https://raw.githubusercontent.com/rafael-arevalo/orbeai/master/M06_CRISP-DM_05_MODELAGEM.png\" height=\"300px\"></center>"
      ]
    },
    {
      "cell_type": "markdown",
      "metadata": {
        "id": "IlG9GoyIo6D6"
      },
      "source": [
        "\n",
        "\n",
        "- Para treinamos o algortimo de aprendizagem **K-NN** com os dados de treino e assim gerar um **modelo** que realize a **tarefa de classificação**, temos que seguir os passos a seguir:\n",
        "\n",
        " - **01.Importar o algoritmo de aprendizagem K-NN para a tarefa de classificação:**\n",
        "    `````\n",
        "    from sklearn.neighbors import KNeighborsClassifier\n",
        "    `````\n",
        "\n",
        " - **02.Usar o K-NN e seus parâmetros para criar um modelo:**\n",
        "   - parâmetro **`n_neighbors`**: quantidade de vizinhos mais próximos ('K') para usar na classificação. \n",
        "   - parâmetro **`metric`**: forma de se realizar o cálculo de distância entre os dados.\n",
        "   - parâmetro **`p`**: tipo de distância escolhida para realizar o cálculo de distância.\n",
        "     - p=2 (distância euclidiana)\n",
        "     \n",
        "    `````\n",
        "    modelo_knn_classificacao = KNeighborsClassifier(n_neighbors=5,metric='minkowski', p=2)\n",
        "    `````\n",
        "\n",
        " - **03.Treinar o modelo com os dados de treino:**\n",
        "    `````\n",
        "    modelo_knn_classificacao.fit(X_treino,y_treino)\n",
        "    `````\n",
        "\n",
        "<center><img src=\"https://raw.githubusercontent.com/rafael-arevalo/orbeai/master/M06_TREINO.png\" height=\"400px\"></center>\n",
        "\n",
        "\n",
        " - **04.Usar o modelo  e os dados de teste (X_teste) para realizar as predições:**\n",
        "    `````\n",
        "    predicoes = modelo_knn_classificacao.predict(X_teste)\n",
        "    `````\n",
        "<center><img src=\"https://raw.githubusercontent.com/rafael-arevalo/orbeai/master/M06_TESTE.png\" height=\"400px\"></center>"
      ]
    },
    {
      "cell_type": "code",
      "metadata": {
        "id": "lDQGrGXIXPHC"
      },
      "source": [
        "# 01.Importar o algoritmo de aprendizagem K-NN para a tarefa de classificação.\n",
        "from sklearn.neighbors import KNeighborsClassifier"
      ],
      "execution_count": null,
      "outputs": []
    },
    {
      "cell_type": "code",
      "metadata": {
        "id": "W_lDmnppXumk"
      },
      "source": [
        "# 02.Usar o K-NN e seus parâmetros para criar um modelo.\n",
        "modelo_knn_classificacao = KNeighborsClassifier(n_neighbors=5,metric='minkowski', p=2)"
      ],
      "execution_count": null,
      "outputs": []
    },
    {
      "cell_type": "code",
      "metadata": {
        "id": "WyrNA6sCYBGe",
        "colab": {
          "base_uri": "https://localhost:8080/"
        },
        "outputId": "b6a223de-b80d-48e3-8852-f4216f725260"
      },
      "source": [
        "# 03.Treinar o modelo com os dados de treino.\n",
        "modelo_knn_classificacao.fit(X_treino,y_treino)"
      ],
      "execution_count": null,
      "outputs": [
        {
          "output_type": "execute_result",
          "data": {
            "text/plain": [
              "KNeighborsClassifier(algorithm='auto', leaf_size=30, metric='minkowski',\n",
              "                     metric_params=None, n_jobs=None, n_neighbors=5, p=2,\n",
              "                     weights='uniform')"
            ]
          },
          "metadata": {
            "tags": []
          },
          "execution_count": 40
        }
      ]
    },
    {
      "cell_type": "code",
      "metadata": {
        "id": "yZSEpH3DYMku"
      },
      "source": [
        "# 04.Usar o modelo e os dados de teste (X_teste) para realizar as predições.\n",
        "predicoes = modelo_knn_classificacao.predict(X_teste)"
      ],
      "execution_count": null,
      "outputs": []
    },
    {
      "cell_type": "markdown",
      "metadata": {
        "id": "X-btw_dhYehz"
      },
      "source": [
        "## **05.AVALIAR O MODELO.**"
      ]
    },
    {
      "cell_type": "markdown",
      "metadata": {
        "id": "5bS56mEopI33"
      },
      "source": [
        " <center><img src=\"https://raw.githubusercontent.com/rafael-arevalo/orbeai/master/M06_CRISP-DM_06_AVALIACAO.png\" height=\"300px\"></center>"
      ]
    },
    {
      "cell_type": "markdown",
      "metadata": {
        "id": "ExjkMLxyAnZE"
      },
      "source": [
        "<center><img src=\"https://raw.githubusercontent.com/rafael-arevalo/orbeai/master/M06_TESTE.png\" height=\"400px\"></center>\n",
        "\n",
        "- Para avaliarmos o desempenho do modelo na tarefa de classificação temos que seguir o seguinte roteiro:\n",
        "\n",
        " - **01.A partir da biblioteca Scikit-learn importar as métricas de avaliação do desempenho do modelo de classificação:**\n",
        "   - **`accuracy_score`**: nos apresenta a métrica **acurácia**.\n",
        "   - **`classification_report`**: nos apresenta das métricas de **acurácia**, **precision (precisão)** e **recall**. \n",
        " ````\n",
        " from sklearn.metrics import accuracy_score, classification_report\n",
        " ````\n",
        " - **02.Verificar a acurácia do modelo a partir dos valores de `y_teste` e `predicoes`**.\n",
        " ````\n",
        " accuracy_score(y_teste,predicoes)\n",
        " ````\n",
        "\n",
        " - **03.Visualizar a matriz de confusão com a biblioteca de gráficos `Yellowbrick`**:\n",
        " ````\n",
        " from yellowbrick.classifier import ConfusionMatrix\n",
        " matriz_confusao = ConfusionMatrix(modelo_knn_classificacao)\n",
        " matriz_confusao.fit(X_treino,y_treino)\n",
        " matriz_confusao.score(X_teste,y_teste)\n",
        " ````\n",
        "\n",
        " - **04.Verificar os valores das métricas `precision`(precisão) e `recall` a partir da comparação entre os valores de `y_teste` e `predicoes`.**\n",
        " ````\n",
        " print(classification_report(y_teste,predicoes))\n",
        " `````"
      ]
    },
    {
      "cell_type": "code",
      "metadata": {
        "id": "RpuqdxJSYrJW"
      },
      "source": [
        "# 01.A partir da biblioteca Scikit-learn importar as métricas de avaliação do desempenho do modelo de classificação.\n",
        "from sklearn.metrics import accuracy_score, classification_report"
      ],
      "execution_count": null,
      "outputs": []
    },
    {
      "cell_type": "code",
      "metadata": {
        "colab": {
          "base_uri": "https://localhost:8080/"
        },
        "id": "Ruv-pTC1Y2a8",
        "outputId": "686674f7-8073-4b56-d84c-5d1da50f2be9"
      },
      "source": [
        "# 02.Verificar a acurácia do modelo a partir dos valores de y_teste e predicoes.\n",
        "accuracy_score(y_teste,predicoes)"
      ],
      "execution_count": null,
      "outputs": [
        {
          "output_type": "execute_result",
          "data": {
            "text/plain": [
              "0.98"
            ]
          },
          "metadata": {
            "tags": []
          },
          "execution_count": 43
        }
      ]
    },
    {
      "cell_type": "code",
      "metadata": {
        "colab": {
          "base_uri": "https://localhost:8080/",
          "height": 458
        },
        "id": "d6HKvcQ3ZDOQ",
        "outputId": "d652f62c-f2d5-407a-b717-5bea6244b58e"
      },
      "source": [
        "# 03.Visualizar a matriz de confusão com a biblioteca de gráficos Yellowbrick\n",
        "from yellowbrick.classifier import ConfusionMatrix\n",
        "matriz_confusao = ConfusionMatrix(modelo_knn_classificacao)\n",
        "matriz_confusao.fit(X_treino,y_treino)\n",
        "matriz_confusao.score(X_teste,y_teste)"
      ],
      "execution_count": null,
      "outputs": [
        {
          "output_type": "stream",
          "text": [
            "/usr/local/lib/python3.7/dist-packages/sklearn/utils/deprecation.py:144: FutureWarning:\n",
            "\n",
            "The sklearn.metrics.classification module is  deprecated in version 0.22 and will be removed in version 0.24. The corresponding classes / functions should instead be imported from sklearn.metrics. Anything that cannot be imported from sklearn.metrics is now part of the private API.\n",
            "\n"
          ],
          "name": "stderr"
        },
        {
          "output_type": "execute_result",
          "data": {
            "text/plain": [
              "0.98"
            ]
          },
          "metadata": {
            "tags": []
          },
          "execution_count": 44
        },
        {
          "output_type": "display_data",
          "data": {
            "image/png": "[encoded data removed]",
            "text/plain": [
              "<Figure size 576x396 with 1 Axes>"
            ]
          },
          "metadata": {
            "tags": []
          }
        }
      ]
    },
    {
      "cell_type": "code",
      "metadata": {
        "colab": {
          "base_uri": "https://localhost:8080/"
        },
        "id": "dADvJSO3ZraU",
        "outputId": "308902f9-68b3-410f-9889-2f26784476a6"
      },
      "source": [
        "# 04.Verificar os valores das métricas precision(precisão) e recall a partir da comparação entre os valores de y_teste e predicoes\n",
        "print(classification_report(y_teste,predicoes))"
      ],
      "execution_count": null,
      "outputs": [
        {
          "output_type": "stream",
          "text": [
            "              precision    recall  f1-score   support\n",
            "\n",
            "         0.0       0.99      0.99      0.99       432\n",
            "         1.0       0.93      0.93      0.93        68\n",
            "\n",
            "    accuracy                           0.98       500\n",
            "   macro avg       0.96      0.96      0.96       500\n",
            "weighted avg       0.98      0.98      0.98       500\n",
            "\n"
          ],
          "name": "stdout"
        }
      ]
    }
  ]
}